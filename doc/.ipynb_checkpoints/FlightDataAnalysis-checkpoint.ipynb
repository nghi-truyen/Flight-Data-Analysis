{
 "cells": [
  {
   "cell_type": "markdown",
   "metadata": {
    "id": "my3rUSgcYPRj"
   },
   "source": [
    "# Flight Data Analysis - Airbus"
   ]
  },
  {
   "cell_type": "code",
   "execution_count": 1,
   "metadata": {
    "executionInfo": {
     "elapsed": 3495,
     "status": "ok",
     "timestamp": 1607626133823,
     "user": {
      "displayName": "Nguyen Bao",
      "photoUrl": "https://lh3.googleusercontent.com/a-/AOh14Gjw7M03YsQjaWXfKVf3GckShdGXMown08YblXnIzQ=s64",
      "userId": "00428871316513598663"
     },
     "user_tz": -60
    },
    "id": "IK20cx_KYPRl"
   },
   "outputs": [],
   "source": [
    "import pandas as pd\n",
    "import matplotlib.pyplot as plt\n",
    "import numpy as np\n",
    "import scipy\n",
    "from scipy.stats import norm\n",
    "import warnings"
   ]
  },
  {
   "cell_type": "markdown",
   "metadata": {
    "id": "aVrFNjhbYPRt"
   },
   "source": [
    "## I. Data Set"
   ]
  },
  {
   "cell_type": "code",
   "execution_count": 2,
   "metadata": {
    "colab": {
     "base_uri": "https://localhost:8080/"
    },
    "executionInfo": {
     "elapsed": 5651,
     "status": "ok",
     "timestamp": 1607626135994,
     "user": {
      "displayName": "Nguyen Bao",
      "photoUrl": "https://lh3.googleusercontent.com/a-/AOh14Gjw7M03YsQjaWXfKVf3GckShdGXMown08YblXnIzQ=s64",
      "userId": "00428871316513598663"
     },
     "user_tz": -60
    },
    "id": "ymhaw-GDDMaD",
    "outputId": "26bcd7b4-f978-4432-f072-78bf53c4bb3b"
   },
   "outputs": [],
   "source": [
    "file_location = \"../DataSet/Dataset_ter.xlsx\"\n",
    "#\"../DataSet/INSA-AirbusFHS-DatasetPN_D-E-F.xlsx\"\n",
    "#\"../DataSet/Dataset_ter.xlsx\""
   ]
  },
  {
   "cell_type": "markdown",
   "metadata": {
    "id": "vLvDSuB8YPSB"
   },
   "source": [
    "##### Data preprocessing :"
   ]
  },
  {
   "cell_type": "code",
   "execution_count": 3,
   "metadata": {
    "executionInfo": {
     "elapsed": 5607,
     "status": "ok",
     "timestamp": 1607626136018,
     "user": {
      "displayName": "Nguyen Bao",
      "photoUrl": "https://lh3.googleusercontent.com/a-/AOh14Gjw7M03YsQjaWXfKVf3GckShdGXMown08YblXnIzQ=s64",
      "userId": "00428871316513598663"
     },
     "user_tz": -60
    },
    "id": "B3oYiGyjYPSB"
   },
   "outputs": [],
   "source": [
    "def preprocessing(file_location):\n",
    "    # Import data\n",
    "    Removals = pd.read_excel(file_location, sheet_name='Removals')\n",
    "    SNlist = pd.read_excel(file_location, sheet_name='SN list')\n",
    "    airlines = pd.read_excel(file_location, sheet_name='Airlines')\n",
    "\n",
    "    # Combining Removals and SNlist :\n",
    "    fail_and_not = SNlist.copy()\n",
    "    fail_and_not['On_Aircraft'] = False\n",
    "    onaircraft_fan = fail_and_not['On_Aircraft']\n",
    "    with warnings.catch_warnings():\n",
    "        warnings.filterwarnings(\"ignore\")\n",
    "        onaircraft_fan[fail_and_not['Current SN Status Description']=='On Aircraft']=True\n",
    "    fail_and_not['On_Aircraft'] = onaircraft_fan\n",
    "    fail_and_not['failed'] = False\n",
    "    failed_fan = fail_and_not['failed']\n",
    "    with warnings.catch_warnings():\n",
    "        warnings.filterwarnings(\"ignore\")\n",
    "        failed_fan[fail_and_not['Current SN Status Description']=='In Outside Repair']=True\n",
    "    fail_and_not['failed'] = failed_fan\n",
    "    fail_and_not = fail_and_not.drop(['Description','Current SN Status Description','Since New Date'], axis = 1)\n",
    "    fail_and_not = fail_and_not.rename(columns={\"Part Number\": \"PN\", \"Serial Number\": \"SN\", \"Hour ageing Since Installation\": \"TSI\", \"Hour ageing Since New\": \"TSN\"})\n",
    "\n",
    "    fail = Removals.copy()\n",
    "    fail['On_Aircraft'] = False\n",
    "    fail['failed'] = True\n",
    "    failed_f = fail['failed']\n",
    "    with warnings.catch_warnings():\n",
    "        warnings.filterwarnings(\"ignore\")\n",
    "        failed_f[fail['Maintenance Type']=='Scheduled'] = False\n",
    "    fail['failed'] = failed_f\n",
    "    fail = fail.drop(['Removal date','Description','Maintenance Type'], axis=1)\n",
    "    fail = fail.rename(columns={\"P/N\": \"PN\", \"S/N\": \"SN\", \"TSI (Flight Hours) at removal\": \"TSI\", \"TSN (Flight Hours) at Removal\": \"TSN\", \"Customer\":\"Company\"})\n",
    "\n",
    "    all_SN = pd.unique(fail_and_not['SN'])\n",
    "    SN_Removals = pd.unique(fail['SN'])\n",
    "\n",
    "    combined = pd.concat([fail,fail_and_not], ignore_index=True)\n",
    "    combined = combined.drop_duplicates(subset=['SN','PN','TSN'], keep='last')\n",
    "\n",
    "    # Data errors treatment\n",
    "    combined['TSI']=combined['TSI'].replace(np.nan, 0.0)\n",
    "    combined['TSN']=combined['TSN'].replace(np.nan, 0.0)\n",
    "    combined['Company']=combined['Company'].replace('1', 1)\n",
    "    combined['Company']=combined['Company'].replace('3', 3)\n",
    "    combined = combined[combined['TSN']!=0]\n",
    "    return combined, airlines"
   ]
  },
  {
   "cell_type": "code",
   "execution_count": 4,
   "metadata": {
    "colab": {
     "base_uri": "https://localhost:8080/",
     "height": 216
    },
    "executionInfo": {
     "elapsed": 5583,
     "status": "ok",
     "timestamp": 1607626136021,
     "user": {
      "displayName": "Nguyen Bao",
      "photoUrl": "https://lh3.googleusercontent.com/a-/AOh14Gjw7M03YsQjaWXfKVf3GckShdGXMown08YblXnIzQ=s64",
      "userId": "00428871316513598663"
     },
     "user_tz": -60
    },
    "id": "d_EY5a2kYPSN",
    "outputId": "16ae5560-52fb-435a-9111-b829d63a829f",
    "scrolled": false
   },
   "outputs": [
    {
     "name": "stdout",
     "output_type": "stream",
     "text": [
      "Unit types : ['C' 'B' 'A' 'C-new']\n"
     ]
    },
    {
     "data": {
      "text/html": [
       "<div>\n",
       "<style scoped>\n",
       "    .dataframe tbody tr th:only-of-type {\n",
       "        vertical-align: middle;\n",
       "    }\n",
       "\n",
       "    .dataframe tbody tr th {\n",
       "        vertical-align: top;\n",
       "    }\n",
       "\n",
       "    .dataframe thead th {\n",
       "        text-align: right;\n",
       "    }\n",
       "</style>\n",
       "<table border=\"1\" class=\"dataframe\">\n",
       "  <thead>\n",
       "    <tr style=\"text-align: right;\">\n",
       "      <th></th>\n",
       "      <th>Company</th>\n",
       "      <th>PN</th>\n",
       "      <th>SN</th>\n",
       "      <th>TSI</th>\n",
       "      <th>TSN</th>\n",
       "      <th>On_Aircraft</th>\n",
       "      <th>failed</th>\n",
       "    </tr>\n",
       "  </thead>\n",
       "  <tbody>\n",
       "    <tr>\n",
       "      <th>0</th>\n",
       "      <td>3</td>\n",
       "      <td>C</td>\n",
       "      <td>15323054356</td>\n",
       "      <td>5819.0</td>\n",
       "      <td>5819.0</td>\n",
       "      <td>False</td>\n",
       "      <td>True</td>\n",
       "    </tr>\n",
       "    <tr>\n",
       "      <th>1</th>\n",
       "      <td>3</td>\n",
       "      <td>C</td>\n",
       "      <td>15323057041</td>\n",
       "      <td>5819.0</td>\n",
       "      <td>5819.0</td>\n",
       "      <td>False</td>\n",
       "      <td>True</td>\n",
       "    </tr>\n",
       "    <tr>\n",
       "      <th>2</th>\n",
       "      <td>3</td>\n",
       "      <td>C</td>\n",
       "      <td>15323072973</td>\n",
       "      <td>3036.0</td>\n",
       "      <td>3036.0</td>\n",
       "      <td>False</td>\n",
       "      <td>True</td>\n",
       "    </tr>\n",
       "    <tr>\n",
       "      <th>3</th>\n",
       "      <td>3</td>\n",
       "      <td>C</td>\n",
       "      <td>15323053425</td>\n",
       "      <td>5614.0</td>\n",
       "      <td>5614.0</td>\n",
       "      <td>False</td>\n",
       "      <td>True</td>\n",
       "    </tr>\n",
       "    <tr>\n",
       "      <th>4</th>\n",
       "      <td>3</td>\n",
       "      <td>C</td>\n",
       "      <td>15323058236</td>\n",
       "      <td>5614.0</td>\n",
       "      <td>5614.0</td>\n",
       "      <td>False</td>\n",
       "      <td>True</td>\n",
       "    </tr>\n",
       "  </tbody>\n",
       "</table>\n",
       "</div>"
      ],
      "text/plain": [
       "  Company PN           SN     TSI     TSN  On_Aircraft  failed\n",
       "0       3  C  15323054356  5819.0  5819.0        False    True\n",
       "1       3  C  15323057041  5819.0  5819.0        False    True\n",
       "2       3  C  15323072973  3036.0  3036.0        False    True\n",
       "3       3  C  15323053425  5614.0  5614.0        False    True\n",
       "4       3  C  15323058236  5614.0  5614.0        False    True"
      ]
     },
     "execution_count": 4,
     "metadata": {},
     "output_type": "execute_result"
    }
   ],
   "source": [
    "combined, airlines = preprocessing(file_location)\n",
    "types = pd.unique(combined[\"PN\"])\n",
    "types = types[np.logical_not(pd.isnull(types))]\n",
    "print(\"Unit types :\",types)\n",
    "combined.head()"
   ]
  },
  {
   "cell_type": "code",
   "execution_count": 5,
   "metadata": {
    "colab": {
     "base_uri": "https://localhost:8080/"
    },
    "executionInfo": {
     "elapsed": 5568,
     "status": "ok",
     "timestamp": 1607626136022,
     "user": {
      "displayName": "Nguyen Bao",
      "photoUrl": "https://lh3.googleusercontent.com/a-/AOh14Gjw7M03YsQjaWXfKVf3GckShdGXMown08YblXnIzQ=s64",
      "userId": "00428871316513598663"
     },
     "user_tz": -60
    },
    "id": "BlaeknFwYPSW",
    "outputId": "9889f702-d9d5-4bef-b4d2-c8ee10a63e4e"
   },
   "outputs": [
    {
     "name": "stdout",
     "output_type": "stream",
     "text": [
      "6010 / 7774 distinct SN.\n"
     ]
    }
   ],
   "source": [
    "print(len(set(combined['SN'])),'/',len(combined), 'distinct SN.')"
   ]
  },
  {
   "cell_type": "markdown",
   "metadata": {
    "id": "ChCUMfmsYPTA"
   },
   "source": [
    "## II. Data Analysis"
   ]
  },
  {
   "cell_type": "code",
   "execution_count": 6,
   "metadata": {
    "executionInfo": {
     "elapsed": 5559,
     "status": "ok",
     "timestamp": 1607626136031,
     "user": {
      "displayName": "Nguyen Bao",
      "photoUrl": "https://lh3.googleusercontent.com/a-/AOh14Gjw7M03YsQjaWXfKVf3GckShdGXMown08YblXnIzQ=s64",
      "userId": "00428871316513598663"
     },
     "user_tz": -60
    },
    "id": "4nwPRsmfooGw"
   },
   "outputs": [],
   "source": [
    "data = combined.copy()\n",
    "alpha = 0.05 # coefficient related to confidence levels"
   ]
  },
  {
   "cell_type": "code",
   "execution_count": 7,
   "metadata": {
    "executionInfo": {
     "elapsed": 5552,
     "status": "ok",
     "timestamp": 1607626136033,
     "user": {
      "displayName": "Nguyen Bao",
      "photoUrl": "https://lh3.googleusercontent.com/a-/AOh14Gjw7M03YsQjaWXfKVf3GckShdGXMown08YblXnIzQ=s64",
      "userId": "00428871316513598663"
     },
     "user_tz": -60
    },
    "id": "okEKpwmeDEcO"
   },
   "outputs": [],
   "source": [
    "data_types = {}\n",
    "for typ in types:\n",
    "    data_types[typ] = data[data['PN']==typ]"
   ]
  },
  {
   "cell_type": "code",
   "execution_count": 8,
   "metadata": {
    "executionInfo": {
     "elapsed": 5544,
     "status": "ok",
     "timestamp": 1607626136036,
     "user": {
      "displayName": "Nguyen Bao",
      "photoUrl": "https://lh3.googleusercontent.com/a-/AOh14Gjw7M03YsQjaWXfKVf3GckShdGXMown08YblXnIzQ=s64",
      "userId": "00428871316513598663"
     },
     "user_tz": -60
    },
    "id": "iojAOtejDEcO"
   },
   "outputs": [],
   "source": [
    "def time_sticker(data_type): \n",
    "    T = data_type.TSI.to_numpy(dtype=\"float\")\n",
    "    d = np.array([1 if f == True else 0 for f in data_type.failed])\n",
    "    return T,d"
   ]
  },
  {
   "cell_type": "markdown",
   "metadata": {
    "id": "UUX4gn4pDEcO"
   },
   "source": [
    "### 1. Nelson-Aalen and Kaplan-Meier estimators"
   ]
  },
  {
   "cell_type": "markdown",
   "metadata": {
    "id": "zPK71-HvDEcO"
   },
   "source": [
    "We first consider the Nelson-Aalen estimator and the Kaplan-Meier estimator which will be used to compare with the model we apply for data in each cases.\n",
    "\n",
    "(Note that we need to install the \"lifelines\" package for Python)."
   ]
  },
  {
   "cell_type": "code",
   "execution_count": 9,
   "metadata": {
    "executionInfo": {
     "elapsed": 5537,
     "status": "ok",
     "timestamp": 1607626136038,
     "user": {
      "displayName": "Nguyen Bao",
      "photoUrl": "https://lh3.googleusercontent.com/a-/AOh14Gjw7M03YsQjaWXfKVf3GckShdGXMown08YblXnIzQ=s64",
      "userId": "00428871316513598663"
     },
     "user_tz": -60
    },
    "id": "CCDy8zSBDEcO"
   },
   "outputs": [],
   "source": [
    "from lifelines import KaplanMeierFitter\n",
    "from lifelines import NelsonAalenFitter\n",
    "\n",
    "def NAF(typ,df=data_types): # Nelson_Aalen model\n",
    "    data_type = df[typ]\n",
    "    T,d=time_sticker(data_type)\n",
    "    label = \"NA-estimator of type \" + typ\n",
    "    return NelsonAalenFitter().fit(T,d,alpha=alpha,label=label)\n",
    "\n",
    "def KMF(typ,df=data_types): # Kaplan_meier model\n",
    "    data_type = df[typ]\n",
    "    T,d=time_sticker(data_type)\n",
    "    label = \"KM-estimator of type \" + typ\n",
    "    return KaplanMeierFitter().fit(T,d,alpha=alpha,label=label)"
   ]
  },
  {
   "cell_type": "code",
   "execution_count": 10,
   "metadata": {
    "colab": {
     "base_uri": "https://localhost:8080/",
     "height": 281
    },
    "executionInfo": {
     "elapsed": 6134,
     "status": "ok",
     "timestamp": 1607626136648,
     "user": {
      "displayName": "Nguyen Bao",
      "photoUrl": "https://lh3.googleusercontent.com/a-/AOh14Gjw7M03YsQjaWXfKVf3GckShdGXMown08YblXnIzQ=s64",
      "userId": "00428871316513598663"
     },
     "user_tz": -60
    },
    "id": "IzrzgS8XDEcP",
    "outputId": "8d5f6252-361a-4ad3-ee2d-89f51eeec153"
   },
   "outputs": [
    {
     "data": {
      "image/png": "[encoded data removed]",
      "text/plain": [
       "<Figure size 432x288 with 1 Axes>"
      ]
     },
     "metadata": {
      "needs_background": "light"
     },
     "output_type": "display_data"
    }
   ],
   "source": [
    "for typ in types:\n",
    "    NAF(typ).plot(ci_show=True)"
   ]
  },
  {
   "cell_type": "code",
   "execution_count": 11,
   "metadata": {
    "colab": {
     "base_uri": "https://localhost:8080/",
     "height": 279
    },
    "executionInfo": {
     "elapsed": 6560,
     "status": "ok",
     "timestamp": 1607626137099,
     "user": {
      "displayName": "Nguyen Bao",
      "photoUrl": "https://lh3.googleusercontent.com/a-/AOh14Gjw7M03YsQjaWXfKVf3GckShdGXMown08YblXnIzQ=s64",
      "userId": "00428871316513598663"
     },
     "user_tz": -60
    },
    "id": "z8l-ULRgDEcQ",
    "outputId": "c9bf9932-44eb-4493-e531-3d6c315534e6"
   },
   "outputs": [
    {
     "data": {
      "image/png": "[encoded data removed]",
      "text/plain": [
       "<Figure size 432x288 with 1 Axes>"
      ]
     },
     "metadata": {
      "needs_background": "light"
     },
     "output_type": "display_data"
    }
   ],
   "source": [
    "for typ in types:\n",
    "    KMF(typ).plot(ci_show=True)"
   ]
  },
  {
   "cell_type": "markdown",
   "metadata": {
    "id": "OcR4omdTDEcQ"
   },
   "source": [
    "### 2. Parametric models"
   ]
  },
  {
   "cell_type": "markdown",
   "metadata": {
    "id": "4Z4G_-fsMO4r"
   },
   "source": [
    "Find best parametric model"
   ]
  },
  {
   "cell_type": "code",
   "execution_count": 12,
   "metadata": {
    "executionInfo": {
     "elapsed": 6547,
     "status": "ok",
     "timestamp": 1607626137104,
     "user": {
      "displayName": "Nguyen Bao",
      "photoUrl": "https://lh3.googleusercontent.com/a-/AOh14Gjw7M03YsQjaWXfKVf3GckShdGXMown08YblXnIzQ=s64",
      "userId": "00428871316513598663"
     },
     "user_tz": -60
    },
    "id": "6arhxuL2gdaR"
   },
   "outputs": [],
   "source": [
    "from lifelines.utils import find_best_parametric_model\n",
    "\n",
    "def best_parametric_model(typ,df=data_types): # find the best parametric model which bases in AIC (or BIC as we can change scoring_method=\"BIC\") method.\n",
    "    data_type = df[typ]\n",
    "    T,d=time_sticker(data_type)\n",
    "    T[T==0]=1e-6 # Avoid divising by zero.\n",
    "    tau=1-sum(d)/len(d)\n",
    "    if tau>0.9:\n",
    "        warnings.warn(\"There are more 90% censored data in type {} data. The applied model might not be correct!\".format(str(typ)))\n",
    "    best_model = find_best_parametric_model(T, d, scoring_method=\"AIC\")[0]\n",
    "    return best_model"
   ]
  },
  {
   "cell_type": "markdown",
   "metadata": {
    "id": "x1K-hExkMdIP"
   },
   "source": [
    "Plotting best parametric model and KM-estimator:"
   ]
  },
  {
   "cell_type": "code",
   "execution_count": 13,
   "metadata": {
    "executionInfo": {
     "elapsed": 6538,
     "status": "ok",
     "timestamp": 1607626137105,
     "user": {
      "displayName": "Nguyen Bao",
      "photoUrl": "https://lh3.googleusercontent.com/a-/AOh14Gjw7M03YsQjaWXfKVf3GckShdGXMown08YblXnIzQ=s64",
      "userId": "00428871316513598663"
     },
     "user_tz": -60
    },
    "id": "K6XWvvahMnv7"
   },
   "outputs": [],
   "source": [
    "def R_plot(typ): # We visualize if the best parametric model can fit the data of type \"typ\"\n",
    "    m = best_parametric_model(typ)\n",
    "    m.survival_function_.plot()\n",
    "    KMF(typ).plot()\n",
    "    plt.ylabel('Reliability function')\n",
    "    plt.xlabel('Timeline')\n",
    "    plt.title('Type ' + typ + ' data')"
   ]
  },
  {
   "cell_type": "code",
   "execution_count": 14,
   "metadata": {
    "colab": {
     "base_uri": "https://localhost:8080/",
     "height": 1000
    },
    "executionInfo": {
     "elapsed": 94316,
     "status": "ok",
     "timestamp": 1607626224895,
     "user": {
      "displayName": "Nguyen Bao",
      "photoUrl": "https://lh3.googleusercontent.com/a-/AOh14Gjw7M03YsQjaWXfKVf3GckShdGXMown08YblXnIzQ=s64",
      "userId": "00428871316513598663"
     },
     "user_tz": -60
    },
    "id": "Q8F8IlXOMs65",
    "outputId": "583ca8a4-3741-4bdb-ee99-0940d493d471"
   },
   "outputs": [
    {
     "name": "stderr",
     "output_type": "stream",
     "text": [
      "<ipython-input-12-1c412288dc8f>:9: UserWarning: There are more 90% censored data in type C-new data. The applied model might not be correct!\n",
      "  warnings.warn(\"There are more 90% censored data in type {} data. The applied model might not be correct!\".format(str(typ)))\n"
     ]
    },
    {
     "data": {
      "image/png": "[encoded data removed]",
      "text/plain": [
       "<Figure size 432x288 with 1 Axes>"
      ]
     },
     "metadata": {
      "needs_background": "light"
     },
     "output_type": "display_data"
    },
    {
     "data": {
      "image/png": "[encoded data removed]",
      "text/plain": [
       "<Figure size 432x288 with 1 Axes>"
      ]
     },
     "metadata": {
      "needs_background": "light"
     },
     "output_type": "display_data"
    },
    {
     "data": {
      "image/png": "[encoded data removed]",
      "text/plain": [
       "<Figure size 432x288 with 1 Axes>"
      ]
     },
     "metadata": {
      "needs_background": "light"
     },
     "output_type": "display_data"
    },
    {
     "data": {
      "image/png": "[encoded data removed]",
      "text/plain": [
       "<Figure size 432x288 with 1 Axes>"
      ]
     },
     "metadata": {
      "needs_background": "light"
     },
     "output_type": "display_data"
    }
   ],
   "source": [
    "for typ in types:\n",
    "    R_plot(typ)"
   ]
  },
  {
   "cell_type": "markdown",
   "metadata": {},
   "source": [
    "## III. Homogeneity test of old vs new"
   ]
  },
  {
   "cell_type": "markdown",
   "metadata": {},
   "source": [
    "In order for this to work, we need to separate old parts from new ones then do a logrank test"
   ]
  },
  {
   "cell_type": "code",
   "execution_count": 15,
   "metadata": {},
   "outputs": [],
   "source": [
    "from lifelines.statistics import logrank_test\n",
    "\n",
    "def old_vs_new(typ,df=data_types):\n",
    "    data_type = df[typ]\n",
    "    new_or_not = data_type[\"TSI\"]==data_type[\"TSN\"]\n",
    "    old = data_type[new_or_not==False]\n",
    "    new = data_type[new_or_not==True]\n",
    "    results = logrank_test(old[\"TSI\"], new[\"TSI\"], event_observed_A=old[\"failed\"], event_observed_B=new[\"failed\"])\n",
    "    return results,(len(old.to_numpy()), len(new.to_numpy()))"
   ]
  },
  {
   "cell_type": "code",
   "execution_count": 16,
   "metadata": {},
   "outputs": [
    {
     "name": "stdout",
     "output_type": "stream",
     "text": [
      "Type C unit test:\n",
      "648 old parts vs 2669 new parts\n",
      "p_valeur =  0.29624561775561525\n"
     ]
    },
    {
     "data": {
      "text/html": [
       "<div>\n",
       "<style scoped>\n",
       "    .dataframe tbody tr th:only-of-type {\n",
       "        vertical-align: middle;\n",
       "    }\n",
       "\n",
       "    .dataframe tbody tr th {\n",
       "        vertical-align: top;\n",
       "    }\n",
       "\n",
       "    .dataframe thead th {\n",
       "        text-align: right;\n",
       "    }\n",
       "</style>\n",
       "<table border=\"1\" class=\"dataframe\">\n",
       "  <tbody>\n",
       "    <tr>\n",
       "      <th>t_0</th>\n",
       "      <td>-1</td>\n",
       "    </tr>\n",
       "    <tr>\n",
       "      <th>null_distribution</th>\n",
       "      <td>chi squared</td>\n",
       "    </tr>\n",
       "    <tr>\n",
       "      <th>degrees_of_freedom</th>\n",
       "      <td>1</td>\n",
       "    </tr>\n",
       "    <tr>\n",
       "      <th>test_name</th>\n",
       "      <td>logrank_test</td>\n",
       "    </tr>\n",
       "  </tbody>\n",
       "</table>\n",
       "</div><table border=\"1\" class=\"dataframe\">\n",
       "  <thead>\n",
       "    <tr style=\"text-align: right;\">\n",
       "      <th></th>\n",
       "      <th>test_statistic</th>\n",
       "      <th>p</th>\n",
       "      <th>-log2(p)</th>\n",
       "    </tr>\n",
       "  </thead>\n",
       "  <tbody>\n",
       "    <tr>\n",
       "      <th>0</th>\n",
       "      <td>1.09</td>\n",
       "      <td>0.30</td>\n",
       "      <td>1.76</td>\n",
       "    </tr>\n",
       "  </tbody>\n",
       "</table>"
      ],
      "text/latex": [
       "\\begin{tabular}{lrrr}\n",
       "\\toprule\n",
       "{} &  test\\_statistic &         p &  -log2(p) \\\\\n",
       "\\midrule\n",
       "0 &        1.091019 &  0.296246 &  1.755134 \\\\\n",
       "\\bottomrule\n",
       "\\end{tabular}\n"
      ],
      "text/plain": [
       "<lifelines.StatisticalResult: logrank_test>\n",
       "               t_0 = -1\n",
       " null_distribution = chi squared\n",
       "degrees_of_freedom = 1\n",
       "         test_name = logrank_test\n",
       "\n",
       "---\n",
       " test_statistic    p  -log2(p)\n",
       "           1.09 0.30      1.76"
      ]
     },
     "metadata": {},
     "output_type": "display_data"
    },
    {
     "name": "stdout",
     "output_type": "stream",
     "text": [
      "Type B unit test:\n",
      "208 old parts vs 83 new parts\n",
      "p_valeur =  0.00018691789338992743\n"
     ]
    },
    {
     "data": {
      "text/html": [
       "<div>\n",
       "<style scoped>\n",
       "    .dataframe tbody tr th:only-of-type {\n",
       "        vertical-align: middle;\n",
       "    }\n",
       "\n",
       "    .dataframe tbody tr th {\n",
       "        vertical-align: top;\n",
       "    }\n",
       "\n",
       "    .dataframe thead th {\n",
       "        text-align: right;\n",
       "    }\n",
       "</style>\n",
       "<table border=\"1\" class=\"dataframe\">\n",
       "  <tbody>\n",
       "    <tr>\n",
       "      <th>t_0</th>\n",
       "      <td>-1</td>\n",
       "    </tr>\n",
       "    <tr>\n",
       "      <th>null_distribution</th>\n",
       "      <td>chi squared</td>\n",
       "    </tr>\n",
       "    <tr>\n",
       "      <th>degrees_of_freedom</th>\n",
       "      <td>1</td>\n",
       "    </tr>\n",
       "    <tr>\n",
       "      <th>test_name</th>\n",
       "      <td>logrank_test</td>\n",
       "    </tr>\n",
       "  </tbody>\n",
       "</table>\n",
       "</div><table border=\"1\" class=\"dataframe\">\n",
       "  <thead>\n",
       "    <tr style=\"text-align: right;\">\n",
       "      <th></th>\n",
       "      <th>test_statistic</th>\n",
       "      <th>p</th>\n",
       "      <th>-log2(p)</th>\n",
       "    </tr>\n",
       "  </thead>\n",
       "  <tbody>\n",
       "    <tr>\n",
       "      <th>0</th>\n",
       "      <td>13.96</td>\n",
       "      <td>&lt;0.005</td>\n",
       "      <td>12.39</td>\n",
       "    </tr>\n",
       "  </tbody>\n",
       "</table>"
      ],
      "text/latex": [
       "\\begin{tabular}{lrrr}\n",
       "\\toprule\n",
       "{} &  test\\_statistic &         p &   -log2(p) \\\\\n",
       "\\midrule\n",
       "0 &       13.958227 &  0.000187 &  12.385308 \\\\\n",
       "\\bottomrule\n",
       "\\end{tabular}\n"
      ],
      "text/plain": [
       "<lifelines.StatisticalResult: logrank_test>\n",
       "               t_0 = -1\n",
       " null_distribution = chi squared\n",
       "degrees_of_freedom = 1\n",
       "         test_name = logrank_test\n",
       "\n",
       "---\n",
       " test_statistic      p  -log2(p)\n",
       "          13.96 <0.005     12.39"
      ]
     },
     "metadata": {},
     "output_type": "display_data"
    },
    {
     "name": "stdout",
     "output_type": "stream",
     "text": [
      "Type A unit test:\n",
      "515 old parts vs 2753 new parts\n",
      "p_valeur =  2.9744223989572164e-93\n"
     ]
    },
    {
     "data": {
      "text/html": [
       "<div>\n",
       "<style scoped>\n",
       "    .dataframe tbody tr th:only-of-type {\n",
       "        vertical-align: middle;\n",
       "    }\n",
       "\n",
       "    .dataframe tbody tr th {\n",
       "        vertical-align: top;\n",
       "    }\n",
       "\n",
       "    .dataframe thead th {\n",
       "        text-align: right;\n",
       "    }\n",
       "</style>\n",
       "<table border=\"1\" class=\"dataframe\">\n",
       "  <tbody>\n",
       "    <tr>\n",
       "      <th>t_0</th>\n",
       "      <td>-1</td>\n",
       "    </tr>\n",
       "    <tr>\n",
       "      <th>null_distribution</th>\n",
       "      <td>chi squared</td>\n",
       "    </tr>\n",
       "    <tr>\n",
       "      <th>degrees_of_freedom</th>\n",
       "      <td>1</td>\n",
       "    </tr>\n",
       "    <tr>\n",
       "      <th>test_name</th>\n",
       "      <td>logrank_test</td>\n",
       "    </tr>\n",
       "  </tbody>\n",
       "</table>\n",
       "</div><table border=\"1\" class=\"dataframe\">\n",
       "  <thead>\n",
       "    <tr style=\"text-align: right;\">\n",
       "      <th></th>\n",
       "      <th>test_statistic</th>\n",
       "      <th>p</th>\n",
       "      <th>-log2(p)</th>\n",
       "    </tr>\n",
       "  </thead>\n",
       "  <tbody>\n",
       "    <tr>\n",
       "      <th>0</th>\n",
       "      <td>419.61</td>\n",
       "      <td>&lt;0.005</td>\n",
       "      <td>307.37</td>\n",
       "    </tr>\n",
       "  </tbody>\n",
       "</table>"
      ],
      "text/latex": [
       "\\begin{tabular}{lrrr}\n",
       "\\toprule\n",
       "{} &  test\\_statistic &             p &    -log2(p) \\\\\n",
       "\\midrule\n",
       "0 &      419.605093 &  2.974422e-93 &  307.366703 \\\\\n",
       "\\bottomrule\n",
       "\\end{tabular}\n"
      ],
      "text/plain": [
       "<lifelines.StatisticalResult: logrank_test>\n",
       "               t_0 = -1\n",
       " null_distribution = chi squared\n",
       "degrees_of_freedom = 1\n",
       "         test_name = logrank_test\n",
       "\n",
       "---\n",
       " test_statistic      p  -log2(p)\n",
       "         419.61 <0.005    307.37"
      ]
     },
     "metadata": {},
     "output_type": "display_data"
    },
    {
     "name": "stdout",
     "output_type": "stream",
     "text": [
      "Type C-new unit test:\n",
      "779 old parts vs 119 new parts\n",
      "p_valeur =  0.605793171669508\n"
     ]
    },
    {
     "data": {
      "text/html": [
       "<div>\n",
       "<style scoped>\n",
       "    .dataframe tbody tr th:only-of-type {\n",
       "        vertical-align: middle;\n",
       "    }\n",
       "\n",
       "    .dataframe tbody tr th {\n",
       "        vertical-align: top;\n",
       "    }\n",
       "\n",
       "    .dataframe thead th {\n",
       "        text-align: right;\n",
       "    }\n",
       "</style>\n",
       "<table border=\"1\" class=\"dataframe\">\n",
       "  <tbody>\n",
       "    <tr>\n",
       "      <th>t_0</th>\n",
       "      <td>-1</td>\n",
       "    </tr>\n",
       "    <tr>\n",
       "      <th>null_distribution</th>\n",
       "      <td>chi squared</td>\n",
       "    </tr>\n",
       "    <tr>\n",
       "      <th>degrees_of_freedom</th>\n",
       "      <td>1</td>\n",
       "    </tr>\n",
       "    <tr>\n",
       "      <th>test_name</th>\n",
       "      <td>logrank_test</td>\n",
       "    </tr>\n",
       "  </tbody>\n",
       "</table>\n",
       "</div><table border=\"1\" class=\"dataframe\">\n",
       "  <thead>\n",
       "    <tr style=\"text-align: right;\">\n",
       "      <th></th>\n",
       "      <th>test_statistic</th>\n",
       "      <th>p</th>\n",
       "      <th>-log2(p)</th>\n",
       "    </tr>\n",
       "  </thead>\n",
       "  <tbody>\n",
       "    <tr>\n",
       "      <th>0</th>\n",
       "      <td>0.27</td>\n",
       "      <td>0.61</td>\n",
       "      <td>0.72</td>\n",
       "    </tr>\n",
       "  </tbody>\n",
       "</table>"
      ],
      "text/latex": [
       "\\begin{tabular}{lrrr}\n",
       "\\toprule\n",
       "{} &  test\\_statistic &         p &  -log2(p) \\\\\n",
       "\\midrule\n",
       "0 &        0.266346 &  0.605793 &  0.723103 \\\\\n",
       "\\bottomrule\n",
       "\\end{tabular}\n"
      ],
      "text/plain": [
       "<lifelines.StatisticalResult: logrank_test>\n",
       "               t_0 = -1\n",
       " null_distribution = chi squared\n",
       "degrees_of_freedom = 1\n",
       "         test_name = logrank_test\n",
       "\n",
       "---\n",
       " test_statistic    p  -log2(p)\n",
       "           0.27 0.61      0.72"
      ]
     },
     "metadata": {},
     "output_type": "display_data"
    }
   ],
   "source": [
    "for typ in types:\n",
    "    print(\"Type %s unit test:\"%typ)\n",
    "    res,n = old_vs_new(typ)\n",
    "    print(\"%d old parts vs %d new parts\"%n)\n",
    "    print(\"p_valeur = \", res.p_value)\n",
    "    res.print_summary()"
   ]
  },
  {
   "cell_type": "code",
   "execution_count": 17,
   "metadata": {},
   "outputs": [
    {
     "data": {
      "image/png": "[encoded data removed]",
      "text/plain": [
       "<Figure size 432x288 with 1 Axes>"
      ]
     },
     "metadata": {
      "needs_background": "light"
     },
     "output_type": "display_data"
    },
    {
     "data": {
      "image/png": "[encoded data removed]",
      "text/plain": [
       "<Figure size 432x288 with 1 Axes>"
      ]
     },
     "metadata": {
      "needs_background": "light"
     },
     "output_type": "display_data"
    },
    {
     "data": {
      "image/png": "[encoded data removed]",
      "text/plain": [
       "<Figure size 432x288 with 1 Axes>"
      ]
     },
     "metadata": {
      "needs_background": "light"
     },
     "output_type": "display_data"
    },
    {
     "data": {
      "image/png": "[encoded data removed]",
      "text/plain": [
       "<Figure size 432x288 with 1 Axes>"
      ]
     },
     "metadata": {
      "needs_background": "light"
     },
     "output_type": "display_data"
    }
   ],
   "source": [
    "for typ in types:\n",
    "    new_or_not = data_types[typ].TSI==data_types[typ].TSN\n",
    "    \n",
    "    T_old = data_types[typ][new_or_not==False]\n",
    "    d_old = np.array([1 if f == True else 0 for f in T_old.failed])\n",
    "    T_old = T_old.TSI.to_numpy(dtype=\"float\")\n",
    "    \n",
    "    T_new = data_types[typ][new_or_not==True]\n",
    "    d_new = np.array([1 if f == True else 0 for f in T_new.failed])\n",
    "    T_new = T_new.TSI.to_numpy(dtype=\"float\")\n",
    "    \n",
    "    KaplanMeierFitter().fit(T_new,d_new,alpha=alpha,label=\"New of type \"+typ).plot(ci_show=False)\n",
    "    KMF(typ).plot()\n",
    "    KaplanMeierFitter().fit(T_old,d_old,alpha=alpha,label=\"Old of type \"+typ).plot(ci_show=False)\n",
    "    plt.show()"
   ]
  },
  {
   "cell_type": "markdown",
   "metadata": {
    "id": "nPXidDEigfpy"
   },
   "source": [
    "## IV. Simulation and stock optimization "
   ]
  },
  {
   "cell_type": "code",
   "execution_count": 18,
   "metadata": {
    "colab": {
     "base_uri": "https://localhost:8080/",
     "height": 246
    },
    "executionInfo": {
     "elapsed": 94790,
     "status": "ok",
     "timestamp": 1607626225389,
     "user": {
      "displayName": "Nguyen Bao",
      "photoUrl": "https://lh3.googleusercontent.com/a-/AOh14Gjw7M03YsQjaWXfKVf3GckShdGXMown08YblXnIzQ=s64",
      "userId": "00428871316513598663"
     },
     "user_tz": -60
    },
    "id": "y03SWq7ATk8x",
    "outputId": "0c9093d5-7850-4e23-beaa-34a4393275d7"
   },
   "outputs": [
    {
     "name": "stdout",
     "output_type": "stream",
     "text": [
      "List of companies : [1 2 3 4 5 6]\n"
     ]
    },
    {
     "data": {
      "text/html": [
       "<div>\n",
       "<style scoped>\n",
       "    .dataframe tbody tr th:only-of-type {\n",
       "        vertical-align: middle;\n",
       "    }\n",
       "\n",
       "    .dataframe tbody tr th {\n",
       "        vertical-align: top;\n",
       "    }\n",
       "\n",
       "    .dataframe thead th {\n",
       "        text-align: right;\n",
       "    }\n",
       "</style>\n",
       "<table border=\"1\" class=\"dataframe\">\n",
       "  <thead>\n",
       "    <tr style=\"text-align: right;\">\n",
       "      <th></th>\n",
       "      <th>Company</th>\n",
       "      <th>Number of aircraft</th>\n",
       "      <th>FH per aircraft per month</th>\n",
       "      <th>End of contract</th>\n",
       "    </tr>\n",
       "  </thead>\n",
       "  <tbody>\n",
       "    <tr>\n",
       "      <th>0</th>\n",
       "      <td>1</td>\n",
       "      <td>6</td>\n",
       "      <td>415</td>\n",
       "      <td>2024-12-01</td>\n",
       "    </tr>\n",
       "    <tr>\n",
       "      <th>1</th>\n",
       "      <td>2</td>\n",
       "      <td>2</td>\n",
       "      <td>310</td>\n",
       "      <td>2030-12-01</td>\n",
       "    </tr>\n",
       "    <tr>\n",
       "      <th>2</th>\n",
       "      <td>3</td>\n",
       "      <td>12</td>\n",
       "      <td>350</td>\n",
       "      <td>2026-12-01</td>\n",
       "    </tr>\n",
       "    <tr>\n",
       "      <th>3</th>\n",
       "      <td>4</td>\n",
       "      <td>5</td>\n",
       "      <td>240</td>\n",
       "      <td>2023-12-01</td>\n",
       "    </tr>\n",
       "    <tr>\n",
       "      <th>4</th>\n",
       "      <td>5</td>\n",
       "      <td>19</td>\n",
       "      <td>375</td>\n",
       "      <td>2026-12-01</td>\n",
       "    </tr>\n",
       "    <tr>\n",
       "      <th>5</th>\n",
       "      <td>6</td>\n",
       "      <td>6</td>\n",
       "      <td>350</td>\n",
       "      <td>2027-12-01</td>\n",
       "    </tr>\n",
       "  </tbody>\n",
       "</table>\n",
       "</div>"
      ],
      "text/plain": [
       "   Company  Number of aircraft  FH per aircraft per month End of contract\n",
       "0        1                   6                        415      2024-12-01\n",
       "1        2                   2                        310      2030-12-01\n",
       "2        3                  12                        350      2026-12-01\n",
       "3        4                   5                        240      2023-12-01\n",
       "4        5                  19                        375      2026-12-01\n",
       "5        6                   6                        350      2027-12-01"
      ]
     },
     "execution_count": 18,
     "metadata": {},
     "output_type": "execute_result"
    }
   ],
   "source": [
    "list_company = pd.unique(airlines[\"Company\"])\n",
    "list_company = list_company[np.logical_not(pd.isnull(list_company))]\n",
    "print(\"List of companies :\",list_company)\n",
    "airlines"
   ]
  },
  {
   "cell_type": "markdown",
   "metadata": {
    "id": "YKPtGesgg0Fk"
   },
   "source": [
    "Simulation from parametric law\n",
    "\n",
    "The idea is: for each individual SN, we simulate the number of time it will fail till the end of contract, then for large number of SN, we repeat that simulation for each individual to calculate the sum."
   ]
  },
  {
   "cell_type": "markdown",
   "metadata": {
    "id": "2IoXZ92Jg_Az"
   },
   "source": [
    "Simulation from kaplan Meier"
   ]
  },
  {
   "cell_type": "code",
   "execution_count": 19,
   "metadata": {
    "executionInfo": {
     "elapsed": 95709,
     "status": "ok",
     "timestamp": 1607626226343,
     "user": {
      "displayName": "Nguyen Bao",
      "photoUrl": "https://lh3.googleusercontent.com/a-/AOh14Gjw7M03YsQjaWXfKVf3GckShdGXMown08YblXnIzQ=s64",
      "userId": "00428871316513598663"
     },
     "user_tz": -60
    },
    "id": "KJEX-7kpvfFF"
   },
   "outputs": [],
   "source": [
    "def inverse_sampling(kapmei, timeline):\n",
    "    u = np.random.uniform()\n",
    "    if u < kapmei[-1]:\n",
    "        T = -1\n",
    "    elif u > kapmei[0]:\n",
    "        T = 0\n",
    "    else:\n",
    "        arg = np.argmax(kapmei<=u)-1\n",
    "        T = float(timeline[arg]+(timeline[arg+1]-timeline[arg])*(kapmei[arg]-u)/(kapmei[arg]-kapmei[arg+1]))\n",
    "    return T\n",
    "\n",
    "def conditional_inverse_sampling(kapmei, timeline, TSI):\n",
    "    T = 0\n",
    "    while T<=TSI and T>=0:\n",
    "        T = inverse_sampling(kapmei, timeline)\n",
    "    return T-TSI\n",
    "\n",
    "def num_of_fails_indivi_kapmei(TSI, T, kapmei, timeline):    \n",
    "    t = conditional_inverse_sampling(kapmei, timeline, TSI)\n",
    "    if t <= T:\n",
    "        n_fails = 0 \n",
    "        sum_t = (t<0)*np.max(timeline) + (t>=0)*t\n",
    "        while sum_t <= T:\n",
    "            t = inverse_sampling(kapmei, timeline)\n",
    "            sum_t += (t<0)*np.max(timeline) + (t>=0)*t\n",
    "            n_fails += 1\n",
    "        return n_fails\n",
    "    else: \n",
    "        return 0\n",
    "\n",
    "def num_of_fails_list(TSI_list, T, kapmei, timeline):\n",
    "    n_fails_list = []\n",
    "    for TSI in TSI_list:\n",
    "        n_fails = num_of_fails_indivi_kapmei(TSI, T, kapmei, timeline)\n",
    "        n_fails_list += [n_fails]\n",
    "    total_fails = np.sum(n_fails_list)\n",
    "    return total_fails\n",
    "    \n",
    "def num_of_fails_indivi_kapmei_diff(TSI, TSN,T,k_old,t_old,k_new,t_new,rate):\n",
    "    if TSI==TSN:\n",
    "        t = conditional_inverse_sampling(k_new, t_new, TSI)\n",
    "        cum = (t<0)*np.max(t_new)\n",
    "    else:\n",
    "        t = conditional_inverse_sampling(k_old, t_old, TSI)\n",
    "        cum = (t<0)*np.max(t_old)\n",
    "    if t <= T:\n",
    "        n_fails = 0 \n",
    "        sum_t = cum + (t>=0)*t\n",
    "        while sum_t <= T:\n",
    "            if np.random.uniform(0,1)<rate:\n",
    "                t = inverse_sampling(k_old, t_old)\n",
    "                sum_t += (t<0)*np.max(t_old) + (t>=0)*t\n",
    "            else:\n",
    "                t = inverse_sampling(k_new, t_new)\n",
    "                sum_t += (t<0)*np.max(t_new) + (t>=0)*t\n",
    "            n_fails += 1\n",
    "        return n_fails\n",
    "    else: \n",
    "        return 0\n",
    "\n",
    "def num_of_fails_list_diff(TSI_list, TSN_list,T,k_old,t_old,k_new,t_new,rate):\n",
    "    n_fails_list = []\n",
    "    for i in range(len(TSI_list)):\n",
    "        n_fails = num_of_fails_indivi_kapmei_diff(TSI_list[i],TSN_list[i],T,k_old,t_old,k_new,t_new,rate)\n",
    "        n_fails_list += [n_fails]\n",
    "    total_fails = np.sum(n_fails_list)\n",
    "    return total_fails"
   ]
  },
  {
   "cell_type": "markdown",
   "metadata": {
    "id": "sbYQTFj4sg2i"
   },
   "source": [
    "Predicting number of failures:"
   ]
  },
  {
   "cell_type": "code",
   "execution_count": 20,
   "metadata": {
    "executionInfo": {
     "elapsed": 95683,
     "status": "ok",
     "timestamp": 1607626226345,
     "user": {
      "displayName": "Nguyen Bao",
      "photoUrl": "https://lh3.googleusercontent.com/a-/AOh14Gjw7M03YsQjaWXfKVf3GckShdGXMown08YblXnIzQ=s64",
      "userId": "00428871316513598663"
     },
     "user_tz": -60
    },
    "id": "RPKbAlM5gfSo"
   },
   "outputs": [],
   "source": [
    "# Confidence Intervals\n",
    "\n",
    "def CI(Y,alpha=alpha):\n",
    "    n=len(Y)\n",
    "    # Confidence Interval of samples\n",
    "    low1=np.quantile(Y,alpha/2)\n",
    "    high1=np.quantile(Y,1-alpha/2)\n",
    "    # Confidence Interval of mean (by Central Limit Theorem)\n",
    "    mu=np.mean(Y)\n",
    "    std=np.std(Y)\n",
    "    q=norm.ppf(1-alpha/2, loc=0, scale=1)\n",
    "    S=std*q/np.sqrt(n)\n",
    "    low2=np.max([0.0,mu-S]) \n",
    "    high2=mu+S\n",
    "    return (low1,high1),(low2,high2)"
   ]
  },
  {
   "cell_type": "code",
   "execution_count": 21,
   "metadata": {
    "executionInfo": {
     "elapsed": 95700,
     "status": "ok",
     "timestamp": 1607626226344,
     "user": {
      "displayName": "Nguyen Bao",
      "photoUrl": "https://lh3.googleusercontent.com/a-/AOh14Gjw7M03YsQjaWXfKVf3GckShdGXMown08YblXnIzQ=s64",
      "userId": "00428871316513598663"
     },
     "user_tz": -60
    },
    "id": "WIv2Yr6RRLxv"
   },
   "outputs": [],
   "source": [
    "import datetime as dt\n",
    "Today = dt.datetime.now()\n",
    "repair_rate=0.8\n",
    "\n",
    "def different_or_not(typ,df=data_types,message=False):\n",
    "    r,old_new=old_vs_new(typ,df=df)\n",
    "    pval=r.p_value\n",
    "    diff=(pval<0.05) and (min(old_new)/sum(old_new)>=0.1)\n",
    "    if diff:\n",
    "        if message:\n",
    "            print(\"The old parts and new parts of type %s have different distributions!\"%typ)\n",
    "    return diff\n",
    "\n",
    "def Estimated_Stock(company,typ,year,month,df=data,df_types=data_types,airlines=airlines,Begin=Today,MC=1000,rate=repair_rate):\n",
    "# MC is number iteration of Monte-Carlo\n",
    "    \n",
    "    FH_per_month = float(airlines[airlines['Company']==company]['FH per aircraft per month'])\n",
    "    End = dt.datetime(year, month, 1)\n",
    "    FH_till_end = FH_per_month*((End.year-Begin.year)*12+End.month-Begin.month)\n",
    "    diff = different_or_not(typ,df=df_types)\n",
    "    \n",
    "    if diff:\n",
    "        df_types_diff = df_types.copy()\n",
    "        df_types_diff.pop(typ,None)\n",
    "        df_types_diff['new']=df_types[typ][df_types[typ].TSI==df_types[typ].TSN]\n",
    "        df_types_diff['old']=df_types[typ][df_types[typ].TSI!=df_types[typ].TSN]\n",
    "        kmf_old = KMF(\"old\",df=df_types_diff)\n",
    "        kmf_new = KMF(\"new\",df=df_types_diff)\n",
    "        surv_old = kmf_old.survival_function_.to_numpy()\n",
    "        time_old = kmf_old.timeline\n",
    "        surv_new = kmf_new.survival_function_.to_numpy()\n",
    "        time_new = kmf_new.timeline\n",
    "        if FH_till_end>np.max(time_old): \n",
    "            warnings.warn(\"Kaplan-Meier model of the old part of type %s can not estimate the stock until %d/%d. We apply the best parametric model to predict in this case.\"%(typ,month,year))\n",
    "            bpm_old=best_parametric_model(\"old\",df=df_types_diff)\n",
    "            print(\"The best parametric model applied for old parts is:\",bpm_old)\n",
    "            time_old = np.linspace(0,FH_till_end,2000)\n",
    "            surv_old = bpm_old.survival_function_at_times(time_old).to_numpy()\n",
    "\n",
    "        if FH_till_end>np.max(time_new):\n",
    "            warnings.warn(\"Kaplan-Meier model of the new part of type %s can not estimate the stock until %d/%d. We apply the best parametric model to predict in this case.\"%(typ,month,year))\n",
    "            bpm_new=best_parametric_model(\"new\",df=df_types_diff)\n",
    "            print(\"The best parametric model applied for new parts is:\",bpm_new)\n",
    "            time_new = np.linspace(0,FH_till_end,2000)\n",
    "            surv_new = bpm_new.survival_function_at_times(time_new).to_numpy()\n",
    "    else:\n",
    "        kmf=KMF(typ,df=df_types)\n",
    "        survival = kmf.survival_function_.to_numpy()\n",
    "        timeline = kmf.timeline\n",
    "        if FH_till_end>np.max(timeline):\n",
    "            warnings.warn(\"Kaplan-Meier model of type %s can not estimate the stock until %d/%d. We apply the best parametric model to predict in this case.\"%(typ,month,year))\n",
    "            bpm = best_parametric_model(typ,df=df_types)\n",
    "            print(\"The best parametric model applied for this type is:\",bpm)\n",
    "            timeline = np.linspace(0,FH_till_end,2000)\n",
    "            survival = bpm.survival_function_at_times(timeline).to_numpy()\n",
    "\n",
    "    dat = df[df.Company==company]\n",
    "    dat = dat[dat.PN==typ]\n",
    "    dat = dat[dat.On_Aircraft==True]\n",
    "    total = len(dat.TSI)\n",
    "  \n",
    "    list_TSI = dat[dat.failed==False].TSI.to_numpy()\n",
    "    list_TSN = dat[dat.failed==False].TSN.to_numpy()\n",
    "\n",
    "    stock = 0\n",
    "    y=[]\n",
    "    for i in range(MC):\n",
    "        if diff:\n",
    "            a = num_of_fails_list_diff(list_TSI,list_TSN,FH_till_end,surv_old,time_old,surv_new,time_new,rate)\n",
    "        else:\n",
    "            a = num_of_fails_list(list_TSI,FH_till_end,survival,timeline)\n",
    "        y += [a]\n",
    "        stock += a\n",
    "    stock = stock/MC  \n",
    "    ## CI\n",
    "    ci1,ci2=CI(y)\n",
    "    return stock,y,ci1,ci2,total"
   ]
  },
  {
   "cell_type": "markdown",
   "metadata": {
    "id": "OGa3ctvzsnFu"
   },
   "source": [
    "Visualize results:"
   ]
  },
  {
   "cell_type": "code",
   "execution_count": 22,
   "metadata": {
    "executionInfo": {
     "elapsed": 95668,
     "status": "ok",
     "timestamp": 1607626226346,
     "user": {
      "displayName": "Nguyen Bao",
      "photoUrl": "https://lh3.googleusercontent.com/a-/AOh14Gjw7M03YsQjaWXfKVf3GckShdGXMown08YblXnIzQ=s64",
      "userId": "00428871316513598663"
     },
     "user_tz": -60
    },
    "id": "X_ZXlE7egfJ0"
   },
   "outputs": [],
   "source": [
    "import time\n",
    "\n",
    "def Result_display(company,unit_type,year,month,alpha=alpha,df=data,df_types=data_types,airlines=airlines,Begin=Today,rate=repair_rate):\n",
    "    different_or_not(unit_type,message=True)\n",
    "    ts = time.time()\n",
    "    s,y,ci1,ci2,t = Estimated_Stock(company,unit_type,year,month,df=df,df_types=df_types,airlines=airlines,Begin=Begin,rate=rate)\n",
    "    te = time.time()\n",
    "    print(\"There are %d units of type %s of company %d which is actually on aircraft.\"%(t,unit_type,company))\n",
    "    print(\"Estimated number of type %s unit in stock for company %d from %d/%d until %d/%d:\"%(unit_type,company,Begin.month,Begin.year,month,year), s)\n",
    "    print(\"with Empirical Confidence Interval (%0.2f,%0.2f), CLT Confidence Interval (%0.2f,%0.2f) at level %0.2f\"%(ci1[0],ci1[1],ci2[0],ci2[1],100-100*alpha), end=\"\")\n",
    "    print(\"% and with repair rate is \",rate)\n",
    "    print(\"Simulation time (by second): \", te-ts)\n",
    "    plt.hist(y, bins = np.arange(int(np.min(y)-1),int(np.max(y)+1),1))\n",
    "    plt.ylabel('Frequency')\n",
    "    plt.xlabel('Estimated number')\n",
    "    plt.show()\n",
    "    y_sum = np.cumsum(y)\n",
    "    moyen = y_sum/np.arange(1, len(y)+1,1)\n",
    "    plt.plot(moyen)\n",
    "    plt.ylabel('Estimated number')\n",
    "    plt.xlabel('Monte-Carlo iteration')\n",
    "    plt.show()"
   ]
  },
  {
   "cell_type": "code",
   "execution_count": 23,
   "metadata": {},
   "outputs": [
    {
     "name": "stdout",
     "output_type": "stream",
     "text": [
      "The old parts and new parts of type A have different distributions!\n",
      "There are 719 units of type A of company 3 which is actually on aircraft.\n",
      "Estimated number of type A unit in stock for company 3 from 1/2021 until 12/2022: 51.176\n",
      "with Empirical Confidence Interval (35.00,67.00), CLT Confidence Interval (50.65,51.70) at level 95.00% and with repair rate is  0.8\n",
      "Simulation time (by second):  27.370165824890137\n"
     ]
    },
    {
     "data": {
      "image/png": "[encoded data removed]",
      "text/plain": [
       "<Figure size 432x288 with 1 Axes>"
      ]
     },
     "metadata": {
      "needs_background": "light"
     },
     "output_type": "display_data"
    },
    {
     "data": {
      "image/png": "[encoded data removed]",
      "text/plain": [
       "<Figure size 432x288 with 1 Axes>"
      ]
     },
     "metadata": {
      "needs_background": "light"
     },
     "output_type": "display_data"
    }
   ],
   "source": [
    "company=3         # must be in INTEGER\n",
    "unit_type='A' # STRING\n",
    "year=2022         # INTEGER\n",
    "month=12           # INTEGER\n",
    "\n",
    "Result_display(company,unit_type,year,month)"
   ]
  },
  {
   "cell_type": "code",
   "execution_count": 24,
   "metadata": {
    "colab": {
     "base_uri": "https://localhost:8080/",
     "height": 595
    },
    "executionInfo": {
     "elapsed": 102427,
     "status": "ok",
     "timestamp": 1607626233122,
     "user": {
      "displayName": "Nguyen Bao",
      "photoUrl": "https://lh3.googleusercontent.com/a-/AOh14Gjw7M03YsQjaWXfKVf3GckShdGXMown08YblXnIzQ=s64",
      "userId": "00428871316513598663"
     },
     "user_tz": -60
    },
    "id": "SnDp5ybAsTX7",
    "outputId": "07b7109c-8a61-48cd-8fb6-54e7360cf56c"
   },
   "outputs": [
    {
     "name": "stdout",
     "output_type": "stream",
     "text": [
      "The old parts and new parts of type B have different distributions!\n"
     ]
    },
    {
     "name": "stderr",
     "output_type": "stream",
     "text": [
      "<ipython-input-21-e88dfbf7fa3a>:34: UserWarning: Kaplan-Meier model of the old part of type B can not estimate the stock until 6/2025. We apply the best parametric model to predict in this case.\n",
      "  warnings.warn(\"Kaplan-Meier model of the old part of type %s can not estimate the stock until %d/%d. We apply the best parametric model to predict in this case.\"%(typ,month,year))\n"
     ]
    },
    {
     "name": "stdout",
     "output_type": "stream",
     "text": [
      "The best parametric model applied for old parts is: <lifelines.WeibullFitter:\"Weibull_estimate\", fitted with 208 total observations, 146 right-censored observations>\n"
     ]
    },
    {
     "name": "stderr",
     "output_type": "stream",
     "text": [
      "<ipython-input-21-e88dfbf7fa3a>:41: UserWarning: Kaplan-Meier model of the new part of type B can not estimate the stock until 6/2025. We apply the best parametric model to predict in this case.\n",
      "  warnings.warn(\"Kaplan-Meier model of the new part of type %s can not estimate the stock until %d/%d. We apply the best parametric model to predict in this case.\"%(typ,month,year))\n"
     ]
    },
    {
     "name": "stdout",
     "output_type": "stream",
     "text": [
      "The best parametric model applied for new parts is: <lifelines.ExponentialFitter:\"Exponential_estimate\", fitted with 83 total observations, 74 right-censored observations>\n",
      "There are 39 units of type B of company 3 which is actually on aircraft.\n",
      "Estimated number of type B unit in stock for company 3 from 1/2021 until 6/2025: 45.453\n",
      "with Empirical Confidence Interval (40.00,52.00), CLT Confidence Interval (45.25,45.66) at level 95.00% and with repair rate is  0.8\n",
      "Simulation time (by second):  14.49320101737976\n"
     ]
    },
    {
     "data": {
      "image/png": "[encoded data removed]",
      "text/plain": [
       "<Figure size 432x288 with 1 Axes>"
      ]
     },
     "metadata": {
      "needs_background": "light"
     },
     "output_type": "display_data"
    },
    {
     "data": {
      "image/png": "[encoded data removed]",
      "text/plain": [
       "<Figure size 432x288 with 1 Axes>"
      ]
     },
     "metadata": {
      "needs_background": "light"
     },
     "output_type": "display_data"
    }
   ],
   "source": [
    "company=3         # must be in INTEGER\n",
    "unit_type='B' # STRING\n",
    "year=2025         # INTEGER\n",
    "month=6           # INTEGER\n",
    "\n",
    "Result_display(company,unit_type,year,month)"
   ]
  },
  {
   "cell_type": "code",
   "execution_count": 25,
   "metadata": {},
   "outputs": [
    {
     "name": "stderr",
     "output_type": "stream",
     "text": [
      "<ipython-input-21-e88dfbf7fa3a>:51: UserWarning: Kaplan-Meier model of type C-new can not estimate the stock until 6/2030. We apply the best parametric model to predict in this case.\n",
      "  warnings.warn(\"Kaplan-Meier model of type %s can not estimate the stock until %d/%d. We apply the best parametric model to predict in this case.\"%(typ,month,year))\n",
      "<ipython-input-12-1c412288dc8f>:9: UserWarning: There are more 90% censored data in type C-new data. The applied model might not be correct!\n",
      "  warnings.warn(\"There are more 90% censored data in type {} data. The applied model might not be correct!\".format(str(typ)))\n"
     ]
    },
    {
     "name": "stdout",
     "output_type": "stream",
     "text": [
      "The best parametric model applied for this type is: <lifelines.WeibullFitter:\"Weibull_estimate\", fitted with 898 total observations, 850 right-censored observations>\n",
      "There are 813 units of type C-new of company 3 which is actually on aircraft.\n",
      "Estimated number of type C-new unit in stock for company 3 from 1/2021 until 6/2030: 816.045\n",
      "with Empirical Confidence Interval (813.00,820.02), CLT Confidence Interval (815.93,816.16) at level 95.00% and with repair rate is  0.8\n",
      "Simulation time (by second):  44.9731924533844\n"
     ]
    },
    {
     "data": {
      "image/png": "[encoded data removed]",
      "text/plain": [
       "<Figure size 432x288 with 1 Axes>"
      ]
     },
     "metadata": {
      "needs_background": "light"
     },
     "output_type": "display_data"
    },
    {
     "data": {
      "image/png": "[encoded data removed]",
      "text/plain": [
       "<Figure size 432x288 with 1 Axes>"
      ]
     },
     "metadata": {
      "needs_background": "light"
     },
     "output_type": "display_data"
    }
   ],
   "source": [
    "company=3         # must be in INTEGER\n",
    "unit_type='C-new' # STRING\n",
    "year=2030         # INTEGER\n",
    "month=6           # INTEGER\n",
    "\n",
    "Result_display(company,unit_type,year,month)"
   ]
  },
  {
   "cell_type": "markdown",
   "metadata": {},
   "source": [
    "Estimating number of failures for all companies:"
   ]
  },
  {
   "cell_type": "code",
   "execution_count": 26,
   "metadata": {},
   "outputs": [],
   "source": [
    "def Estimated_Stock_All_Companies(typ,year,month,df=data,df_types=data_types,airlines=airlines,Begin=Today,MC=1000,message=False,rate=repair_rate):\n",
    "    s,y,ci1,ci2,t = 0,np.zeros(MC),np.zeros(2),np.zeros(2),0\n",
    "    for company in list_company:\n",
    "        mm,yyyy=airlines['End of contract'][company-1].month,airlines['End of contract'][company-1].year\n",
    "        if mm+yyyy*12<month+year*12:\n",
    "            s_,y_,ci1_,ci2_,t_ = Estimated_Stock(company,typ,yyyy,mm,df=df,df_types=df_types,airlines=airlines,Begin=Begin,MC=MC,rate=rate)\n",
    "            if message:\n",
    "                print('The contract of company %d will end before %d/%d (in %d/%d)'%(company,month,year,mm,yyyy))\n",
    "        else:\n",
    "            s_,y_,ci1_,ci2_,t_ = Estimated_Stock(company,typ,year,month,df=df,df_types=df_types,airlines=airlines,Begin=Begin,MC=MC,rate=rate)\n",
    "        s += s_\n",
    "        y += y_\n",
    "        ci1 += np.array(ci1_)\n",
    "        ci2 += np.array(ci2_)\n",
    "        t += t_\n",
    "    return s,y,ci1,ci2,t"
   ]
  },
  {
   "cell_type": "code",
   "execution_count": 27,
   "metadata": {},
   "outputs": [
    {
     "name": "stdout",
     "output_type": "stream",
     "text": [
      "The contract of company 1 will end before 12/2028 (in 12/2024)\n",
      "The contract of company 3 will end before 12/2028 (in 12/2026)\n",
      "The contract of company 4 will end before 12/2028 (in 12/2023)\n",
      "The contract of company 5 will end before 12/2028 (in 12/2026)\n",
      "The contract of company 6 will end before 12/2028 (in 12/2027)\n",
      "Estimated number of failures :  712.3530000000001\n",
      "Simulation time (by second):  133.07130551338196\n"
     ]
    }
   ],
   "source": [
    "unit_type='A' # STRING\n",
    "year=2028        # INTEGER\n",
    "month=12  \n",
    "\n",
    "ts = time.time()\n",
    "s,y,ci1,ci2,t=Estimated_Stock_All_Companies(unit_type,year,month,message=True)\n",
    "te = time.time()\n",
    "print(\"Estimated number of failures : \",s)\n",
    "print('Simulation time (by second): ',te-ts)"
   ]
  },
  {
   "cell_type": "markdown",
   "metadata": {},
   "source": [
    "To visualize the number of failures by time:"
   ]
  },
  {
   "cell_type": "code",
   "execution_count": 28,
   "metadata": {},
   "outputs": [],
   "source": [
    "def Time_series(typ,month,year,df=data,df_types=data_types,airlines=airlines,Begin=Today,MC=1000,l=6):\n",
    "    start = Begin.month+Begin.year*12\n",
    "    end = month+year*12\n",
    "    if end<=start:\n",
    "        print(\"Start time must be less than end time!\")\n",
    "        exit()\n",
    "    else:\n",
    "        points = np.linspace(start,end,end-start+1)\n",
    "        gap=len(points)-1\n",
    "        ind=[l*i for i in range(int(gap/l)+1)]+[-1]*int(gap%l!=0)\n",
    "        points=np.array([points[i] for i in ind]) # assuming that number of faillures is linear for every l=6 month\n",
    "        s = np.zeros(len(points))\n",
    "        s_lower = np.zeros(len(points))\n",
    "        s_upper = np.zeros(len(points))\n",
    "        for i in range(len(points)):\n",
    "            mois=int(points[i])%12+(int(points[i])%12==0)*12\n",
    "            ss,w,ci,r,q = Estimated_Stock_All_Companies(typ,int((points[i]-mois)/12),mois,df=df,df_types=df_types,airlines=airlines,Begin=Begin,MC=MC)\n",
    "            s[i]=ss\n",
    "            s_lower[i] = ci[0]\n",
    "            s_upper[i] = ci[1]\n",
    "    return points,s,s_lower,s_upper"
   ]
  },
  {
   "cell_type": "code",
   "execution_count": 29,
   "metadata": {},
   "outputs": [],
   "source": [
    "from datetime import timedelta\n",
    "\n",
    "def month_to_datetime(n):\n",
    "    year=int(n/12)-1*(int(n)%12==0)\n",
    "    m = n-year*12\n",
    "    m = m*365/360  # correction for the assumption of month = 30 days\n",
    "    delta=timedelta(days=m*30)\n",
    "    return dt.date(year-1,12,1)+delta"
   ]
  },
  {
   "cell_type": "code",
   "execution_count": 53,
   "metadata": {},
   "outputs": [
    {
     "data": {
      "image/png": "[encoded data removed]",
      "text/plain": [
       "<Figure size 432x288 with 1 Axes>"
      ]
     },
     "metadata": {
      "needs_background": "light"
     },
     "output_type": "display_data"
    },
    {
     "name": "stdout",
     "output_type": "stream",
     "text": [
      "Simulation time (by second): 692.4961912631989\n"
     ]
    }
   ],
   "source": [
    "unit_type='C' # STRING\n",
    "year=2022        # INTEGER\n",
    "month=12  \n",
    "gap=4  # we simulate the number of failure for each 4 month\n",
    "\n",
    "ts = time.time()\n",
    "x,y,y1,y2=Time_series(unit_type,month,year,l=gap)\n",
    "te = time.time()\n",
    "xx=[]\n",
    "for i in range(len(x)):\n",
    "    xx+=[month_to_datetime(x[i])]\n",
    "plt.show()\n",
    "fig, ax = plt.subplots()\n",
    "ax.plot(xx,y)\n",
    "plt.gcf().autofmt_xdate()\n",
    "ax.fill_between(xx, y1, y2, alpha=.2)  # 2.5% lower and 97.5% upper\n",
    "plt.ylabel('Number of failures')\n",
    "plt.xlabel('Date')\n",
    "plt.show()\n",
    "print('Simulation time (by second):',te-ts)"
   ]
  },
  {
   "cell_type": "markdown",
   "metadata": {},
   "source": [
    "Estimating time that we can not afford stock:"
   ]
  },
  {
   "cell_type": "code",
   "execution_count": 31,
   "metadata": {},
   "outputs": [],
   "source": [
    "def lifetime_simulation_indivi(TSI, T, kapmei, timeline):    \n",
    "    t = conditional_inverse_sampling(kapmei, timeline, TSI)\n",
    "    serie = []\n",
    "    if t <= T: \n",
    "        sum_t = (t<0)*np.max(timeline) + (t>=0)*t\n",
    "        while sum_t <= T:\n",
    "            serie += [sum_t]\n",
    "            t = inverse_sampling(kapmei, timeline)\n",
    "            sum_t += (t<0)*np.max(timeline) + (t>=0)*t\n",
    "    return serie\n",
    "\n",
    "def lifetime_simulation_list(TSI_list, T, kapmei, timeline):\n",
    "    series = []\n",
    "    for TSI in TSI_list:\n",
    "        serie = lifetime_simulation_indivi(TSI, T, kapmei, timeline)\n",
    "        series += serie\n",
    "    return np.sort(series)\n",
    "    \n",
    "def lifetime_simulation_indivi_diff(TSI, TSN,T,k_old,t_old,k_new,t_new,rate):\n",
    "    if TSI==TSN:\n",
    "        t = conditional_inverse_sampling(k_new, t_new, TSI)\n",
    "        cum = (t<0)*np.max(t_new)\n",
    "    else:\n",
    "        t = conditional_inverse_sampling(k_old, t_old, TSI)\n",
    "        cum = (t<0)*np.max(t_old)\n",
    "    serie = []\n",
    "    if t <= T:\n",
    "        sum_t = cum + (t>=0)*t\n",
    "        while sum_t <= T:\n",
    "            serie += [sum_t]\n",
    "            if np.random.uniform(0,1)<rate:\n",
    "                t = inverse_sampling(k_old, t_old)\n",
    "                sum_t += (t<0)*np.max(t_old) + (t>=0)*t\n",
    "            else:\n",
    "                t = inverse_sampling(k_new, t_new)\n",
    "                sum_t += (t<0)*np.max(t_new) + (t>=0)*t\n",
    "    return serie\n",
    "\n",
    "def lifetime_simulation_list_diff(TSI_list, TSN_list,T,k_old,t_old,k_new,t_new,rate):\n",
    "    series = []\n",
    "    for i in range(len(TSI_list)):\n",
    "        serie = lifetime_simulation_indivi_diff(TSI_list[i],TSN_list[i],T,k_old,t_old,k_new,t_new,rate)\n",
    "        series += serie\n",
    "    return np.sort(series)"
   ]
  },
  {
   "cell_type": "code",
   "execution_count": 32,
   "metadata": {},
   "outputs": [],
   "source": [
    "service_level = 0.9\n",
    "\n",
    "def Estimated_time_company(company,typ,year,month,df=data,df_types=data_types,airlines=airlines,Begin=Today,MC=1000,rate=repair_rate,tau=service_level):\n",
    "    FH_per_month = float(airlines[airlines['Company']==company]['FH per aircraft per month'])\n",
    "    End = dt.datetime(year, month, 1)\n",
    "    FH_till_end = FH_per_month*((End.year-Begin.year)*12+End.month-Begin.month)\n",
    "    diff = different_or_not(typ,df=df_types)\n",
    "\n",
    "    if diff:\n",
    "        df_types_diff = df_types.copy()\n",
    "        df_types_diff.pop(typ,None)\n",
    "        df_types_diff['new']=df_types[typ][df_types[typ].TSI==df_types[typ].TSN]\n",
    "        df_types_diff['old']=df_types[typ][df_types[typ].TSI!=df_types[typ].TSN]\n",
    "        kmf_old = KMF(\"old\",df=df_types_diff)\n",
    "        kmf_new = KMF(\"new\",df=df_types_diff)\n",
    "        surv_old = kmf_old.survival_function_.to_numpy()\n",
    "        time_old = kmf_old.timeline\n",
    "        surv_new = kmf_new.survival_function_.to_numpy()\n",
    "        time_new = kmf_new.timeline\n",
    "        if FH_till_end>np.max(time_old): \n",
    "            warnings.warn(\"Kaplan-Meier model of the old part of type %s can not estimate the stock until %d/%d. We apply the best parametric model to predict in this case.\"%(typ,month,year))\n",
    "            bpm_old=best_parametric_model(\"old\",df=df_types_diff)\n",
    "            print(\"The best parametric model applied for old parts is:\",bpm_old)\n",
    "            time_old = np.linspace(0,FH_till_end,2000)\n",
    "            surv_old = bpm_old.survival_function_at_times(time_old).to_numpy()\n",
    "        if FH_till_end>np.max(time_new):\n",
    "            warnings.warn(\"Kaplan-Meier model of the new part of type %s can not estimate the stock until %d/%d. We apply the best parametric model to predict in this case.\"%(typ,month,year))\n",
    "            bpm_new=best_parametric_model(\"new\",df=df_types_diff)\n",
    "            print(\"The best parametric model applied for new parts is:\",bpm_new)\n",
    "            time_new = np.linspace(0,FH_till_end,2000)\n",
    "            surv_new = bpm_new.survival_function_at_times(time_new).to_numpy()\n",
    "    else:\n",
    "        kmf=KMF(typ,df=df_types)\n",
    "        survival = kmf.survival_function_.to_numpy()\n",
    "        timeline = kmf.timeline\n",
    "        if FH_till_end>np.max(timeline):\n",
    "            warnings.warn(\"Kaplan-Meier model of type %s can not estimate the stock until %d/%d. We apply the best parametric model to predict in this case.\"%(typ,month,year))\n",
    "            bpm = best_parametric_model(typ,df=df_types)\n",
    "            print(\"The best parametric model applied for this type is:\",bpm)\n",
    "            timeline = np.linspace(0,FH_till_end,2000)\n",
    "            survival = bpm.survival_function_at_times(timeline).to_numpy()\n",
    "\n",
    "    dat = df[df.Company==company]\n",
    "    dat = dat[dat.PN==typ]\n",
    "    dat = dat[dat.On_Aircraft==True]\n",
    "    total = len(dat.TSI)\n",
    "  \n",
    "    list_TSI = dat[dat.failed==False].TSI.to_numpy()\n",
    "    list_TSN = dat[dat.failed==False].TSN.to_numpy()\n",
    "    \n",
    "    times=[]\n",
    "    for i in range(MC):\n",
    "        if diff:\n",
    "            time = lifetime_simulation_list_diff(list_TSI,list_TSN,FH_till_end,surv_old,time_old,surv_new,time_new,rate)\n",
    "        else:\n",
    "            time = lifetime_simulation_list(list_TSI,FH_till_end,survival,timeline)\n",
    "        time = time/FH_per_month+12*Begin.year+Begin.month\n",
    "        times += [time]\n",
    "    return times\n",
    "\n",
    "def Estimated_time(typ,N,df=data,df_types=data_types,airlines=airlines,Begin=Today,MC=1000,rate=repair_rate,tau=service_level,message=False):\n",
    "    P = int(N/tau)\n",
    "    total_times = []\n",
    "    t_max=[]\n",
    "    for company in list_company:\n",
    "        mm,yyyy=airlines['End of contract'][company-1].month,airlines['End of contract'][company-1].year\n",
    "        t_max+=[mm+yyyy*12]\n",
    "        times = Estimated_time_company(company,typ,yyyy,mm,df=df,df_types=df_types,airlines=airlines,Begin=Begin,MC=MC,rate=rate)\n",
    "        if message:\n",
    "            print('The contract of company %d will end in %d/%d'%(company,mm,yyyy))\n",
    "        total_times += [times]\n",
    "    tmax=np.max(t_max)\n",
    "    y=[]\n",
    "    for i in range(MC):\n",
    "        y_i = np.array([])\n",
    "        for j in range(len(list_company)):\n",
    "            y_i = np.append(y_i,total_times[j][i])\n",
    "        y+=[np.sort(y_i)]\n",
    "    time_estimated = np.array([y[i][P-1] if P<=len(y[i]) else tmax for i in range(MC)])\n",
    "    ac = np.array([1 if time_estimated[i]==tmax else 0 for i in range(MC)])\n",
    "    num_afford = np.sum(ac)\n",
    "    if num_afford > 0:\n",
    "        chance = num_afford/MC\n",
    "        time_mean = chance\n",
    "        ci = (np.quantile(time_estimated,alpha),tmax)\n",
    "    else:\n",
    "        time_mean = np.mean(time_estimated)\n",
    "        ci,ci2 = CI(time_estimated)\n",
    "    return time_mean,time_estimated,ci"
   ]
  },
  {
   "cell_type": "code",
   "execution_count": 33,
   "metadata": {},
   "outputs": [
    {
     "name": "stdout",
     "output_type": "stream",
     "text": [
      "The contract of company 1 will end in 12/2024\n",
      "The contract of company 2 will end in 12/2030\n",
      "The contract of company 3 will end in 12/2026\n",
      "The contract of company 4 will end in 12/2023\n",
      "The contract of company 5 will end in 12/2026\n",
      "The contract of company 6 will end in 12/2027\n",
      "The number of product of type A actually in stock is 80, which can immediately afford 90.00% the need of customers until  2021-08-25 with Empirical Confidence Interval at  95.0 % : [ 2021-07-16 2021-10-04 ]\n",
      "Simulation time (by second):  123.08949184417725\n"
     ]
    },
    {
     "data": {
      "image/png": "[encoded data removed]",
      "text/plain": [
       "<Figure size 432x288 with 1 Axes>"
      ]
     },
     "metadata": {
      "needs_background": "light"
     },
     "output_type": "display_data"
    },
    {
     "data": {
      "image/png": "[encoded data removed]",
      "text/plain": [
       "<Figure size 432x288 with 1 Axes>"
      ]
     },
     "metadata": {
      "needs_background": "light"
     },
     "output_type": "display_data"
    }
   ],
   "source": [
    "unit_type='A' # STRING\n",
    "number_in_stock=80\n",
    "\n",
    "ts = time.time()\n",
    "predicted_time,time_serie,ci1 = Estimated_time(unit_type,number_in_stock,message=True)\n",
    "te = time.time()\n",
    "ci=list(ci1)\n",
    "ci[0]=month_to_datetime(ci1[0])\n",
    "ci[1]=month_to_datetime(ci1[1])\n",
    "if predicted_time<=1:\n",
    "    print(\"There is \",predicted_time*100,\"% chance that we are not out of stock till the last end of contract in \",ci[1])\n",
    "    print(\"Estimated date after which we have \",100-round(100*alpha,2),\"% chance of running out of stock : \",ci[0])\n",
    "else:\n",
    "    predicted_time=month_to_datetime(predicted_time)\n",
    "    print(\"The number of product of type %s actually in stock is %d, which can immediately afford %0.2f\"%(unit_type,number_in_stock,100*service_level),end=\"\")\n",
    "    print(\"%\",end=\"\")\n",
    "    print(\" the need of customers until \",predicted_time,end=\"\")\n",
    "    print(\" with Empirical Confidence Interval at \",100-round(100*alpha,2),\"% : [\",ci[0],ci[1],']')\n",
    "print(\"Simulation time (by second): \", te-ts)\n",
    "\n",
    "####\n",
    "# To plot graphs\n",
    "####\n",
    "y=[]\n",
    "for i in range(len(time_serie)):\n",
    "    y+=[month_to_datetime(time_serie[i])]\n",
    "plt.show()\n",
    "plt.hist(y, bins = 10)\n",
    "# beautify the x-labels\n",
    "plt.gcf().autofmt_xdate()\n",
    "plt.ylabel('Frequency')\n",
    "plt.xlabel('Estimated date')\n",
    "plt.show()\n",
    "y_sum = np.cumsum(time_serie)\n",
    "moyen = y_sum/np.arange(1, len(y)+1,1)\n",
    "yy=[]\n",
    "for i in range(len(moyen)):\n",
    "    yy+=[month_to_datetime(moyen[i])]\n",
    "plt.plot(yy)\n",
    "# beautify the x-labels\n",
    "plt.gcf().autofmt_xdate()\n",
    "plt.ylabel('Estimated date')\n",
    "plt.xlabel('Monte-Carlo iteration')\n",
    "plt.show()"
   ]
  },
  {
   "cell_type": "code",
   "execution_count": 34,
   "metadata": {},
   "outputs": [
    {
     "name": "stdout",
     "output_type": "stream",
     "text": [
      "The contract of company 1 will end in 12/2024\n",
      "The contract of company 2 will end in 12/2030\n",
      "The contract of company 3 will end in 12/2026\n",
      "The contract of company 4 will end in 12/2023\n",
      "The contract of company 5 will end in 12/2026\n",
      "The contract of company 6 will end in 12/2027\n",
      "There is  50.4 % chance that we are not out of stock till the last end of contract in  2030-12-01\n",
      "Estimated date after which we have  95.0 % chance of running out of stock :  2026-08-12\n",
      "Simulation time (by second):  124.41634106636047\n"
     ]
    },
    {
     "data": {
      "image/png": "[encoded data removed]",
      "text/plain": [
       "<Figure size 432x288 with 1 Axes>"
      ]
     },
     "metadata": {
      "needs_background": "light"
     },
     "output_type": "display_data"
    },
    {
     "data": {
      "image/png": "[encoded data removed]",
      "text/plain": [
       "<Figure size 432x288 with 1 Axes>"
      ]
     },
     "metadata": {
      "needs_background": "light"
     },
     "output_type": "display_data"
    }
   ],
   "source": [
    "unit_type='A' # STRING\n",
    "number_in_stock=650\n",
    "\n",
    "ts = time.time()\n",
    "predicted_time,time_serie,ci1 = Estimated_time(unit_type,number_in_stock,message=True)\n",
    "te = time.time()\n",
    "ci=list(ci1)\n",
    "ci[0]=month_to_datetime(ci1[0])\n",
    "ci[1]=month_to_datetime(ci1[1])\n",
    "if predicted_time<=1:\n",
    "    print(\"There is \",predicted_time*100,\"% chance that we are not out of stock till the last end of contract in \",ci[1])\n",
    "    print(\"Estimated date after which we have \",100-round(100*alpha,2),\"% chance of running out of stock : \",ci[0])\n",
    "else:\n",
    "    predicted_time=month_to_datetime(predicted_time)\n",
    "    print(\"The number of product of type %s actually in stock is %d, which can immediately afford %0.2f\"%(unit_type,number_in_stock,100*service_level),end=\"\")\n",
    "    print(\"%\",end=\"\")\n",
    "    print(\" the need of customers until \",predicted_time,end=\"\")\n",
    "    print(\" with Empirical Confidence Interval at \",100-round(100*alpha,2),\"% : [\",ci[0],ci[1],']')\n",
    "print(\"Simulation time (by second): \", te-ts)\n",
    "\n",
    "####\n",
    "# To plot graphs\n",
    "####\n",
    "y=[]\n",
    "for i in range(len(time_serie)):\n",
    "    y+=[month_to_datetime(time_serie[i])]\n",
    "plt.show()\n",
    "plt.hist(y, bins = 10)\n",
    "# beautify the x-labels\n",
    "plt.gcf().autofmt_xdate()\n",
    "plt.ylabel('Frequency')\n",
    "plt.xlabel('Estimated date')\n",
    "plt.show()\n",
    "y_sum = np.cumsum(time_serie)\n",
    "moyen = y_sum/np.arange(1, len(y)+1,1)\n",
    "yy=[]\n",
    "for i in range(len(moyen)):\n",
    "    yy+=[month_to_datetime(moyen[i])]\n",
    "plt.plot(yy)\n",
    "# beautify the x-labels\n",
    "plt.gcf().autofmt_xdate()\n",
    "plt.ylabel('Estimated date')\n",
    "plt.xlabel('Monte-Carlo iteration')\n",
    "plt.show()"
   ]
  },
  {
   "cell_type": "markdown",
   "metadata": {},
   "source": [
    "## V. Test-Validation:"
   ]
  },
  {
   "cell_type": "markdown",
   "metadata": {},
   "source": [
    "In this section, we try to apply the model for the data of Dec 2018 and compare with the number of failures in reality in Dec 2020."
   ]
  },
  {
   "cell_type": "code",
   "execution_count": 35,
   "metadata": {
    "executionInfo": {
     "elapsed": 102423,
     "status": "ok",
     "timestamp": 1607626233126,
     "user": {
      "displayName": "Nguyen Bao",
      "photoUrl": "https://lh3.googleusercontent.com/a-/AOh14Gjw7M03YsQjaWXfKVf3GckShdGXMown08YblXnIzQ=s64",
      "userId": "00428871316513598663"
     },
     "user_tz": -60
    },
    "id": "NOKsgGwlRFNf"
   },
   "outputs": [
    {
     "name": "stdout",
     "output_type": "stream",
     "text": [
      "Unit types : ['C']\n"
     ]
    },
    {
     "data": {
      "text/html": [
       "<div>\n",
       "<style scoped>\n",
       "    .dataframe tbody tr th:only-of-type {\n",
       "        vertical-align: middle;\n",
       "    }\n",
       "\n",
       "    .dataframe tbody tr th {\n",
       "        vertical-align: top;\n",
       "    }\n",
       "\n",
       "    .dataframe thead th {\n",
       "        text-align: right;\n",
       "    }\n",
       "</style>\n",
       "<table border=\"1\" class=\"dataframe\">\n",
       "  <thead>\n",
       "    <tr style=\"text-align: right;\">\n",
       "      <th></th>\n",
       "      <th>Company</th>\n",
       "      <th>PN</th>\n",
       "      <th>SN</th>\n",
       "      <th>TSI</th>\n",
       "      <th>TSN</th>\n",
       "      <th>On_Aircraft</th>\n",
       "      <th>failed</th>\n",
       "    </tr>\n",
       "  </thead>\n",
       "  <tbody>\n",
       "    <tr>\n",
       "      <th>0</th>\n",
       "      <td>3</td>\n",
       "      <td>C</td>\n",
       "      <td>15323054356</td>\n",
       "      <td>5819.0</td>\n",
       "      <td>5819.0</td>\n",
       "      <td>False</td>\n",
       "      <td>True</td>\n",
       "    </tr>\n",
       "    <tr>\n",
       "      <th>1</th>\n",
       "      <td>3</td>\n",
       "      <td>C</td>\n",
       "      <td>15323057041</td>\n",
       "      <td>5819.0</td>\n",
       "      <td>5819.0</td>\n",
       "      <td>False</td>\n",
       "      <td>True</td>\n",
       "    </tr>\n",
       "    <tr>\n",
       "      <th>2</th>\n",
       "      <td>3</td>\n",
       "      <td>C</td>\n",
       "      <td>15323072973</td>\n",
       "      <td>3036.0</td>\n",
       "      <td>3036.0</td>\n",
       "      <td>False</td>\n",
       "      <td>True</td>\n",
       "    </tr>\n",
       "    <tr>\n",
       "      <th>3</th>\n",
       "      <td>3</td>\n",
       "      <td>C</td>\n",
       "      <td>15323053425</td>\n",
       "      <td>5614.0</td>\n",
       "      <td>5614.0</td>\n",
       "      <td>False</td>\n",
       "      <td>True</td>\n",
       "    </tr>\n",
       "    <tr>\n",
       "      <th>4</th>\n",
       "      <td>3</td>\n",
       "      <td>C</td>\n",
       "      <td>15323058236</td>\n",
       "      <td>5614.0</td>\n",
       "      <td>5614.0</td>\n",
       "      <td>False</td>\n",
       "      <td>True</td>\n",
       "    </tr>\n",
       "  </tbody>\n",
       "</table>\n",
       "</div>"
      ],
      "text/plain": [
       "   Company PN           SN     TSI     TSN  On_Aircraft  failed\n",
       "0        3  C  15323054356  5819.0  5819.0        False    True\n",
       "1        3  C  15323057041  5819.0  5819.0        False    True\n",
       "2        3  C  15323072973  3036.0  3036.0        False    True\n",
       "3        3  C  15323053425  5614.0  5614.0        False    True\n",
       "4        3  C  15323058236  5614.0  5614.0        False    True"
      ]
     },
     "execution_count": 35,
     "metadata": {},
     "output_type": "execute_result"
    }
   ],
   "source": [
    "file_test = \"../DataSet/INSA-AirbusFHS-DatasetPN_C-Dec-18.xlsx\"\n",
    "combined_test, air_test = preprocessing(file_test)\n",
    "types_test = pd.unique(combined_test[\"PN\"])\n",
    "types_test = types_test[np.logical_not(pd.isnull(types_test))]\n",
    "print(\"Unit types :\",types_test)\n",
    "combined_test.head()"
   ]
  },
  {
   "cell_type": "code",
   "execution_count": 36,
   "metadata": {},
   "outputs": [
    {
     "name": "stdout",
     "output_type": "stream",
     "text": [
      "3186 / 3317 distinct SN.\n"
     ]
    }
   ],
   "source": [
    "print(len(set(combined_test['SN'])),'/',len(combined_test), 'distinct SN.')"
   ]
  },
  {
   "cell_type": "code",
   "execution_count": 37,
   "metadata": {
    "executionInfo": {
     "elapsed": 102420,
     "status": "ok",
     "timestamp": 1607626233129,
     "user": {
      "displayName": "Nguyen Bao",
      "photoUrl": "https://lh3.googleusercontent.com/a-/AOh14Gjw7M03YsQjaWXfKVf3GckShdGXMown08YblXnIzQ=s64",
      "userId": "00428871316513598663"
     },
     "user_tz": -60
    },
    "id": "kYQ2dhOyRFRF"
   },
   "outputs": [],
   "source": [
    "data_test = combined_test.copy()\n",
    "data_test_types = {}\n",
    "for typ in types_test:\n",
    "    data_test_types[typ] = data_test[data_test['PN']==typ]"
   ]
  },
  {
   "cell_type": "code",
   "execution_count": 38,
   "metadata": {},
   "outputs": [
    {
     "data": {
      "text/html": [
       "<div>\n",
       "<style scoped>\n",
       "    .dataframe tbody tr th:only-of-type {\n",
       "        vertical-align: middle;\n",
       "    }\n",
       "\n",
       "    .dataframe tbody tr th {\n",
       "        vertical-align: top;\n",
       "    }\n",
       "\n",
       "    .dataframe thead th {\n",
       "        text-align: right;\n",
       "    }\n",
       "</style>\n",
       "<table border=\"1\" class=\"dataframe\">\n",
       "  <thead>\n",
       "    <tr style=\"text-align: right;\">\n",
       "      <th></th>\n",
       "      <th>Company</th>\n",
       "      <th>Number of aircraft</th>\n",
       "      <th>FH per aircraft per month</th>\n",
       "      <th>End of contract</th>\n",
       "    </tr>\n",
       "  </thead>\n",
       "  <tbody>\n",
       "    <tr>\n",
       "      <th>0</th>\n",
       "      <td>1</td>\n",
       "      <td>6</td>\n",
       "      <td>415</td>\n",
       "      <td>2024-12-01</td>\n",
       "    </tr>\n",
       "    <tr>\n",
       "      <th>1</th>\n",
       "      <td>2</td>\n",
       "      <td>2</td>\n",
       "      <td>310</td>\n",
       "      <td>2030-12-01</td>\n",
       "    </tr>\n",
       "    <tr>\n",
       "      <th>2</th>\n",
       "      <td>3</td>\n",
       "      <td>12</td>\n",
       "      <td>350</td>\n",
       "      <td>2026-12-01</td>\n",
       "    </tr>\n",
       "    <tr>\n",
       "      <th>3</th>\n",
       "      <td>4</td>\n",
       "      <td>5</td>\n",
       "      <td>240</td>\n",
       "      <td>2023-12-01</td>\n",
       "    </tr>\n",
       "    <tr>\n",
       "      <th>4</th>\n",
       "      <td>5</td>\n",
       "      <td>19</td>\n",
       "      <td>375</td>\n",
       "      <td>2026-12-01</td>\n",
       "    </tr>\n",
       "    <tr>\n",
       "      <th>5</th>\n",
       "      <td>6</td>\n",
       "      <td>6</td>\n",
       "      <td>350</td>\n",
       "      <td>2027-12-01</td>\n",
       "    </tr>\n",
       "  </tbody>\n",
       "</table>\n",
       "</div>"
      ],
      "text/plain": [
       "   Company  Number of aircraft  FH per aircraft per month End of contract\n",
       "0        1                   6                        415      2024-12-01\n",
       "1        2                   2                        310      2030-12-01\n",
       "2        3                  12                        350      2026-12-01\n",
       "3        4                   5                        240      2023-12-01\n",
       "4        5                  19                        375      2026-12-01\n",
       "5        6                   6                        350      2027-12-01"
      ]
     },
     "execution_count": 38,
     "metadata": {},
     "output_type": "execute_result"
    }
   ],
   "source": [
    "air_test"
   ]
  },
  {
   "cell_type": "code",
   "execution_count": 39,
   "metadata": {},
   "outputs": [
    {
     "data": {
      "text/plain": [
       "<AxesSubplot:xlabel='timeline'>"
      ]
     },
     "execution_count": 39,
     "metadata": {},
     "output_type": "execute_result"
    },
    {
     "data": {
      "image/png": "[encoded data removed]",
      "text/plain": [
       "<Figure size 432x288 with 1 Axes>"
      ]
     },
     "metadata": {
      "needs_background": "light"
     },
     "output_type": "display_data"
    }
   ],
   "source": [
    "KMF(\"C\",df=data_test_types).plot(ci_show=True)"
   ]
  },
  {
   "cell_type": "code",
   "execution_count": 40,
   "metadata": {
    "executionInfo": {
     "elapsed": 102415,
     "status": "ok",
     "timestamp": 1607626233130,
     "user": {
      "displayName": "Nguyen Bao",
      "photoUrl": "https://lh3.googleusercontent.com/a-/AOh14Gjw7M03YsQjaWXfKVf3GckShdGXMown08YblXnIzQ=s64",
      "userId": "00428871316513598663"
     },
     "user_tz": -60
    },
    "id": "zvFm4mIVRFXq",
    "scrolled": false
   },
   "outputs": [
    {
     "name": "stdout",
     "output_type": "stream",
     "text": [
      "There are 2067 units of type C of company 3 which is actually on aircraft.\n",
      "Estimated number of type C unit in stock for company 3 from 12/2018 until 12/2020: 811.559\n",
      "with Empirical Confidence Interval (759.00,862.00), CLT Confidence Interval (810.00,813.12) at level 95.00% and with repair rate is  0.8\n",
      "Simulation time (by second):  128.93541932106018\n"
     ]
    },
    {
     "data": {
      "image/png": "[encoded data removed]",
      "text/plain": [
       "<Figure size 432x288 with 1 Axes>"
      ]
     },
     "metadata": {
      "needs_background": "light"
     },
     "output_type": "display_data"
    },
    {
     "data": {
      "image/png": "[encoded data removed]",
      "text/plain": [
       "<Figure size 432x288 with 1 Axes>"
      ]
     },
     "metadata": {
      "needs_background": "light"
     },
     "output_type": "display_data"
    }
   ],
   "source": [
    "company=3         # must be in INTEGER\n",
    "unit_type='C' # STRING\n",
    "year=2020         # INTEGER\n",
    "month=12           # INTEGER\n",
    "\n",
    "date_test = dt.datetime(2018,12,1)\n",
    "Result_display(company,unit_type,year,month,df=data_test,df_types=data_test_types,airlines=air_test,Begin=date_test)"
   ]
  },
  {
   "cell_type": "code",
   "execution_count": 41,
   "metadata": {},
   "outputs": [
    {
     "name": "stdout",
     "output_type": "stream",
     "text": [
      "Number of fail in 2018 :  1250\n",
      "Number of fail in 2020 :  1572\n",
      "Number of fail from 12/2018 to 12/2020 in reality :  322\n"
     ]
    }
   ],
   "source": [
    "table_18 = data_test[data_test.PN=='C']\n",
    "table_18 = table_18[table_18.Company==3]\n",
    "table_18 = table_18[table_18.failed==True]\n",
    "print(\"Number of fail in 2018 : \", len(table_18))\n",
    "table_20 = data[data.PN=='C']\n",
    "table_20 = table_20[table_20.Company==3]\n",
    "table_20 = table_20[table_20.failed==True]\n",
    "print(\"Number of fail in 2020 : \", len(table_20))\n",
    "print(\"Number of fail from 12/2018 to 12/2020 in reality : \",len(table_20)-len(table_18))"
   ]
  },
  {
   "cell_type": "markdown",
   "metadata": {},
   "source": [
    "Test for all companies"
   ]
  },
  {
   "cell_type": "code",
   "execution_count": 42,
   "metadata": {},
   "outputs": [
    {
     "name": "stdout",
     "output_type": "stream",
     "text": [
      "Number of failures in average by simulation :  812.874\n",
      "Confidence Interval :  [766.    861.025]\n"
     ]
    }
   ],
   "source": [
    "unit_type='C' # STRING\n",
    "year=2020         # INTEGER\n",
    "month=12           # INTEGER\n",
    "\n",
    "date_test = dt.datetime(2018,12,1)\n",
    "s,y,ci1,ci2,t = Estimated_Stock_All_Companies(unit_type,year,month,df=data_test,df_types=data_test_types,airlines=air_test,Begin=date_test)\n",
    "print(\"Number of failures in average by simulation : \", s)\n",
    "print(\"Confidence Interval : \",ci1)"
   ]
  },
  {
   "cell_type": "code",
   "execution_count": 43,
   "metadata": {},
   "outputs": [
    {
     "name": "stdout",
     "output_type": "stream",
     "text": [
      "Number of fail in 2018 :  1250\n",
      "Number of fail in 2020 :  1572\n",
      "Number of fail from 12/2018 to 12/2020 in reality :  322\n"
     ]
    }
   ],
   "source": [
    "table_18 = data_test[data_test.PN=='C']\n",
    "table_18 = table_18[table_18.failed==True]\n",
    "print(\"Number of fail in 2018 : \", len(table_18))\n",
    "table_20 = data[data.PN=='C']\n",
    "table_20 = table_20[table_20.failed==True]\n",
    "print(\"Number of fail in 2020 : \", len(table_20))\n",
    "print(\"Number of fail from 12/2018 to 12/2020 in reality : \",len(table_20)-len(table_18))"
   ]
  },
  {
   "cell_type": "markdown",
   "metadata": {},
   "source": [
    "Evolution of failure number as function of time:"
   ]
  },
  {
   "cell_type": "code",
   "execution_count": 54,
   "metadata": {},
   "outputs": [
    {
     "data": {
      "image/png": "[encoded data removed]",
      "text/plain": [
       "<Figure size 432x288 with 1 Axes>"
      ]
     },
     "metadata": {
      "needs_background": "light"
     },
     "output_type": "display_data"
    },
    {
     "name": "stdout",
     "output_type": "stream",
     "text": [
      "Simulation time (by second): 1576.8314888477325\n"
     ]
    },
    {
     "data": {
      "text/html": [
       "<div>\n",
       "<style scoped>\n",
       "    .dataframe tbody tr th:only-of-type {\n",
       "        vertical-align: middle;\n",
       "    }\n",
       "\n",
       "    .dataframe tbody tr th {\n",
       "        vertical-align: top;\n",
       "    }\n",
       "\n",
       "    .dataframe thead th {\n",
       "        text-align: right;\n",
       "    }\n",
       "</style>\n",
       "<table border=\"1\" class=\"dataframe\">\n",
       "  <thead>\n",
       "    <tr style=\"text-align: right;\">\n",
       "      <th></th>\n",
       "      <th>Date</th>\n",
       "      <th>Number of Failure</th>\n",
       "    </tr>\n",
       "  </thead>\n",
       "  <tbody>\n",
       "    <tr>\n",
       "      <th>0</th>\n",
       "      <td>2018-12-01</td>\n",
       "      <td>0.000</td>\n",
       "    </tr>\n",
       "    <tr>\n",
       "      <th>1</th>\n",
       "      <td>2019-01-30</td>\n",
       "      <td>144.220</td>\n",
       "    </tr>\n",
       "    <tr>\n",
       "      <th>2</th>\n",
       "      <td>2019-04-01</td>\n",
       "      <td>230.434</td>\n",
       "    </tr>\n",
       "    <tr>\n",
       "      <th>3</th>\n",
       "      <td>2019-06-01</td>\n",
       "      <td>381.379</td>\n",
       "    </tr>\n",
       "    <tr>\n",
       "      <th>4</th>\n",
       "      <td>2019-08-01</td>\n",
       "      <td>417.698</td>\n",
       "    </tr>\n",
       "    <tr>\n",
       "      <th>5</th>\n",
       "      <td>2019-10-01</td>\n",
       "      <td>471.175</td>\n",
       "    </tr>\n",
       "    <tr>\n",
       "      <th>6</th>\n",
       "      <td>2019-12-01</td>\n",
       "      <td>567.601</td>\n",
       "    </tr>\n",
       "    <tr>\n",
       "      <th>7</th>\n",
       "      <td>2020-01-30</td>\n",
       "      <td>608.854</td>\n",
       "    </tr>\n",
       "    <tr>\n",
       "      <th>8</th>\n",
       "      <td>2020-03-31</td>\n",
       "      <td>677.561</td>\n",
       "    </tr>\n",
       "    <tr>\n",
       "      <th>9</th>\n",
       "      <td>2020-05-31</td>\n",
       "      <td>714.942</td>\n",
       "    </tr>\n",
       "    <tr>\n",
       "      <th>10</th>\n",
       "      <td>2020-07-31</td>\n",
       "      <td>745.095</td>\n",
       "    </tr>\n",
       "    <tr>\n",
       "      <th>11</th>\n",
       "      <td>2020-09-30</td>\n",
       "      <td>774.126</td>\n",
       "    </tr>\n",
       "    <tr>\n",
       "      <th>12</th>\n",
       "      <td>2020-11-30</td>\n",
       "      <td>812.195</td>\n",
       "    </tr>\n",
       "  </tbody>\n",
       "</table>\n",
       "</div>"
      ],
      "text/plain": [
       "          Date  Number of Failure\n",
       "0   2018-12-01              0.000\n",
       "1   2019-01-30            144.220\n",
       "2   2019-04-01            230.434\n",
       "3   2019-06-01            381.379\n",
       "4   2019-08-01            417.698\n",
       "5   2019-10-01            471.175\n",
       "6   2019-12-01            567.601\n",
       "7   2020-01-30            608.854\n",
       "8   2020-03-31            677.561\n",
       "9   2020-05-31            714.942\n",
       "10  2020-07-31            745.095\n",
       "11  2020-09-30            774.126\n",
       "12  2020-11-30            812.195"
      ]
     },
     "execution_count": 54,
     "metadata": {},
     "output_type": "execute_result"
    }
   ],
   "source": [
    "unit_type='C' # STRING\n",
    "year=2020        # INTEGER\n",
    "month=12  \n",
    "gap=2 # we simulate the number of failure for each 2 month\n",
    "\n",
    "ts = time.time()\n",
    "x,y,y1,y2=Time_series(unit_type,month,year,df=data_test,df_types=data_test_types,airlines=air_test,Begin=date_test,l=gap)\n",
    "te = time.time()\n",
    "xx=[]\n",
    "for i in range(len(x)):\n",
    "    xx+=[month_to_datetime(x[i])]\n",
    "plt.show()\n",
    "fig, ax = plt.subplots()\n",
    "ax.plot(xx,y)\n",
    "plt.gcf().autofmt_xdate()\n",
    "ax.fill_between(xx, y1, y2, alpha=.2)  # 2.5% lower and 97.5% upper\n",
    "plt.ylabel('Number of failures')\n",
    "plt.xlabel('Date')\n",
    "plt.show()\n",
    "print('Simulation time (by second):',te-ts)\n",
    "\n",
    "# Data frame display\n",
    "failure_number = {'Date': xx,\n",
    "        'Number of Failure': y}\n",
    "FailureNumber = pd.DataFrame(failure_number, columns = ['Date', 'Number of Failure'])\n",
    "FailureNumber"
   ]
  },
  {
   "cell_type": "markdown",
   "metadata": {},
   "source": [
    "We see that the failure number of PN \"C\" from 01/12/2018 to 01/12/2020 obtained by simulation is 812 (in average) by comparing with 322 in reality. We can explain that:\n",
    "\n",
    "- Firstly, a part of this different came from the fact that the airline has less aircraft flying in the period 2019-2020 due to the pandemic. Consequently, there was less failure part in that time.\n",
    "\n",
    "- Secondly, between 2015 and 2020, we have replaced many part number \"C\" by a new technology, which allows to increase the life time of this part number, so the expected number of failure has decreased over time."
   ]
  }
 ],
 "metadata": {
  "colab": {
   "collapsed_sections": [],
   "name": "FlightDataAnalysis-git.ipynb",
   "provenance": [],
   "toc_visible": true
  },
  "kernelspec": {
   "display_name": "Python 3",
   "language": "python",
   "name": "python3"
  },
  "language_info": {
   "codemirror_mode": {
    "name": "ipython",
    "version": 3
   },
   "file_extension": ".py",
   "mimetype": "text/x-python",
   "name": "python",
   "nbconvert_exporter": "python",
   "pygments_lexer": "ipython3",
   "version": "3.8.2"
  }
 },
 "nbformat": 4,
 "nbformat_minor": 1
}
