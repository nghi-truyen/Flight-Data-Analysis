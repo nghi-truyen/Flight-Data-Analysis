{
 "cells": [
  {
   "cell_type": "markdown",
   "metadata": {
    "id": "my3rUSgcYPRj"
   },
   "source": [
    "# Flight Data Analysis - Airbus"
   ]
  },
  {
   "cell_type": "code",
   "execution_count": 1,
   "metadata": {
    "colab": {
     "base_uri": "https://localhost:8080/"
    },
    "executionInfo": {
     "elapsed": 3510,
     "status": "ok",
     "timestamp": 1607626133820,
     "user": {
      "displayName": "Nguyen Bao",
      "photoUrl": "https://lh3.googleusercontent.com/a-/AOh14Gjw7M03YsQjaWXfKVf3GckShdGXMown08YblXnIzQ=s64",
      "userId": "00428871316513598663"
     },
     "user_tz": -60
    },
    "id": "rB_wJLPEES9v",
    "outputId": "8f21024f-4402-4d15-bf04-478f232541e5"
   },
   "outputs": [],
   "source": [
    "#!pip install lifelines"
   ]
  },
  {
   "cell_type": "code",
   "execution_count": 2,
   "metadata": {
    "executionInfo": {
     "elapsed": 3495,
     "status": "ok",
     "timestamp": 1607626133823,
     "user": {
      "displayName": "Nguyen Bao",
      "photoUrl": "https://lh3.googleusercontent.com/a-/AOh14Gjw7M03YsQjaWXfKVf3GckShdGXMown08YblXnIzQ=s64",
      "userId": "00428871316513598663"
     },
     "user_tz": -60
    },
    "id": "IK20cx_KYPRl"
   },
   "outputs": [],
   "source": [
    "from __future__ import division\n",
    "\n",
    "import pandas as pd\n",
    "import matplotlib.pyplot as plt\n",
    "import numpy as np\n",
    "import scipy\n",
    "from scipy.stats import norm\n",
    "import warnings"
   ]
  },
  {
   "cell_type": "markdown",
   "metadata": {
    "id": "aVrFNjhbYPRt"
   },
   "source": [
    "## I. Data Set"
   ]
  },
  {
   "cell_type": "code",
   "execution_count": 3,
   "metadata": {},
   "outputs": [],
   "source": [
    "# import data by using colab\n",
    "\n",
    "# import sys\n",
    "# sys.path.append('/content/drive/My Drive/Hoc/Projet5A/')\n",
    "# import vect\n",
    "# from vect import varange, vectorize\n",
    "\n",
    "# from google.colab import drive\n",
    "# drive.mount('/content/drive/')\n",
    "# file_location = '/content/drive/My Drive/Hoc/Projet5A/INSA-Airbus FHS - Dataset_ter.xlsx'"
   ]
  },
  {
   "cell_type": "code",
   "execution_count": 4,
   "metadata": {
    "colab": {
     "base_uri": "https://localhost:8080/"
    },
    "executionInfo": {
     "elapsed": 5651,
     "status": "ok",
     "timestamp": 1607626135994,
     "user": {
      "displayName": "Nguyen Bao",
      "photoUrl": "https://lh3.googleusercontent.com/a-/AOh14Gjw7M03YsQjaWXfKVf3GckShdGXMown08YblXnIzQ=s64",
      "userId": "00428871316513598663"
     },
     "user_tz": -60
    },
    "id": "ymhaw-GDDMaD",
    "outputId": "26bcd7b4-f978-4432-f072-78bf53c4bb3b"
   },
   "outputs": [],
   "source": [
    "# by using notebook\n",
    "\n",
    "file_location = \"./DataSet/Dataset_ter.xlsx\""
   ]
  },
  {
   "cell_type": "markdown",
   "metadata": {
    "id": "vLvDSuB8YPSB"
   },
   "source": [
    "##### Data preprocessing :"
   ]
  },
  {
   "cell_type": "code",
   "execution_count": 5,
   "metadata": {
    "executionInfo": {
     "elapsed": 5607,
     "status": "ok",
     "timestamp": 1607626136018,
     "user": {
      "displayName": "Nguyen Bao",
      "photoUrl": "https://lh3.googleusercontent.com/a-/AOh14Gjw7M03YsQjaWXfKVf3GckShdGXMown08YblXnIzQ=s64",
      "userId": "00428871316513598663"
     },
     "user_tz": -60
    },
    "id": "B3oYiGyjYPSB"
   },
   "outputs": [],
   "source": [
    "def preprocessing(file_location):\n",
    "# Import data\n",
    "    Removals = pd.read_excel(file_location, sheet_name='Removals')\n",
    "    SNlist = pd.read_excel(file_location, sheet_name='SN list')\n",
    "    airlines = pd.read_excel(file_location, sheet_name='Airlines')\n",
    "\n",
    "# Combining Removals and SNlist :\n",
    "    fail_and_not = SNlist.copy()\n",
    "    fail_and_not['On_Aircraft'] = False\n",
    "    onaircraft_fan = fail_and_not['On_Aircraft']\n",
    "    onaircraft_fan[fail_and_not['Current SN Status Description']=='On Aircraft']=True\n",
    "    fail_and_not['On_Aircraft'] = onaircraft_fan\n",
    "    fail_and_not['failed'] = False\n",
    "    failed_fan = fail_and_not['failed']\n",
    "    failed_fan[fail_and_not['Current SN Status Description']=='In Outside Repair']=True\n",
    "    fail_and_not['failed'] = failed_fan\n",
    "    fail_and_not = fail_and_not.drop(['Description','Current SN Status Description','Since New Date'], axis = 1)\n",
    "    fail_and_not = fail_and_not.rename(columns={\"Part Number\": \"PN\", \"Serial Number\": \"SN\", \"Hour ageing Since Installation\": \"TSI\", \"Hour ageing Since New\": \"TSN\"})\n",
    "\n",
    "    fail = Removals.copy()\n",
    "    fail['On_Aircraft'] = False\n",
    "    fail['failed'] = True\n",
    "    failed_f = fail['failed']\n",
    "    failed_f[fail['Maintenance Type']=='Scheduled'] = False\n",
    "    fail['failed'] = failed_f\n",
    "    fail = fail.drop(['Removal date','Description','Maintenance Type'], axis=1)\n",
    "    fail = fail.rename(columns={\"P/N\": \"PN\", \"S/N\": \"SN\", \"TSI (Flight Hours) at removal\": \"TSI\", \"TSN (Flight Hours) at Removal\": \"TSN\", \"Customer\":\"Company\"})\n",
    "\n",
    "    all_SN = pd.unique(fail_and_not['SN'])\n",
    "    SN_Removals = pd.unique(fail['SN'])\n",
    "\n",
    "    combined = pd.concat([fail,fail_and_not], ignore_index=True)\n",
    "    combined = combined.drop_duplicates(subset=['SN','PN','TSN'], keep='last')\n",
    "\n",
    "# Data errors treatment\n",
    "    combined['TSI']=combined['TSI'].replace(np.nan, 0.0)\n",
    "    combined['TSN']=combined['TSN'].replace(np.nan, 0.0)\n",
    "    combined['Company']=combined['Company'].replace('1', 1)\n",
    "    combined['Company']=combined['Company'].replace('3', 3)\n",
    "    combined = combined[combined['TSN']!=0]\n",
    "    return combined, airlines"
   ]
  },
  {
   "cell_type": "code",
   "execution_count": 6,
   "metadata": {
    "colab": {
     "base_uri": "https://localhost:8080/",
     "height": 216
    },
    "executionInfo": {
     "elapsed": 5583,
     "status": "ok",
     "timestamp": 1607626136021,
     "user": {
      "displayName": "Nguyen Bao",
      "photoUrl": "https://lh3.googleusercontent.com/a-/AOh14Gjw7M03YsQjaWXfKVf3GckShdGXMown08YblXnIzQ=s64",
      "userId": "00428871316513598663"
     },
     "user_tz": -60
    },
    "id": "d_EY5a2kYPSN",
    "outputId": "16ae5560-52fb-435a-9111-b829d63a829f",
    "scrolled": false
   },
   "outputs": [
    {
     "name": "stdout",
     "output_type": "stream",
     "text": [
      "Unit types : ['C' 'B' 'A' 'C-new']\n"
     ]
    },
    {
     "data": {
      "text/html": [
       "<div>\n",
       "<style scoped>\n",
       "    .dataframe tbody tr th:only-of-type {\n",
       "        vertical-align: middle;\n",
       "    }\n",
       "\n",
       "    .dataframe tbody tr th {\n",
       "        vertical-align: top;\n",
       "    }\n",
       "\n",
       "    .dataframe thead th {\n",
       "        text-align: right;\n",
       "    }\n",
       "</style>\n",
       "<table border=\"1\" class=\"dataframe\">\n",
       "  <thead>\n",
       "    <tr style=\"text-align: right;\">\n",
       "      <th></th>\n",
       "      <th>Company</th>\n",
       "      <th>PN</th>\n",
       "      <th>SN</th>\n",
       "      <th>TSI</th>\n",
       "      <th>TSN</th>\n",
       "      <th>On_Aircraft</th>\n",
       "      <th>failed</th>\n",
       "    </tr>\n",
       "  </thead>\n",
       "  <tbody>\n",
       "    <tr>\n",
       "      <th>0</th>\n",
       "      <td>3</td>\n",
       "      <td>C</td>\n",
       "      <td>15323054356</td>\n",
       "      <td>5819.0</td>\n",
       "      <td>5819.0</td>\n",
       "      <td>False</td>\n",
       "      <td>True</td>\n",
       "    </tr>\n",
       "    <tr>\n",
       "      <th>1</th>\n",
       "      <td>3</td>\n",
       "      <td>C</td>\n",
       "      <td>15323057041</td>\n",
       "      <td>5819.0</td>\n",
       "      <td>5819.0</td>\n",
       "      <td>False</td>\n",
       "      <td>True</td>\n",
       "    </tr>\n",
       "    <tr>\n",
       "      <th>2</th>\n",
       "      <td>3</td>\n",
       "      <td>C</td>\n",
       "      <td>15323072973</td>\n",
       "      <td>3036.0</td>\n",
       "      <td>3036.0</td>\n",
       "      <td>False</td>\n",
       "      <td>True</td>\n",
       "    </tr>\n",
       "    <tr>\n",
       "      <th>3</th>\n",
       "      <td>3</td>\n",
       "      <td>C</td>\n",
       "      <td>15323053425</td>\n",
       "      <td>5614.0</td>\n",
       "      <td>5614.0</td>\n",
       "      <td>False</td>\n",
       "      <td>True</td>\n",
       "    </tr>\n",
       "    <tr>\n",
       "      <th>4</th>\n",
       "      <td>3</td>\n",
       "      <td>C</td>\n",
       "      <td>15323058236</td>\n",
       "      <td>5614.0</td>\n",
       "      <td>5614.0</td>\n",
       "      <td>False</td>\n",
       "      <td>True</td>\n",
       "    </tr>\n",
       "  </tbody>\n",
       "</table>\n",
       "</div>"
      ],
      "text/plain": [
       "  Company PN           SN     TSI     TSN  On_Aircraft  failed\n",
       "0       3  C  15323054356  5819.0  5819.0        False    True\n",
       "1       3  C  15323057041  5819.0  5819.0        False    True\n",
       "2       3  C  15323072973  3036.0  3036.0        False    True\n",
       "3       3  C  15323053425  5614.0  5614.0        False    True\n",
       "4       3  C  15323058236  5614.0  5614.0        False    True"
      ]
     },
     "execution_count": 6,
     "metadata": {},
     "output_type": "execute_result"
    }
   ],
   "source": [
    "with warnings.catch_warnings():\n",
    "    warnings.filterwarnings(\"ignore\")\n",
    "    combined, airlines = preprocessing(file_location)\n",
    "types = pd.unique(combined[\"PN\"])\n",
    "types = types[np.logical_not(pd.isnull(types))]\n",
    "print(\"Unit types :\",types)\n",
    "combined.head()"
   ]
  },
  {
   "cell_type": "code",
   "execution_count": 7,
   "metadata": {
    "colab": {
     "base_uri": "https://localhost:8080/"
    },
    "executionInfo": {
     "elapsed": 5568,
     "status": "ok",
     "timestamp": 1607626136022,
     "user": {
      "displayName": "Nguyen Bao",
      "photoUrl": "https://lh3.googleusercontent.com/a-/AOh14Gjw7M03YsQjaWXfKVf3GckShdGXMown08YblXnIzQ=s64",
      "userId": "00428871316513598663"
     },
     "user_tz": -60
    },
    "id": "BlaeknFwYPSW",
    "outputId": "9889f702-d9d5-4bef-b4d2-c8ee10a63e4e"
   },
   "outputs": [
    {
     "name": "stdout",
     "output_type": "stream",
     "text": [
      "6010 / 7774 distinct SN.\n"
     ]
    }
   ],
   "source": [
    "print(len(set(combined['SN'])),'/',len(combined), 'distinct SN.')"
   ]
  },
  {
   "cell_type": "markdown",
   "metadata": {
    "id": "ChCUMfmsYPTA"
   },
   "source": [
    "## II. Data Analysis"
   ]
  },
  {
   "cell_type": "code",
   "execution_count": 8,
   "metadata": {
    "executionInfo": {
     "elapsed": 5559,
     "status": "ok",
     "timestamp": 1607626136031,
     "user": {
      "displayName": "Nguyen Bao",
      "photoUrl": "https://lh3.googleusercontent.com/a-/AOh14Gjw7M03YsQjaWXfKVf3GckShdGXMown08YblXnIzQ=s64",
      "userId": "00428871316513598663"
     },
     "user_tz": -60
    },
    "id": "4nwPRsmfooGw"
   },
   "outputs": [],
   "source": [
    "data = combined.copy()\n",
    "alpha = 0.05 # coefficient related to confidence levels"
   ]
  },
  {
   "cell_type": "code",
   "execution_count": 9,
   "metadata": {
    "executionInfo": {
     "elapsed": 5552,
     "status": "ok",
     "timestamp": 1607626136033,
     "user": {
      "displayName": "Nguyen Bao",
      "photoUrl": "https://lh3.googleusercontent.com/a-/AOh14Gjw7M03YsQjaWXfKVf3GckShdGXMown08YblXnIzQ=s64",
      "userId": "00428871316513598663"
     },
     "user_tz": -60
    },
    "id": "okEKpwmeDEcO"
   },
   "outputs": [],
   "source": [
    "data_types = {}\n",
    "for typ in types:\n",
    "    data_types[typ] = data[data['PN']==typ]"
   ]
  },
  {
   "cell_type": "code",
   "execution_count": 10,
   "metadata": {
    "executionInfo": {
     "elapsed": 5544,
     "status": "ok",
     "timestamp": 1607626136036,
     "user": {
      "displayName": "Nguyen Bao",
      "photoUrl": "https://lh3.googleusercontent.com/a-/AOh14Gjw7M03YsQjaWXfKVf3GckShdGXMown08YblXnIzQ=s64",
      "userId": "00428871316513598663"
     },
     "user_tz": -60
    },
    "id": "iojAOtejDEcO"
   },
   "outputs": [],
   "source": [
    "def time_sticker(data_type): \n",
    "    T = data_type.TSI.to_numpy(dtype=\"float\")\n",
    "    d = np.array([1 if f == True else 0 for f in data_type.failed])\n",
    "    return T,d"
   ]
  },
  {
   "cell_type": "markdown",
   "metadata": {
    "id": "UUX4gn4pDEcO"
   },
   "source": [
    "### 1. Nelson-Aalen and Kaplan-Meier estimators"
   ]
  },
  {
   "cell_type": "markdown",
   "metadata": {
    "id": "zPK71-HvDEcO"
   },
   "source": [
    "We first consider the Nelson-Aalen estimator and the Kaplan-Meier estimator which will be used to compare with the model we apply for data in each cases.\n",
    "\n",
    "(Note that we need to install the \"lifelines\" package for Python)."
   ]
  },
  {
   "cell_type": "code",
   "execution_count": 11,
   "metadata": {
    "executionInfo": {
     "elapsed": 5537,
     "status": "ok",
     "timestamp": 1607626136038,
     "user": {
      "displayName": "Nguyen Bao",
      "photoUrl": "https://lh3.googleusercontent.com/a-/AOh14Gjw7M03YsQjaWXfKVf3GckShdGXMown08YblXnIzQ=s64",
      "userId": "00428871316513598663"
     },
     "user_tz": -60
    },
    "id": "CCDy8zSBDEcO"
   },
   "outputs": [],
   "source": [
    "from lifelines import KaplanMeierFitter\n",
    "from lifelines import NelsonAalenFitter\n",
    "\n",
    "def NAF(typ,df=data_types): # Nelson_Aalen model\n",
    "    data_type = df[typ]\n",
    "    T,d=time_sticker(data_type)\n",
    "    label = \"NA-estimator of type \" + typ\n",
    "    return NelsonAalenFitter().fit(T,d,alpha=alpha,label=label)\n",
    "\n",
    "def KMF(typ,df=data_types): # Kaplan_meier model\n",
    "    data_type = df[typ]\n",
    "    T,d=time_sticker(data_type)\n",
    "    label = \"KM-estimator of type \" + typ\n",
    "    return KaplanMeierFitter().fit(T,d,alpha=alpha,label=label)"
   ]
  },
  {
   "cell_type": "code",
   "execution_count": 12,
   "metadata": {
    "colab": {
     "base_uri": "https://localhost:8080/",
     "height": 281
    },
    "executionInfo": {
     "elapsed": 6134,
     "status": "ok",
     "timestamp": 1607626136648,
     "user": {
      "displayName": "Nguyen Bao",
      "photoUrl": "https://lh3.googleusercontent.com/a-/AOh14Gjw7M03YsQjaWXfKVf3GckShdGXMown08YblXnIzQ=s64",
      "userId": "00428871316513598663"
     },
     "user_tz": -60
    },
    "id": "IzrzgS8XDEcP",
    "outputId": "8d5f6252-361a-4ad3-ee2d-89f51eeec153"
   },
   "outputs": [
    {
     "data": {
      "image/png": "[encoded data removed]",
      "text/plain": [
       "<Figure size 432x288 with 1 Axes>"
      ]
     },
     "metadata": {
      "needs_background": "light"
     },
     "output_type": "display_data"
    }
   ],
   "source": [
    "for typ in types:\n",
    "    NAF(typ).plot(ci_show=True)"
   ]
  },
  {
   "cell_type": "code",
   "execution_count": 13,
   "metadata": {
    "colab": {
     "base_uri": "https://localhost:8080/",
     "height": 279
    },
    "executionInfo": {
     "elapsed": 6560,
     "status": "ok",
     "timestamp": 1607626137099,
     "user": {
      "displayName": "Nguyen Bao",
      "photoUrl": "https://lh3.googleusercontent.com/a-/AOh14Gjw7M03YsQjaWXfKVf3GckShdGXMown08YblXnIzQ=s64",
      "userId": "00428871316513598663"
     },
     "user_tz": -60
    },
    "id": "z8l-ULRgDEcQ",
    "outputId": "c9bf9932-44eb-4493-e531-3d6c315534e6"
   },
   "outputs": [
    {
     "data": {
      "image/png": "[encoded data removed]",
      "text/plain": [
       "<Figure size 432x288 with 1 Axes>"
      ]
     },
     "metadata": {
      "needs_background": "light"
     },
     "output_type": "display_data"
    }
   ],
   "source": [
    "for typ in types:\n",
    "    KMF(typ).plot(ci_show=True)"
   ]
  },
  {
   "cell_type": "markdown",
   "metadata": {
    "id": "OcR4omdTDEcQ"
   },
   "source": [
    "### 2. Parametric models"
   ]
  },
  {
   "cell_type": "markdown",
   "metadata": {
    "id": "4Z4G_-fsMO4r"
   },
   "source": [
    "Find best parametric model"
   ]
  },
  {
   "cell_type": "code",
   "execution_count": 14,
   "metadata": {
    "executionInfo": {
     "elapsed": 6547,
     "status": "ok",
     "timestamp": 1607626137104,
     "user": {
      "displayName": "Nguyen Bao",
      "photoUrl": "https://lh3.googleusercontent.com/a-/AOh14Gjw7M03YsQjaWXfKVf3GckShdGXMown08YblXnIzQ=s64",
      "userId": "00428871316513598663"
     },
     "user_tz": -60
    },
    "id": "6arhxuL2gdaR"
   },
   "outputs": [],
   "source": [
    "from lifelines.utils import find_best_parametric_model\n",
    "\n",
    "def best_parametric_model(typ,df=data_types): # find the best parametric model which bases in AIC (or BIC as we can change scoring_method=\"BIC\") method.\n",
    "    data_type = df[typ]\n",
    "    T,d=time_sticker(data_type)\n",
    "    T[T==0]=1e-6 # Avoid divising by zero.\n",
    "    tau=1-sum(d)/len(d)\n",
    "    if tau>0.9:\n",
    "        warnings.warn(\"There are more 90% censored data in type {} data. The applied model might not be correct!\".format(str(typ)))\n",
    "    best_model = find_best_parametric_model(T, d, scoring_method=\"AIC\")[0]\n",
    "    return best_model"
   ]
  },
  {
   "cell_type": "markdown",
   "metadata": {
    "id": "x1K-hExkMdIP"
   },
   "source": [
    "Plotting best parametric model and KM-estimator:"
   ]
  },
  {
   "cell_type": "code",
   "execution_count": 15,
   "metadata": {
    "executionInfo": {
     "elapsed": 6538,
     "status": "ok",
     "timestamp": 1607626137105,
     "user": {
      "displayName": "Nguyen Bao",
      "photoUrl": "https://lh3.googleusercontent.com/a-/AOh14Gjw7M03YsQjaWXfKVf3GckShdGXMown08YblXnIzQ=s64",
      "userId": "00428871316513598663"
     },
     "user_tz": -60
    },
    "id": "K6XWvvahMnv7"
   },
   "outputs": [],
   "source": [
    "def R_plot(typ): # We visualize if the best parametric model can fit the data of type \"typ\"\n",
    "    m = best_parametric_model(typ)\n",
    "    m.survival_function_.plot()\n",
    "    KMF(typ).plot()\n",
    "    plt.ylabel('Reliability function')\n",
    "    plt.xlabel('Timeline')\n",
    "    plt.title('Type ' + typ + ' data')"
   ]
  },
  {
   "cell_type": "code",
   "execution_count": 16,
   "metadata": {
    "colab": {
     "base_uri": "https://localhost:8080/",
     "height": 1000
    },
    "executionInfo": {
     "elapsed": 94316,
     "status": "ok",
     "timestamp": 1607626224895,
     "user": {
      "displayName": "Nguyen Bao",
      "photoUrl": "https://lh3.googleusercontent.com/a-/AOh14Gjw7M03YsQjaWXfKVf3GckShdGXMown08YblXnIzQ=s64",
      "userId": "00428871316513598663"
     },
     "user_tz": -60
    },
    "id": "Q8F8IlXOMs65",
    "outputId": "583ca8a4-3741-4bdb-ee99-0940d493d471"
   },
   "outputs": [
    {
     "name": "stderr",
     "output_type": "stream",
     "text": [
      "<ipython-input-14-1c412288dc8f>:9: UserWarning: There are more 90% censored data in type C-new data. The applied model might not be correct!\n",
      "  warnings.warn(\"There are more 90% censored data in type {} data. The applied model might not be correct!\".format(str(typ)))\n"
     ]
    },
    {
     "data": {
      "image/png": "[encoded data removed]",
      "text/plain": [
       "<Figure size 432x288 with 1 Axes>"
      ]
     },
     "metadata": {
      "needs_background": "light"
     },
     "output_type": "display_data"
    },
    {
     "data": {
      "image/png": "[encoded data removed]",
      "text/plain": [
       "<Figure size 432x288 with 1 Axes>"
      ]
     },
     "metadata": {
      "needs_background": "light"
     },
     "output_type": "display_data"
    },
    {
     "data": {
      "image/png": "[encoded data removed]",
      "text/plain": [
       "<Figure size 432x288 with 1 Axes>"
      ]
     },
     "metadata": {
      "needs_background": "light"
     },
     "output_type": "display_data"
    },
    {
     "data": {
      "image/png": "[encoded data removed]",
      "text/plain": [
       "<Figure size 432x288 with 1 Axes>"
      ]
     },
     "metadata": {
      "needs_background": "light"
     },
     "output_type": "display_data"
    }
   ],
   "source": [
    "for typ in types:\n",
    "    R_plot(typ)"
   ]
  },
  {
   "cell_type": "markdown",
   "metadata": {
    "id": "nPXidDEigfpy"
   },
   "source": [
    "## III. Simulation and stock optimization "
   ]
  },
  {
   "cell_type": "code",
   "execution_count": 17,
   "metadata": {
    "colab": {
     "base_uri": "https://localhost:8080/",
     "height": 246
    },
    "executionInfo": {
     "elapsed": 94790,
     "status": "ok",
     "timestamp": 1607626225389,
     "user": {
      "displayName": "Nguyen Bao",
      "photoUrl": "https://lh3.googleusercontent.com/a-/AOh14Gjw7M03YsQjaWXfKVf3GckShdGXMown08YblXnIzQ=s64",
      "userId": "00428871316513598663"
     },
     "user_tz": -60
    },
    "id": "y03SWq7ATk8x",
    "outputId": "0c9093d5-7850-4e23-beaa-34a4393275d7"
   },
   "outputs": [
    {
     "name": "stdout",
     "output_type": "stream",
     "text": [
      "List of companies : [1 2 3 4 5 6]\n"
     ]
    },
    {
     "data": {
      "text/html": [
       "<div>\n",
       "<style scoped>\n",
       "    .dataframe tbody tr th:only-of-type {\n",
       "        vertical-align: middle;\n",
       "    }\n",
       "\n",
       "    .dataframe tbody tr th {\n",
       "        vertical-align: top;\n",
       "    }\n",
       "\n",
       "    .dataframe thead th {\n",
       "        text-align: right;\n",
       "    }\n",
       "</style>\n",
       "<table border=\"1\" class=\"dataframe\">\n",
       "  <thead>\n",
       "    <tr style=\"text-align: right;\">\n",
       "      <th></th>\n",
       "      <th>Company</th>\n",
       "      <th>Number of aircraft</th>\n",
       "      <th>FH per aircraft per month</th>\n",
       "      <th>End of contract</th>\n",
       "    </tr>\n",
       "  </thead>\n",
       "  <tbody>\n",
       "    <tr>\n",
       "      <th>0</th>\n",
       "      <td>1</td>\n",
       "      <td>6</td>\n",
       "      <td>415</td>\n",
       "      <td>2024-12-01</td>\n",
       "    </tr>\n",
       "    <tr>\n",
       "      <th>1</th>\n",
       "      <td>2</td>\n",
       "      <td>2</td>\n",
       "      <td>310</td>\n",
       "      <td>2030-12-01</td>\n",
       "    </tr>\n",
       "    <tr>\n",
       "      <th>2</th>\n",
       "      <td>3</td>\n",
       "      <td>12</td>\n",
       "      <td>350</td>\n",
       "      <td>2026-12-01</td>\n",
       "    </tr>\n",
       "    <tr>\n",
       "      <th>3</th>\n",
       "      <td>4</td>\n",
       "      <td>5</td>\n",
       "      <td>240</td>\n",
       "      <td>2023-12-01</td>\n",
       "    </tr>\n",
       "    <tr>\n",
       "      <th>4</th>\n",
       "      <td>5</td>\n",
       "      <td>19</td>\n",
       "      <td>375</td>\n",
       "      <td>2026-12-01</td>\n",
       "    </tr>\n",
       "    <tr>\n",
       "      <th>5</th>\n",
       "      <td>6</td>\n",
       "      <td>6</td>\n",
       "      <td>350</td>\n",
       "      <td>2027-12-01</td>\n",
       "    </tr>\n",
       "  </tbody>\n",
       "</table>\n",
       "</div>"
      ],
      "text/plain": [
       "   Company  Number of aircraft  FH per aircraft per month End of contract\n",
       "0        1                   6                        415      2024-12-01\n",
       "1        2                   2                        310      2030-12-01\n",
       "2        3                  12                        350      2026-12-01\n",
       "3        4                   5                        240      2023-12-01\n",
       "4        5                  19                        375      2026-12-01\n",
       "5        6                   6                        350      2027-12-01"
      ]
     },
     "execution_count": 17,
     "metadata": {},
     "output_type": "execute_result"
    }
   ],
   "source": [
    "list_company = pd.unique(airlines[\"Company\"])\n",
    "list_company = list_company[np.logical_not(pd.isnull(list_company))]\n",
    "print(\"List of companies :\",list_company)\n",
    "airlines"
   ]
  },
  {
   "cell_type": "markdown",
   "metadata": {
    "id": "YKPtGesgg0Fk"
   },
   "source": [
    "Simulation from parametric law\n",
    "\n",
    "The idea is: for each individual SN, we simulate the number of time it will fail till the end of contract, then for large number of SN, we repeat that simulation for each individual to calculate the sum."
   ]
  },
  {
   "cell_type": "markdown",
   "metadata": {
    "id": "2IoXZ92Jg_Az"
   },
   "source": [
    "Simulation from kaplan Meier"
   ]
  },
  {
   "cell_type": "code",
   "execution_count": 18,
   "metadata": {
    "executionInfo": {
     "elapsed": 95709,
     "status": "ok",
     "timestamp": 1607626226343,
     "user": {
      "displayName": "Nguyen Bao",
      "photoUrl": "https://lh3.googleusercontent.com/a-/AOh14Gjw7M03YsQjaWXfKVf3GckShdGXMown08YblXnIzQ=s64",
      "userId": "00428871316513598663"
     },
     "user_tz": -60
    },
    "id": "KJEX-7kpvfFF"
   },
   "outputs": [],
   "source": [
    "def inverse_sampling(kapmei, timeline):\n",
    "    u = np.random.uniform()\n",
    "    if u < kapmei[-1]:\n",
    "        T = -1\n",
    "    elif u > kapmei[0]:\n",
    "        T = 0\n",
    "    else:\n",
    "        arg = np.argmax(kapmei<=u)-1\n",
    "        T = timeline[arg]+(timeline[arg+1]-timeline[arg])*(kapmei[arg]-u)/(kapmei[arg]-kapmei[arg+1])\n",
    "    return T\n",
    "\n",
    "def conditional_inverse_sampling(kapmei, timeline, TSI):\n",
    "    T = 0\n",
    "    while T<=TSI and T>=0:\n",
    "        T = inverse_sampling(kapmei, timeline)\n",
    "    return T-TSI\n",
    "\n",
    "def num_of_fails_indivi_kapmei(TSI, T, kapmei, timeline):    \n",
    "    t = conditional_inverse_sampling(kapmei, timeline, TSI)\n",
    "    if t <= T:\n",
    "        n_fails = 0 \n",
    "        sum_t = (t<0)*np.max(timeline) + (t>=0)*t\n",
    "        while sum_t <= T:\n",
    "            t = inverse_sampling(kapmei, timeline)\n",
    "            sum_t += (t<0)*np.max(timeline) + (t>=0)*t\n",
    "            n_fails += 1\n",
    "        return n_fails\n",
    "    else: \n",
    "        return 0\n",
    "\n",
    "def num_of_fails_list(TSI_list, T, kapmei, timeline):\n",
    "    n_fails_list = []\n",
    "    for TSI in TSI_list:\n",
    "        n_fails = num_of_fails_indivi_kapmei(TSI, T, kapmei, timeline)\n",
    "        n_fails_list += [n_fails]\n",
    "    total_fails = np.sum(n_fails_list)\n",
    "    return total_fails"
   ]
  },
  {
   "cell_type": "markdown",
   "metadata": {
    "id": "sbYQTFj4sg2i"
   },
   "source": [
    "Estimate stock:"
   ]
  },
  {
   "cell_type": "code",
   "execution_count": 19,
   "metadata": {
    "executionInfo": {
     "elapsed": 95683,
     "status": "ok",
     "timestamp": 1607626226345,
     "user": {
      "displayName": "Nguyen Bao",
      "photoUrl": "https://lh3.googleusercontent.com/a-/AOh14Gjw7M03YsQjaWXfKVf3GckShdGXMown08YblXnIzQ=s64",
      "userId": "00428871316513598663"
     },
     "user_tz": -60
    },
    "id": "RPKbAlM5gfSo"
   },
   "outputs": [],
   "source": [
    "# Confidence Intervals\n",
    "\n",
    "def CI(Y,alpha=alpha):\n",
    "    n=len(Y)\n",
    "    # Confidence Interval of samples\n",
    "    low1=np.quantile(Y,alpha/2)\n",
    "    high1=np.quantile(Y,1-alpha/2)\n",
    "    # Confidence Interval of mean (by Central Limit Theorem)\n",
    "    mu=np.mean(Y)\n",
    "    std=np.std(Y)\n",
    "    q=norm.ppf(1-alpha/2, loc=0, scale=1)\n",
    "    S=std*q/np.sqrt(n)\n",
    "    low2=np.max([0.0,mu-S]) \n",
    "    high2=mu+S\n",
    "    return (low1,high1),(low2,high2)"
   ]
  },
  {
   "cell_type": "code",
   "execution_count": 20,
   "metadata": {
    "executionInfo": {
     "elapsed": 95700,
     "status": "ok",
     "timestamp": 1607626226344,
     "user": {
      "displayName": "Nguyen Bao",
      "photoUrl": "https://lh3.googleusercontent.com/a-/AOh14Gjw7M03YsQjaWXfKVf3GckShdGXMown08YblXnIzQ=s64",
      "userId": "00428871316513598663"
     },
     "user_tz": -60
    },
    "id": "WIv2Yr6RRLxv"
   },
   "outputs": [],
   "source": [
    "import datetime as dt\n",
    "Today = dt.datetime.now()\n",
    "\n",
    "def Estimated_Stock(company,typ,year,month,df=data,df_types=data_types,airlines=airlines,Begin=Today,MC=200):\n",
    "# MC is number iteration of Monte-Carlo\n",
    "    survival = KMF(typ,df=df_types).survival_function_.to_numpy()\n",
    "    timeline = KMF(typ,df=df_types).timeline\n",
    "    \n",
    "    FH_per_month = float(airlines[airlines['Company']==company]['FH per aircraft per month'])\n",
    "    End = dt.datetime(year, month, 1)\n",
    "    FH_till_end = FH_per_month*((End.year-Begin.year)*12+End.month-Begin.month)\n",
    "    \n",
    "    if FH_till_end>np.max(timeline):\n",
    "        warnings.warn(\"Kaplan-Meier model of type {} data can not estimate the stock until that day. We apply the best parametric model to predict in this case.\".format(str(typ)))\n",
    "        timeline = np.linspace(0,FH_till_end,2000)\n",
    "        survival = best_parametric_model(typ,df=df_types).survival_function_at_times(timeline).to_numpy()\n",
    "\n",
    "    dat = df[df.Company==company]\n",
    "    dat = dat[dat.PN==typ]\n",
    "    dat = dat[dat.On_Aircraft==True]\n",
    "    total = len(dat.TSI)\n",
    "  \n",
    "    list_TSI = dat[dat.failed==False].TSI.to_numpy()\n",
    "#    list_TSI = np.concatenate((list_TSI, np.zeros(sum(dat.failed))), axis=0)\n",
    "\n",
    "    stock = 0\n",
    "    y=[]\n",
    "    for i in range(MC):\n",
    "        a = num_of_fails_list(list_TSI,FH_till_end,survival,timeline)\n",
    "        y += [a]\n",
    "        stock += a\n",
    "    stock = stock/MC  \n",
    "    # CI\n",
    "    ci1,ci2=CI(y)\n",
    "    return stock,y,ci1,ci2,total"
   ]
  },
  {
   "cell_type": "markdown",
   "metadata": {
    "id": "OGa3ctvzsnFu"
   },
   "source": [
    "Visualize results:"
   ]
  },
  {
   "cell_type": "code",
   "execution_count": 21,
   "metadata": {
    "executionInfo": {
     "elapsed": 95668,
     "status": "ok",
     "timestamp": 1607626226346,
     "user": {
      "displayName": "Nguyen Bao",
      "photoUrl": "https://lh3.googleusercontent.com/a-/AOh14Gjw7M03YsQjaWXfKVf3GckShdGXMown08YblXnIzQ=s64",
      "userId": "00428871316513598663"
     },
     "user_tz": -60
    },
    "id": "X_ZXlE7egfJ0"
   },
   "outputs": [],
   "source": [
    "import time\n",
    "\n",
    "def Result_display(company,unit_type,year,month,alpha=alpha,df=data,df_types=data_types,airlines=airlines,Begin=Today):\n",
    "    ts = time.time()\n",
    "    s,y,ci1,ci2,t = Estimated_Stock(company,unit_type,year,month,df=df,df_types=df_types,airlines=airlines,Begin=Begin)\n",
    "    te = time.time()\n",
    "    print(\"There are %d units of type %s of company %d which is actually on aircraft.\"%(t,unit_type,company))\n",
    "    print(\"Estimated number of type %s unit in stock for company %d from %d/%d until %d/%d:\"%(unit_type,company,Begin.month,Begin.year,month,year), s)\n",
    "    print(\"with confidence interval (%0.2f,%0.2f) and confidence interval in average (%0.2f,%0.2f) at level %0.2f\"%(ci1[0],ci1[1],ci2[0],ci2[1],100-100*alpha), end=\"\")\n",
    "    print(\"%.\")\n",
    "    print(\"Simulation time (by second): \", te-ts)\n",
    "    plt.hist(y, bins = np.arange(int(np.min(y)-1),int(np.max(y)+1),1))\n",
    "    plt.ylabel('Frequency')\n",
    "    plt.xlabel('Estimated number')\n",
    "    plt.show()\n",
    "    y_sum = np.cumsum(y)\n",
    "    moyen = y_sum/np.arange(1, len(y)+1,1)\n",
    "    plt.plot(moyen)\n",
    "    plt.ylabel('Estimated number')\n",
    "    plt.xlabel('Monte-Carlo iteration')\n",
    "    plt.show()"
   ]
  },
  {
   "cell_type": "code",
   "execution_count": 22,
   "metadata": {},
   "outputs": [
    {
     "name": "stdout",
     "output_type": "stream",
     "text": [
      "There are 1737 units of type C of company 3 which is actually on aircraft.\n",
      "Estimated number of type C unit in stock for company 3 from 12/2020 until 12/2022: 245.475\n",
      "with confidence interval (216.00,273.03) and confidence interval in average (243.40,247.55) at level 95.00%.\n",
      "Simulation time (by second):  20.53242015838623\n"
     ]
    },
    {
     "data": {
      "image/png": "[encoded data removed]",
      "text/plain": [
       "<Figure size 432x288 with 1 Axes>"
      ]
     },
     "metadata": {
      "needs_background": "light"
     },
     "output_type": "display_data"
    },
    {
     "data": {
      "image/png": "[encoded data removed]",
      "text/plain": [
       "<Figure size 432x288 with 1 Axes>"
      ]
     },
     "metadata": {
      "needs_background": "light"
     },
     "output_type": "display_data"
    }
   ],
   "source": [
    "company=3         # must be in INTEGER\n",
    "unit_type='C' # STRING\n",
    "year=2022         # INTEGER\n",
    "month=12           # INTEGER\n",
    "\n",
    "Result_display(company,unit_type,year,month)"
   ]
  },
  {
   "cell_type": "code",
   "execution_count": 23,
   "metadata": {
    "colab": {
     "base_uri": "https://localhost:8080/",
     "height": 595
    },
    "executionInfo": {
     "elapsed": 102427,
     "status": "ok",
     "timestamp": 1607626233122,
     "user": {
      "displayName": "Nguyen Bao",
      "photoUrl": "https://lh3.googleusercontent.com/a-/AOh14Gjw7M03YsQjaWXfKVf3GckShdGXMown08YblXnIzQ=s64",
      "userId": "00428871316513598663"
     },
     "user_tz": -60
    },
    "id": "SnDp5ybAsTX7",
    "outputId": "07b7109c-8a61-48cd-8fb6-54e7360cf56c"
   },
   "outputs": [
    {
     "name": "stderr",
     "output_type": "stream",
     "text": [
      "<ipython-input-20-6294b8095f83>:14: UserWarning: Kaplan-Meier model of type B data can not estimate the stock until that day. We apply the best parametric model to predict in this case.\n",
      "  warnings.warn(\"Kaplan-Meier model of type {} data can not estimate the stock until that day. We apply the best parametric model to predict in this case.\".format(str(typ)))\n"
     ]
    },
    {
     "name": "stdout",
     "output_type": "stream",
     "text": [
      "There are 39 units of type B of company 3 which is actually on aircraft.\n",
      "Estimated number of type B unit in stock for company 3 from 12/2020 until 6/2030: 53.5\n",
      "with confidence interval (44.97,65.00) and confidence interval in average (52.72,54.28) at level 95.00%.\n",
      "Simulation time (by second):  5.96586537361145\n"
     ]
    },
    {
     "data": {
      "image/png": "[encoded data removed]",
      "text/plain": [
       "<Figure size 432x288 with 1 Axes>"
      ]
     },
     "metadata": {
      "needs_background": "light"
     },
     "output_type": "display_data"
    },
    {
     "data": {
      "image/png": "[encoded data removed]",
      "text/plain": [
       "<Figure size 432x288 with 1 Axes>"
      ]
     },
     "metadata": {
      "needs_background": "light"
     },
     "output_type": "display_data"
    }
   ],
   "source": [
    "company=3         # must be in INTEGER\n",
    "unit_type='B' # STRING\n",
    "year=2030         # INTEGER\n",
    "month=6           # INTEGER\n",
    "\n",
    "Result_display(company,unit_type,year,month)"
   ]
  },
  {
   "cell_type": "code",
   "execution_count": 24,
   "metadata": {},
   "outputs": [
    {
     "name": "stderr",
     "output_type": "stream",
     "text": [
      "<ipython-input-20-6294b8095f83>:14: UserWarning: Kaplan-Meier model of type C-new data can not estimate the stock until that day. We apply the best parametric model to predict in this case.\n",
      "  warnings.warn(\"Kaplan-Meier model of type {} data can not estimate the stock until that day. We apply the best parametric model to predict in this case.\".format(str(typ)))\n",
      "<ipython-input-14-1c412288dc8f>:9: UserWarning: There are more 90% censored data in type C-new data. The applied model might not be correct!\n",
      "  warnings.warn(\"There are more 90% censored data in type {} data. The applied model might not be correct!\".format(str(typ)))\n"
     ]
    },
    {
     "name": "stdout",
     "output_type": "stream",
     "text": [
      "There are 813 units of type C-new of company 3 which is actually on aircraft.\n",
      "Estimated number of type C-new unit in stock for company 3 from 12/2020 until 6/2030: 816.04\n",
      "with confidence interval (813.00,820.02) and confidence interval in average (815.78,816.30) at level 95.00%.\n",
      "Simulation time (by second):  12.995737075805664\n"
     ]
    },
    {
     "data": {
      "image/png": "[encoded data removed]",
      "text/plain": [
       "<Figure size 432x288 with 1 Axes>"
      ]
     },
     "metadata": {
      "needs_background": "light"
     },
     "output_type": "display_data"
    },
    {
     "data": {
      "image/png": "[encoded data removed]",
      "text/plain": [
       "<Figure size 432x288 with 1 Axes>"
      ]
     },
     "metadata": {
      "needs_background": "light"
     },
     "output_type": "display_data"
    }
   ],
   "source": [
    "company=3         # must be in INTEGER\n",
    "unit_type='C-new' # STRING\n",
    "year=2030         # INTEGER\n",
    "month=6           # INTEGER\n",
    "\n",
    "Result_display(company,unit_type,year,month)"
   ]
  },
  {
   "cell_type": "markdown",
   "metadata": {},
   "source": [
    "## IV. Test-Validation:"
   ]
  },
  {
   "cell_type": "code",
   "execution_count": 25,
   "metadata": {
    "executionInfo": {
     "elapsed": 102423,
     "status": "ok",
     "timestamp": 1607626233126,
     "user": {
      "displayName": "Nguyen Bao",
      "photoUrl": "https://lh3.googleusercontent.com/a-/AOh14Gjw7M03YsQjaWXfKVf3GckShdGXMown08YblXnIzQ=s64",
      "userId": "00428871316513598663"
     },
     "user_tz": -60
    },
    "id": "NOKsgGwlRFNf"
   },
   "outputs": [
    {
     "name": "stdout",
     "output_type": "stream",
     "text": [
      "Unit types : ['C' 'B' 'A' 'C-new']\n"
     ]
    },
    {
     "name": "stderr",
     "output_type": "stream",
     "text": [
      "<ipython-input-5-efe873b227da>:11: SettingWithCopyWarning: \n",
      "A value is trying to be set on a copy of a slice from a DataFrame\n",
      "\n",
      "See the caveats in the documentation: https://pandas.pydata.org/pandas-docs/stable/user_guide/indexing.html#returning-a-view-versus-a-copy\n",
      "  onaircraft_fan[fail_and_not['Current SN Status Description']=='On Aircraft']=True\n",
      "<ipython-input-5-efe873b227da>:15: SettingWithCopyWarning: \n",
      "A value is trying to be set on a copy of a slice from a DataFrame\n",
      "\n",
      "See the caveats in the documentation: https://pandas.pydata.org/pandas-docs/stable/user_guide/indexing.html#returning-a-view-versus-a-copy\n",
      "  failed_fan[fail_and_not['Current SN Status Description']=='In Outside Repair']=True\n",
      "<ipython-input-5-efe873b227da>:24: SettingWithCopyWarning: \n",
      "A value is trying to be set on a copy of a slice from a DataFrame\n",
      "\n",
      "See the caveats in the documentation: https://pandas.pydata.org/pandas-docs/stable/user_guide/indexing.html#returning-a-view-versus-a-copy\n",
      "  failed_f[fail['Maintenance Type']=='Scheduled'] = False\n"
     ]
    },
    {
     "data": {
      "text/html": [
       "<div>\n",
       "<style scoped>\n",
       "    .dataframe tbody tr th:only-of-type {\n",
       "        vertical-align: middle;\n",
       "    }\n",
       "\n",
       "    .dataframe tbody tr th {\n",
       "        vertical-align: top;\n",
       "    }\n",
       "\n",
       "    .dataframe thead th {\n",
       "        text-align: right;\n",
       "    }\n",
       "</style>\n",
       "<table border=\"1\" class=\"dataframe\">\n",
       "  <thead>\n",
       "    <tr style=\"text-align: right;\">\n",
       "      <th></th>\n",
       "      <th>Company</th>\n",
       "      <th>PN</th>\n",
       "      <th>SN</th>\n",
       "      <th>TSI</th>\n",
       "      <th>TSN</th>\n",
       "      <th>On_Aircraft</th>\n",
       "      <th>failed</th>\n",
       "    </tr>\n",
       "  </thead>\n",
       "  <tbody>\n",
       "    <tr>\n",
       "      <th>0</th>\n",
       "      <td>3</td>\n",
       "      <td>C</td>\n",
       "      <td>15323054356</td>\n",
       "      <td>5819.0</td>\n",
       "      <td>5819.0</td>\n",
       "      <td>False</td>\n",
       "      <td>True</td>\n",
       "    </tr>\n",
       "    <tr>\n",
       "      <th>1</th>\n",
       "      <td>3</td>\n",
       "      <td>C</td>\n",
       "      <td>15323057041</td>\n",
       "      <td>5819.0</td>\n",
       "      <td>5819.0</td>\n",
       "      <td>False</td>\n",
       "      <td>True</td>\n",
       "    </tr>\n",
       "    <tr>\n",
       "      <th>2</th>\n",
       "      <td>3</td>\n",
       "      <td>C</td>\n",
       "      <td>15323072973</td>\n",
       "      <td>3036.0</td>\n",
       "      <td>3036.0</td>\n",
       "      <td>False</td>\n",
       "      <td>True</td>\n",
       "    </tr>\n",
       "    <tr>\n",
       "      <th>3</th>\n",
       "      <td>3</td>\n",
       "      <td>C</td>\n",
       "      <td>15323053425</td>\n",
       "      <td>5614.0</td>\n",
       "      <td>5614.0</td>\n",
       "      <td>False</td>\n",
       "      <td>True</td>\n",
       "    </tr>\n",
       "    <tr>\n",
       "      <th>4</th>\n",
       "      <td>3</td>\n",
       "      <td>C</td>\n",
       "      <td>15323058236</td>\n",
       "      <td>5614.0</td>\n",
       "      <td>5614.0</td>\n",
       "      <td>False</td>\n",
       "      <td>True</td>\n",
       "    </tr>\n",
       "  </tbody>\n",
       "</table>\n",
       "</div>"
      ],
      "text/plain": [
       "  Company PN           SN     TSI     TSN  On_Aircraft  failed\n",
       "0       3  C  15323054356  5819.0  5819.0        False    True\n",
       "1       3  C  15323057041  5819.0  5819.0        False    True\n",
       "2       3  C  15323072973  3036.0  3036.0        False    True\n",
       "3       3  C  15323053425  5614.0  5614.0        False    True\n",
       "4       3  C  15323058236  5614.0  5614.0        False    True"
      ]
     },
     "execution_count": 25,
     "metadata": {},
     "output_type": "execute_result"
    }
   ],
   "source": [
    "file_test = \"./DataSet/Datatest_until_Dec-2018.xlsx\"\n",
    "# \"./INSA-Airbus FHS - Data set PN_C Dec-18.xlsx\"\n",
    "combined_test, air_test = preprocessing(file_test)\n",
    "types_test = pd.unique(combined_test[\"PN\"])\n",
    "types_test = types_test[np.logical_not(pd.isnull(types_test))]\n",
    "print(\"Unit types :\",types_test)\n",
    "combined_test.head()"
   ]
  },
  {
   "cell_type": "code",
   "execution_count": 26,
   "metadata": {},
   "outputs": [
    {
     "name": "stdout",
     "output_type": "stream",
     "text": [
      "5630 / 7015 distinct SN.\n"
     ]
    }
   ],
   "source": [
    "print(len(set(combined_test['SN'])),'/',len(combined_test), 'distinct SN.')"
   ]
  },
  {
   "cell_type": "code",
   "execution_count": 27,
   "metadata": {
    "executionInfo": {
     "elapsed": 102420,
     "status": "ok",
     "timestamp": 1607626233129,
     "user": {
      "displayName": "Nguyen Bao",
      "photoUrl": "https://lh3.googleusercontent.com/a-/AOh14Gjw7M03YsQjaWXfKVf3GckShdGXMown08YblXnIzQ=s64",
      "userId": "00428871316513598663"
     },
     "user_tz": -60
    },
    "id": "kYQ2dhOyRFRF"
   },
   "outputs": [],
   "source": [
    "data_test = combined_test.copy()\n",
    "data_test_types = {}\n",
    "for typ in types_test:\n",
    "    data_test_types[typ] = data_test[data_test['PN']==typ]"
   ]
  },
  {
   "cell_type": "code",
   "execution_count": 28,
   "metadata": {},
   "outputs": [
    {
     "data": {
      "text/html": [
       "<div>\n",
       "<style scoped>\n",
       "    .dataframe tbody tr th:only-of-type {\n",
       "        vertical-align: middle;\n",
       "    }\n",
       "\n",
       "    .dataframe tbody tr th {\n",
       "        vertical-align: top;\n",
       "    }\n",
       "\n",
       "    .dataframe thead th {\n",
       "        text-align: right;\n",
       "    }\n",
       "</style>\n",
       "<table border=\"1\" class=\"dataframe\">\n",
       "  <thead>\n",
       "    <tr style=\"text-align: right;\">\n",
       "      <th></th>\n",
       "      <th>Company</th>\n",
       "      <th>Number of aircraft</th>\n",
       "      <th>FH per aircraft per month</th>\n",
       "      <th>End of contract</th>\n",
       "    </tr>\n",
       "  </thead>\n",
       "  <tbody>\n",
       "    <tr>\n",
       "      <th>0</th>\n",
       "      <td>1</td>\n",
       "      <td>6</td>\n",
       "      <td>415</td>\n",
       "      <td>2024-12-01</td>\n",
       "    </tr>\n",
       "    <tr>\n",
       "      <th>1</th>\n",
       "      <td>2</td>\n",
       "      <td>2</td>\n",
       "      <td>310</td>\n",
       "      <td>2030-12-01</td>\n",
       "    </tr>\n",
       "    <tr>\n",
       "      <th>2</th>\n",
       "      <td>3</td>\n",
       "      <td>12</td>\n",
       "      <td>350</td>\n",
       "      <td>2026-12-01</td>\n",
       "    </tr>\n",
       "    <tr>\n",
       "      <th>3</th>\n",
       "      <td>4</td>\n",
       "      <td>5</td>\n",
       "      <td>240</td>\n",
       "      <td>2023-12-01</td>\n",
       "    </tr>\n",
       "    <tr>\n",
       "      <th>4</th>\n",
       "      <td>5</td>\n",
       "      <td>19</td>\n",
       "      <td>375</td>\n",
       "      <td>2026-12-01</td>\n",
       "    </tr>\n",
       "    <tr>\n",
       "      <th>5</th>\n",
       "      <td>6</td>\n",
       "      <td>6</td>\n",
       "      <td>350</td>\n",
       "      <td>2027-12-01</td>\n",
       "    </tr>\n",
       "  </tbody>\n",
       "</table>\n",
       "</div>"
      ],
      "text/plain": [
       "   Company  Number of aircraft  FH per aircraft per month End of contract\n",
       "0        1                   6                        415      2024-12-01\n",
       "1        2                   2                        310      2030-12-01\n",
       "2        3                  12                        350      2026-12-01\n",
       "3        4                   5                        240      2023-12-01\n",
       "4        5                  19                        375      2026-12-01\n",
       "5        6                   6                        350      2027-12-01"
      ]
     },
     "execution_count": 28,
     "metadata": {},
     "output_type": "execute_result"
    }
   ],
   "source": [
    "air_test"
   ]
  },
  {
   "cell_type": "code",
   "execution_count": 29,
   "metadata": {
    "executionInfo": {
     "elapsed": 102415,
     "status": "ok",
     "timestamp": 1607626233130,
     "user": {
      "displayName": "Nguyen Bao",
      "photoUrl": "https://lh3.googleusercontent.com/a-/AOh14Gjw7M03YsQjaWXfKVf3GckShdGXMown08YblXnIzQ=s64",
      "userId": "00428871316513598663"
     },
     "user_tz": -60
    },
    "id": "zvFm4mIVRFXq",
    "scrolled": false
   },
   "outputs": [
    {
     "name": "stdout",
     "output_type": "stream",
     "text": [
      "There are 1128 units of type A of company 5 which is actually on aircraft.\n",
      "Estimated number of type A unit in stock for company 5 from 12/2018 until 12/2020: 73.865\n",
      "with confidence interval (58.98,88.08) and confidence interval in average (72.78,74.95) at level 95.00%.\n",
      "Simulation time (by second):  7.242343187332153\n"
     ]
    },
    {
     "data": {
      "image/png": "[encoded data removed]",
      "text/plain": [
       "<Figure size 432x288 with 1 Axes>"
      ]
     },
     "metadata": {
      "needs_background": "light"
     },
     "output_type": "display_data"
    },
    {
     "data": {
      "image/png": "[encoded data removed]",
      "text/plain": [
       "<Figure size 432x288 with 1 Axes>"
      ]
     },
     "metadata": {
      "needs_background": "light"
     },
     "output_type": "display_data"
    }
   ],
   "source": [
    "company=5         # must be in INTEGER\n",
    "unit_type='A' # STRING\n",
    "year=2020         # INTEGER\n",
    "month=12           # INTEGER\n",
    "\n",
    "date_test = dt.datetime(2018,12,1)\n",
    "Result_display(company,unit_type,year,month,df=data_test,df_types=data_test_types,airlines=air_test,Begin=date_test)"
   ]
  },
  {
   "cell_type": "code",
   "execution_count": 30,
   "metadata": {},
   "outputs": [
    {
     "name": "stdout",
     "output_type": "stream",
     "text": [
      "Number of fail in 2018 :  206\n"
     ]
    }
   ],
   "source": [
    "table_18 = data_test[data_test.PN=='A']\n",
    "table_18 = table_18[table_18.Company==5]\n",
    "table_18 = table_18[table_18.failed==True]\n",
    "print(\"Number of fail in 2018 : \", len(table_18))"
   ]
  },
  {
   "cell_type": "code",
   "execution_count": 31,
   "metadata": {},
   "outputs": [
    {
     "name": "stdout",
     "output_type": "stream",
     "text": [
      "Number of fail in 2020 :  271\n"
     ]
    }
   ],
   "source": [
    "table_20 = data[data.PN=='A']\n",
    "table_20 = table_20[table_20.Company==5]\n",
    "table_20 = table_20[table_20.failed==True]\n",
    "print(\"Number of fail in 2020 : \", len(table_20))"
   ]
  },
  {
   "cell_type": "code",
   "execution_count": 32,
   "metadata": {},
   "outputs": [
    {
     "name": "stdout",
     "output_type": "stream",
     "text": [
      "Number of fail from 12/2018 to 12/2020 in reality :  65\n"
     ]
    }
   ],
   "source": [
    "print(\"Number of fail from 12/2018 to 12/2020 in reality : \",len(table_20)-len(table_18))"
   ]
  },
  {
   "cell_type": "code",
   "execution_count": null,
   "metadata": {},
   "outputs": [],
   "source": []
  },
  {
   "cell_type": "code",
   "execution_count": null,
   "metadata": {},
   "outputs": [],
   "source": []
  },
  {
   "cell_type": "code",
   "execution_count": null,
   "metadata": {},
   "outputs": [],
   "source": []
  },
  {
   "cell_type": "code",
   "execution_count": null,
   "metadata": {
    "executionInfo": {
     "elapsed": 102406,
     "status": "ok",
     "timestamp": 1607626233135,
     "user": {
      "displayName": "Nguyen Bao",
      "photoUrl": "https://lh3.googleusercontent.com/a-/AOh14Gjw7M03YsQjaWXfKVf3GckShdGXMown08YblXnIzQ=s64",
      "userId": "00428871316513598663"
     },
     "user_tz": -60
    },
    "id": "FWDpGHPSDEcb"
   },
   "outputs": [],
   "source": []
  },
  {
   "cell_type": "markdown",
   "metadata": {
    "id": "m04mFKBhDEcS"
   },
   "source": [
    "Test model using Kolmogorov-Smirnov, Kramer-von Mise"
   ]
  },
  {
   "cell_type": "code",
   "execution_count": 33,
   "metadata": {
    "executionInfo": {
     "elapsed": 102389,
     "status": "ok",
     "timestamp": 1607626233137,
     "user": {
      "displayName": "Nguyen Bao",
      "photoUrl": "https://lh3.googleusercontent.com/a-/AOh14Gjw7M03YsQjaWXfKVf3GckShdGXMown08YblXnIzQ=s64",
      "userId": "00428871316513598663"
     },
     "user_tz": -60
    },
    "id": "BnjzWfbYDEcS"
   },
   "outputs": [],
   "source": [
    "# def weib_R(x, alpha, beta):\n",
    "#     return np.exp(-np.power(x/alpha, beta))\n",
    "\n",
    "# def expo_R(x, lamb):\n",
    "#     return np.exp(-1/lamb*x)\n",
    "\n",
    "# def lognor_R(x, mu, std):\n",
    "#     return 1-lognorm.cdf(x,std)\n",
    "\n",
    "# def KStest(kap_meier, R, **args):\n",
    "#     x1 = kap_meier.timeline\n",
    "#     y1 = kap_meier.survival_function_.to_numpy().reshape((len(x1)))\n",
    "#     y2 = R(x1, **args)\n",
    "#     stat = np.max(np.abs(y1-y2))\n",
    "#     prob = distributions.kstwobign.sf(stat*np.sqrt(len(x1)))\n",
    "#     return stat, prob\n",
    "\n",
    "# class cvm_unif_gen(rv_continuous):\n",
    "#     def _argcheck(self, samples):\n",
    "#         return samples > 0\n",
    "\n",
    "#     @vectorize(otypes=(float,))\n",
    "#     def _cdf(self, statistic, samples):\n",
    "#         low = 1 / (12 * samples)\n",
    "#         # Basic bounds.\n",
    "#         if statistic <= low:\n",
    "#             return 0.\n",
    "#         if statistic >= samples / 3:\n",
    "#             return 1.\n",
    "#         # From the geometric approach of Csorgo and Faraway.\n",
    "#         if statistic <= low + 1 / (4 * samples ** 2):\n",
    "#             return (gamma(samples + 1) / gamma(samples / 2 + 1) *\n",
    "#                                     (pi * (statistic - low)) ** (samples / 2))\n",
    "#         # Asymptotic distribution with a one-term correction.\n",
    "#         return cvm_unif_inf(statistic) + cvm_unif_fix1(statistic) / samples\n",
    "\n",
    "\n",
    "# cvm_unif = cvm_unif_gen(a=0, name='cvm-unif', shapes='samples')\n",
    "\n",
    "# inf_ks41 = 4 * arange(11) + 1\n",
    "# inf_args = inf_ks41 ** 2 / 16\n",
    "# inf_cs = (inf_ks41 ** .5 * gamma(varange(.5, 11)) /\n",
    "#                                         (pi ** 1.5 * gamma(varange(1, 11))))\n",
    "\n",
    "\n",
    "# def cvm_unif_inf(statistic):\n",
    "#     \"\"\"\n",
    "#     Calculates the limiting distribution of the Cramer-von Mises statistic.\n",
    "\n",
    "#     After the second line of equation 1.3 from the Csorgo and Faraway paper.\n",
    "#     \"\"\"\n",
    "#     args = inf_args / statistic\n",
    "#     return (inf_cs * exp(-args) * kv(.25, args)).sum() / statistic ** .5\n",
    "\n",
    "# fix1_args = (4 * (varange((.5, 1., 1.5), 21)) - 1) ** 2 / 16\n",
    "# fix1_dens = 72 * pi ** 1.5 * gamma(varange(1, 21))\n",
    "# fix1_csa = fix1_args ** .75 * gamma(varange(1.5, 21)) / fix1_dens\n",
    "# fix1_csb = fix1_args ** 1.25 * gamma(varange((.5, 1.5, 2.5), 21)) / fix1_dens\n",
    "\n",
    "\n",
    "# def cvm_unif_fix1(statistic):\n",
    "#     \"\"\"\n",
    "#     Approximates the first-term of the small sample count Gotze expansion.\n",
    "\n",
    "#     After equation 1.10 (with coefficients pulled out as csa / csb).\n",
    "#     \"\"\"\n",
    "#     args = fix1_args / statistic\n",
    "#     kvs = kv((.25, .75, 1.25), args[:, :, newaxis])\n",
    "#     gs, hs = exp(-args) * tensordot(((1, 1, 0), (2, 3, -1)), kvs, axes=(1, 2))\n",
    "#     a = dot((7, 16, 7), fix1_csa * gs).sum() / statistic ** 1.5\n",
    "#     b = dot((1, 0, 24), fix1_csb * hs).sum() / statistic ** 2.5\n",
    "#     return cvm_unif_inf(statistic) / 12 - a - b\n",
    "    \n",
    "# def CVMtest(kap_meier, R, **args):\n",
    "#     x1 = kap_meier.timeline\n",
    "#     n = len(x1)\n",
    "#     y1 = kap_meier.survival_function_.to_numpy().reshape((n))\n",
    "#     y2 = np.linspace(1, np.min(y1), n)\n",
    "#     y3 = R(x1, **args)\n",
    "\n",
    "#     stat = 1/(12*n) + ((y3-y2)**2).sum()\n",
    "#     p_valeur = cvm_unif(n).sf(stat)\n",
    "#     return stat, p_valeur"
   ]
  },
  {
   "cell_type": "code",
   "execution_count": 34,
   "metadata": {
    "executionInfo": {
     "elapsed": 102376,
     "status": "ok",
     "timestamp": 1607626233139,
     "user": {
      "displayName": "Nguyen Bao",
      "photoUrl": "https://lh3.googleusercontent.com/a-/AOh14Gjw7M03YsQjaWXfKVf3GckShdGXMown08YblXnIzQ=s64",
      "userId": "00428871316513598663"
     },
     "user_tz": -60
    },
    "id": "kMf7gitVDEcY"
   },
   "outputs": [],
   "source": [
    "# # exponential\n",
    "# T = 10 # time T : end of contract\n",
    "# lamb = models('B')[dict_model['Exponential']].lambda_ # parameter of exponential distribution\n",
    "# SN_sim = combined[combined[\"PN\"]==\"B\"]\n",
    "# print(len(np.unique(SN_sim[\"SN\"])))\n",
    "\n",
    "# rand_draw_func = np.random.exponential\n",
    "\n",
    "# def num_of_fails_indivi(TSI, T, rand_draw_func, **args):\n",
    "#     n_fails = -1 # once the algo enter the loop, n_fails is at least 1\n",
    "#     sum_t = 0\n",
    "#     while sum_t <= T:\n",
    "#         t = rand_draw_func(**args)\n",
    "#         sum_t += t\n",
    "#         n_fails += 1\n",
    "#     return n_fails\n",
    "\n",
    "# def num_of_fails_list(TSI_list, T, rand_draw_func, **args):\n",
    "#     n_fails_list = []\n",
    "#     for TSI in TSI_list:\n",
    "#         n_fails = num_of_fails_indivi(TSI, T, rand_draw_func, **args)\n",
    "#         n_fails_list += [n_fails]\n",
    "#     total_fails = np.sum(n_fails_list)\n",
    "#     return total_fails\n",
    "\n",
    "\n"
   ]
  }
 ],
 "metadata": {
  "colab": {
   "collapsed_sections": [],
   "name": "FlightDataAnalysis-git.ipynb",
   "provenance": [],
   "toc_visible": true
  },
  "kernelspec": {
   "display_name": "Python 3",
   "language": "python",
   "name": "python3"
  },
  "language_info": {
   "codemirror_mode": {
    "name": "ipython",
    "version": 3
   },
   "file_extension": ".py",
   "mimetype": "text/x-python",
   "name": "python",
   "nbconvert_exporter": "python",
   "pygments_lexer": "ipython3",
   "version": "3.8.2"
  }
 },
 "nbformat": 4,
 "nbformat_minor": 1
}
