{
 "cells": [
  {
   "cell_type": "markdown",
   "metadata": {
    "id": "my3rUSgcYPRj"
   },
   "source": [
    "# Flight Data Analysis - Airbus"
   ]
  },
  {
   "cell_type": "code",
   "execution_count": 350,
   "metadata": {
    "executionInfo": {
     "elapsed": 1125,
     "status": "ok",
     "timestamp": 1605376748118,
     "user": {
      "displayName": "HUYNH Ngo Nghi Truyen",
      "photoUrl": "https://lh5.googleusercontent.com/-SromPU_QOag/AAAAAAAAAAI/AAAAAAAAExM/yhxgjif1TcI/s64/photo.jpg",
      "userId": "17693430888314692616"
     },
     "user_tz": -60
    },
    "id": "IK20cx_KYPRl"
   },
   "outputs": [],
   "source": [
    "import pandas as pd\n",
    "import matplotlib.pyplot as plt\n",
    "import numpy as np\n",
    "from scipy import stats\n",
    "from scipy.stats import norm\n",
    "import scipy.special as sc"
   ]
  },
  {
   "cell_type": "markdown",
   "metadata": {
    "id": "aVrFNjhbYPRt"
   },
   "source": [
    "## I. Data Set"
   ]
  },
  {
   "cell_type": "code",
   "execution_count": 351,
   "metadata": {
    "colab": {
     "base_uri": "https://localhost:8080/"
    },
    "executionInfo": {
     "elapsed": 19631,
     "status": "ok",
     "timestamp": 1605376860841,
     "user": {
      "displayName": "HUYNH Ngo Nghi Truyen",
      "photoUrl": "https://lh5.googleusercontent.com/-SromPU_QOag/AAAAAAAAAAI/AAAAAAAAExM/yhxgjif1TcI/s64/photo.jpg",
      "userId": "17693430888314692616"
     },
     "user_tz": -60
    },
    "id": "X1bV6Q0tYPRu",
    "outputId": "8dbddcc8-aed0-4cab-e3a6-eec8c8ea71bc"
   },
   "outputs": [],
   "source": [
    "#from google.colab import drive\n",
    "#drive.mount('/content/drive/')"
   ]
  },
  {
   "cell_type": "code",
   "execution_count": 352,
   "metadata": {
    "executionInfo": {
     "elapsed": 2378,
     "status": "ok",
     "timestamp": 1605376866945,
     "user": {
      "displayName": "HUYNH Ngo Nghi Truyen",
      "photoUrl": "https://lh5.googleusercontent.com/-SromPU_QOag/AAAAAAAAAAI/AAAAAAAAExM/yhxgjif1TcI/s64/photo.jpg",
      "userId": "17693430888314692616"
     },
     "user_tz": -60
    },
    "id": "iI-4kSC6Yq7y"
   },
   "outputs": [],
   "source": [
    "#file_location = '/content/drive/My Drive/data_projet5A/INSA-Airbus FHS - Dataset_ter.xlsx'\n",
    "file_location = \"../Flight_Data_Analysis/Dataset_ter.xlsx\"\n",
    "Removals = pd.read_excel(file_location, sheet_name='Removals')\n",
    "SNlist = pd.read_excel(file_location, sheet_name='SN list')"
   ]
  },
  {
   "cell_type": "code",
   "execution_count": 353,
   "metadata": {
    "colab": {
     "base_uri": "https://localhost:8080/",
     "height": 447
    },
    "executionInfo": {
     "elapsed": 663,
     "status": "ok",
     "timestamp": 1605376872785,
     "user": {
      "displayName": "HUYNH Ngo Nghi Truyen",
      "photoUrl": "https://lh5.googleusercontent.com/-SromPU_QOag/AAAAAAAAAAI/AAAAAAAAExM/yhxgjif1TcI/s64/photo.jpg",
      "userId": "17693430888314692616"
     },
     "user_tz": -60
    },
    "id": "EJmjvoPdYPR1",
    "outputId": "6e5c7f3d-0fb4-4891-ad41-8c0381e6aff4"
   },
   "outputs": [
    {
     "name": "stdout",
     "output_type": "stream",
     "text": [
      "<class 'pandas.core.frame.DataFrame'>\n",
      "RangeIndex: 2388 entries, 0 to 2387\n",
      "Data columns (total 8 columns):\n",
      " #   Column                         Non-Null Count  Dtype         \n",
      "---  ------                         --------------  -----         \n",
      " 0   Customer                       2388 non-null   int64         \n",
      " 1   Removal date                   2388 non-null   datetime64[ns]\n",
      " 2   P/N                            2388 non-null   object        \n",
      " 3   Description                    2388 non-null   object        \n",
      " 4   S/N                            2388 non-null   object        \n",
      " 5   Maintenance Type               2388 non-null   object        \n",
      " 6   TSI (Flight Hours) at removal  2296 non-null   float64       \n",
      " 7   TSN (Flight Hours) at Removal  2335 non-null   float64       \n",
      "dtypes: datetime64[ns](1), float64(2), int64(1), object(4)\n",
      "memory usage: 149.4+ KB\n"
     ]
    },
    {
     "data": {
      "text/html": [
       "<div>\n",
       "<style scoped>\n",
       "    .dataframe tbody tr th:only-of-type {\n",
       "        vertical-align: middle;\n",
       "    }\n",
       "\n",
       "    .dataframe tbody tr th {\n",
       "        vertical-align: top;\n",
       "    }\n",
       "\n",
       "    .dataframe thead th {\n",
       "        text-align: right;\n",
       "    }\n",
       "</style>\n",
       "<table border=\"1\" class=\"dataframe\">\n",
       "  <thead>\n",
       "    <tr style=\"text-align: right;\">\n",
       "      <th></th>\n",
       "      <th>Customer</th>\n",
       "      <th>Removal date</th>\n",
       "      <th>P/N</th>\n",
       "      <th>Description</th>\n",
       "      <th>S/N</th>\n",
       "      <th>Maintenance Type</th>\n",
       "      <th>TSI (Flight Hours) at removal</th>\n",
       "      <th>TSN (Flight Hours) at Removal</th>\n",
       "    </tr>\n",
       "  </thead>\n",
       "  <tbody>\n",
       "    <tr>\n",
       "      <th>0</th>\n",
       "      <td>3</td>\n",
       "      <td>2015-01-01</td>\n",
       "      <td>C</td>\n",
       "      <td>PN_C</td>\n",
       "      <td>15323054356</td>\n",
       "      <td>Unscheduled</td>\n",
       "      <td>5819.0</td>\n",
       "      <td>5819.0</td>\n",
       "    </tr>\n",
       "    <tr>\n",
       "      <th>1</th>\n",
       "      <td>3</td>\n",
       "      <td>2015-01-01</td>\n",
       "      <td>C</td>\n",
       "      <td>PN_C</td>\n",
       "      <td>15323057041</td>\n",
       "      <td>Unscheduled</td>\n",
       "      <td>5819.0</td>\n",
       "      <td>5819.0</td>\n",
       "    </tr>\n",
       "    <tr>\n",
       "      <th>2</th>\n",
       "      <td>3</td>\n",
       "      <td>2015-01-03</td>\n",
       "      <td>C</td>\n",
       "      <td>PN_C</td>\n",
       "      <td>15323072973</td>\n",
       "      <td>Unscheduled</td>\n",
       "      <td>3036.0</td>\n",
       "      <td>3036.0</td>\n",
       "    </tr>\n",
       "    <tr>\n",
       "      <th>3</th>\n",
       "      <td>3</td>\n",
       "      <td>2015-01-07</td>\n",
       "      <td>C</td>\n",
       "      <td>PN_C</td>\n",
       "      <td>15323053425</td>\n",
       "      <td>Unscheduled</td>\n",
       "      <td>5614.0</td>\n",
       "      <td>5614.0</td>\n",
       "    </tr>\n",
       "    <tr>\n",
       "      <th>4</th>\n",
       "      <td>3</td>\n",
       "      <td>2015-01-07</td>\n",
       "      <td>C</td>\n",
       "      <td>PN_C</td>\n",
       "      <td>15323058236</td>\n",
       "      <td>Unscheduled</td>\n",
       "      <td>5614.0</td>\n",
       "      <td>5614.0</td>\n",
       "    </tr>\n",
       "  </tbody>\n",
       "</table>\n",
       "</div>"
      ],
      "text/plain": [
       "   Customer Removal date P/N Description          S/N Maintenance Type  \\\n",
       "0         3   2015-01-01   C        PN_C  15323054356      Unscheduled   \n",
       "1         3   2015-01-01   C        PN_C  15323057041      Unscheduled   \n",
       "2         3   2015-01-03   C        PN_C  15323072973      Unscheduled   \n",
       "3         3   2015-01-07   C        PN_C  15323053425      Unscheduled   \n",
       "4         3   2015-01-07   C        PN_C  15323058236      Unscheduled   \n",
       "\n",
       "   TSI (Flight Hours) at removal  TSN (Flight Hours) at Removal  \n",
       "0                         5819.0                         5819.0  \n",
       "1                         5819.0                         5819.0  \n",
       "2                         3036.0                         3036.0  \n",
       "3                         5614.0                         5614.0  \n",
       "4                         5614.0                         5614.0  "
      ]
     },
     "execution_count": 353,
     "metadata": {},
     "output_type": "execute_result"
    }
   ],
   "source": [
    "Removals.info()\n",
    "Removals.head()"
   ]
  },
  {
   "cell_type": "code",
   "execution_count": 354,
   "metadata": {
    "colab": {
     "base_uri": "https://localhost:8080/",
     "height": 447
    },
    "executionInfo": {
     "elapsed": 693,
     "status": "ok",
     "timestamp": 1605376874363,
     "user": {
      "displayName": "HUYNH Ngo Nghi Truyen",
      "photoUrl": "https://lh5.googleusercontent.com/-SromPU_QOag/AAAAAAAAAAI/AAAAAAAAExM/yhxgjif1TcI/s64/photo.jpg",
      "userId": "17693430888314692616"
     },
     "user_tz": -60
    },
    "id": "Ti5SyeuLYPR8",
    "outputId": "7ec2235d-5cf8-42b6-e36f-2333ebdf36c2"
   },
   "outputs": [
    {
     "name": "stdout",
     "output_type": "stream",
     "text": [
      "<class 'pandas.core.frame.DataFrame'>\n",
      "RangeIndex: 5785 entries, 0 to 5784\n",
      "Data columns (total 8 columns):\n",
      " #   Column                          Non-Null Count  Dtype  \n",
      "---  ------                          --------------  -----  \n",
      " 0   Part Number                     5785 non-null   object \n",
      " 1   Description                     5785 non-null   object \n",
      " 2   Serial Number                   5785 non-null   object \n",
      " 3   Current SN Status Description   5785 non-null   object \n",
      " 4   Company                         5784 non-null   object \n",
      " 5   Hour ageing Since Installation  5745 non-null   float64\n",
      " 6   Hour ageing Since New           5637 non-null   float64\n",
      " 7   Since New Date                  4350 non-null   object \n",
      "dtypes: float64(2), object(6)\n",
      "memory usage: 361.7+ KB\n"
     ]
    },
    {
     "data": {
      "text/html": [
       "<div>\n",
       "<style scoped>\n",
       "    .dataframe tbody tr th:only-of-type {\n",
       "        vertical-align: middle;\n",
       "    }\n",
       "\n",
       "    .dataframe tbody tr th {\n",
       "        vertical-align: top;\n",
       "    }\n",
       "\n",
       "    .dataframe thead th {\n",
       "        text-align: right;\n",
       "    }\n",
       "</style>\n",
       "<table border=\"1\" class=\"dataframe\">\n",
       "  <thead>\n",
       "    <tr style=\"text-align: right;\">\n",
       "      <th></th>\n",
       "      <th>Part Number</th>\n",
       "      <th>Description</th>\n",
       "      <th>Serial Number</th>\n",
       "      <th>Current SN Status Description</th>\n",
       "      <th>Company</th>\n",
       "      <th>Hour ageing Since Installation</th>\n",
       "      <th>Hour ageing Since New</th>\n",
       "      <th>Since New Date</th>\n",
       "    </tr>\n",
       "  </thead>\n",
       "  <tbody>\n",
       "    <tr>\n",
       "      <th>0</th>\n",
       "      <td>A</td>\n",
       "      <td>PN_A</td>\n",
       "      <td>XXXM01-00324</td>\n",
       "      <td>On Aircraft</td>\n",
       "      <td>5</td>\n",
       "      <td>39498.39</td>\n",
       "      <td>54222.37</td>\n",
       "      <td>2007-11-19 00:00:00</td>\n",
       "    </tr>\n",
       "    <tr>\n",
       "      <th>1</th>\n",
       "      <td>A</td>\n",
       "      <td>PN_A</td>\n",
       "      <td>XXXM01-00329</td>\n",
       "      <td>On Aircraft</td>\n",
       "      <td>5</td>\n",
       "      <td>54525.41</td>\n",
       "      <td>54525.41</td>\n",
       "      <td>2007-11-19 00:00:00</td>\n",
       "    </tr>\n",
       "    <tr>\n",
       "      <th>2</th>\n",
       "      <td>A</td>\n",
       "      <td>PN_A</td>\n",
       "      <td>XXXM01-00334</td>\n",
       "      <td>On Aircraft</td>\n",
       "      <td>5</td>\n",
       "      <td>32238.92</td>\n",
       "      <td>52831.08</td>\n",
       "      <td>2008-03-12 00:00:00</td>\n",
       "    </tr>\n",
       "    <tr>\n",
       "      <th>3</th>\n",
       "      <td>A</td>\n",
       "      <td>PN_A</td>\n",
       "      <td>XXXM01-00337</td>\n",
       "      <td>On Aircraft</td>\n",
       "      <td>5</td>\n",
       "      <td>6951.19</td>\n",
       "      <td>52169.46</td>\n",
       "      <td>2006-04-01 00:00:00</td>\n",
       "    </tr>\n",
       "    <tr>\n",
       "      <th>4</th>\n",
       "      <td>A</td>\n",
       "      <td>PN_A</td>\n",
       "      <td>XXXM01-00338</td>\n",
       "      <td>On Aircraft</td>\n",
       "      <td>5</td>\n",
       "      <td>55511.55</td>\n",
       "      <td>55511.55</td>\n",
       "      <td>2008-03-12 00:00:00</td>\n",
       "    </tr>\n",
       "  </tbody>\n",
       "</table>\n",
       "</div>"
      ],
      "text/plain": [
       "  Part Number Description Serial Number Current SN Status Description Company  \\\n",
       "0           A        PN_A  XXXM01-00324                   On Aircraft       5   \n",
       "1           A        PN_A  XXXM01-00329                   On Aircraft       5   \n",
       "2           A        PN_A  XXXM01-00334                   On Aircraft       5   \n",
       "3           A        PN_A  XXXM01-00337                   On Aircraft       5   \n",
       "4           A        PN_A  XXXM01-00338                   On Aircraft       5   \n",
       "\n",
       "   Hour ageing Since Installation  Hour ageing Since New       Since New Date  \n",
       "0                        39498.39               54222.37  2007-11-19 00:00:00  \n",
       "1                        54525.41               54525.41  2007-11-19 00:00:00  \n",
       "2                        32238.92               52831.08  2008-03-12 00:00:00  \n",
       "3                         6951.19               52169.46  2006-04-01 00:00:00  \n",
       "4                        55511.55               55511.55  2008-03-12 00:00:00  "
      ]
     },
     "execution_count": 354,
     "metadata": {},
     "output_type": "execute_result"
    }
   ],
   "source": [
    "SNlist.info()\n",
    "SNlist.head()"
   ]
  },
  {
   "cell_type": "markdown",
   "metadata": {
    "id": "vLvDSuB8YPSB"
   },
   "source": [
    "##### Combining Removals and SNlist :"
   ]
  },
  {
   "cell_type": "code",
   "execution_count": 355,
   "metadata": {
    "executionInfo": {
     "elapsed": 580,
     "status": "ok",
     "timestamp": 1605376875813,
     "user": {
      "displayName": "HUYNH Ngo Nghi Truyen",
      "photoUrl": "https://lh5.googleusercontent.com/-SromPU_QOag/AAAAAAAAAAI/AAAAAAAAExM/yhxgjif1TcI/s64/photo.jpg",
      "userId": "17693430888314692616"
     },
     "user_tz": -60
    },
    "id": "B3oYiGyjYPSB"
   },
   "outputs": [],
   "source": [
    "fail_and_not = SNlist.copy()\n",
    "fail_and_not['failed'] = False\n",
    "fail_and_not[fail_and_not['Current SN Status Description']=='In Outside Repair']=True\n",
    "fail_and_not = fail_and_not.drop(['Description','Current SN Status Description','Since New Date','Company'], axis = 1)\n",
    "fail_and_not = fail_and_not.rename(columns={\"Part Number\": \"PN\", \"Serial Number\": \"SN\", \"Hour ageing Since Installation\": \"TSI\", \"Hour ageing Since New\": \"TSN\"})\n",
    "#dic_PN = {\"C\":\"C\",\"C-new\":\"C\",\"A\":\"A\",\"B\":\"B\"}\n",
    "dic_PN = {\"C\":\"C\",\"C-new\":\"C-new\",\"A\":\"A\",\"B\":\"B\"}\n",
    "fail_and_not[\"PN\"] = fail_and_not.PN.map(dic_PN)\n",
    "\n",
    "fail = Removals[Removals['Maintenance Type']=='Unscheduled']\n",
    "fail = fail.drop(['Customer','Removal date','Description','Maintenance Type'], axis=1)\n",
    "fail = fail.rename(columns={\"P/N\": \"PN\", \"S/N\": \"SN\", \"TSI (Flight Hours) at removal\": \"TSI\", \"TSN (Flight Hours) at Removal\": \"TSN\"})\n",
    "fail['failed'] = True\n",
    "fail['PN'] = fail.PN.map(dic_PN)\n",
    "\n",
    "all_SN = pd.unique(fail_and_not['SN'])\n",
    "SN_Removals = pd.unique(fail['SN'])\n",
    "\n",
    "combined = pd.concat([fail,fail_and_not], ignore_index=True)\n",
    "combined = combined.drop_duplicates(subset=['SN','PN','TSN'], keep='last')"
   ]
  },
  {
   "cell_type": "code",
   "execution_count": 356,
   "metadata": {
    "colab": {
     "base_uri": "https://localhost:8080/"
    },
    "executionInfo": {
     "elapsed": 529,
     "status": "ok",
     "timestamp": 1605376876877,
     "user": {
      "displayName": "HUYNH Ngo Nghi Truyen",
      "photoUrl": "https://lh5.googleusercontent.com/-SromPU_QOag/AAAAAAAAAAI/AAAAAAAAExM/yhxgjif1TcI/s64/photo.jpg",
      "userId": "17693430888314692616"
     },
     "user_tz": -60
    },
    "id": "55jILBw1YPSG",
    "outputId": "2802f854-4c3a-41df-cc94-73c3432d26f4"
   },
   "outputs": [
    {
     "data": {
      "text/plain": [
       "array(['C', 'B', 'A', 'C-new', nan], dtype=object)"
      ]
     },
     "execution_count": 356,
     "metadata": {},
     "output_type": "execute_result"
    }
   ],
   "source": [
    "pd.unique(combined['PN'])"
   ]
  },
  {
   "cell_type": "markdown",
   "metadata": {
    "id": "b3qPYVNYYPSM"
   },
   "source": [
    "##### Data errors treatment"
   ]
  },
  {
   "cell_type": "code",
   "execution_count": 357,
   "metadata": {
    "colab": {
     "base_uri": "https://localhost:8080/",
     "height": 195
    },
    "executionInfo": {
     "elapsed": 506,
     "status": "ok",
     "timestamp": 1605376878665,
     "user": {
      "displayName": "HUYNH Ngo Nghi Truyen",
      "photoUrl": "https://lh5.googleusercontent.com/-SromPU_QOag/AAAAAAAAAAI/AAAAAAAAExM/yhxgjif1TcI/s64/photo.jpg",
      "userId": "17693430888314692616"
     },
     "user_tz": -60
    },
    "id": "d_EY5a2kYPSN",
    "outputId": "0abfeea1-5068-4bd2-b41c-95021319352a"
   },
   "outputs": [
    {
     "data": {
      "text/html": [
       "<div>\n",
       "<style scoped>\n",
       "    .dataframe tbody tr th:only-of-type {\n",
       "        vertical-align: middle;\n",
       "    }\n",
       "\n",
       "    .dataframe tbody tr th {\n",
       "        vertical-align: top;\n",
       "    }\n",
       "\n",
       "    .dataframe thead th {\n",
       "        text-align: right;\n",
       "    }\n",
       "</style>\n",
       "<table border=\"1\" class=\"dataframe\">\n",
       "  <thead>\n",
       "    <tr style=\"text-align: right;\">\n",
       "      <th></th>\n",
       "      <th>PN</th>\n",
       "      <th>SN</th>\n",
       "      <th>TSI</th>\n",
       "      <th>TSN</th>\n",
       "      <th>failed</th>\n",
       "    </tr>\n",
       "  </thead>\n",
       "  <tbody>\n",
       "    <tr>\n",
       "      <th>0</th>\n",
       "      <td>C</td>\n",
       "      <td>15323054356</td>\n",
       "      <td>5819</td>\n",
       "      <td>5819</td>\n",
       "      <td>True</td>\n",
       "    </tr>\n",
       "    <tr>\n",
       "      <th>1</th>\n",
       "      <td>C</td>\n",
       "      <td>15323057041</td>\n",
       "      <td>5819</td>\n",
       "      <td>5819</td>\n",
       "      <td>True</td>\n",
       "    </tr>\n",
       "    <tr>\n",
       "      <th>2</th>\n",
       "      <td>C</td>\n",
       "      <td>15323072973</td>\n",
       "      <td>3036</td>\n",
       "      <td>3036</td>\n",
       "      <td>True</td>\n",
       "    </tr>\n",
       "    <tr>\n",
       "      <th>3</th>\n",
       "      <td>C</td>\n",
       "      <td>15323053425</td>\n",
       "      <td>5614</td>\n",
       "      <td>5614</td>\n",
       "      <td>True</td>\n",
       "    </tr>\n",
       "    <tr>\n",
       "      <th>4</th>\n",
       "      <td>C</td>\n",
       "      <td>15323058236</td>\n",
       "      <td>5614</td>\n",
       "      <td>5614</td>\n",
       "      <td>True</td>\n",
       "    </tr>\n",
       "  </tbody>\n",
       "</table>\n",
       "</div>"
      ],
      "text/plain": [
       "  PN           SN   TSI   TSN  failed\n",
       "0  C  15323054356  5819  5819    True\n",
       "1  C  15323057041  5819  5819    True\n",
       "2  C  15323072973  3036  3036    True\n",
       "3  C  15323053425  5614  5614    True\n",
       "4  C  15323058236  5614  5614    True"
      ]
     },
     "execution_count": 357,
     "metadata": {},
     "output_type": "execute_result"
    }
   ],
   "source": [
    "combined['TSI']=combined['TSI'].replace(np.nan, 0.0)\n",
    "combined['TSN']=combined['TSN'].replace(np.nan, 0.0)\n",
    "combined = combined[combined['TSN']!=0]\n",
    "combined.head()"
   ]
  },
  {
   "cell_type": "code",
   "execution_count": 358,
   "metadata": {
    "colab": {
     "base_uri": "https://localhost:8080/"
    },
    "executionInfo": {
     "elapsed": 536,
     "status": "ok",
     "timestamp": 1605376879874,
     "user": {
      "displayName": "HUYNH Ngo Nghi Truyen",
      "photoUrl": "https://lh5.googleusercontent.com/-SromPU_QOag/AAAAAAAAAAI/AAAAAAAAExM/yhxgjif1TcI/s64/photo.jpg",
      "userId": "17693430888314692616"
     },
     "user_tz": -60
    },
    "id": "BlaeknFwYPSW",
    "outputId": "f1be4cb4-3d68-40e1-e3a7-1dad937955e8"
   },
   "outputs": [
    {
     "name": "stdout",
     "output_type": "stream",
     "text": [
      "6005 / 7758 distinct number part.\n"
     ]
    }
   ],
   "source": [
    "print(len(set(combined['SN'])),'/',len(combined), 'distinct number part.')"
   ]
  },
  {
   "cell_type": "markdown",
   "metadata": {
    "id": "MuFJ-t_KYPSj"
   },
   "source": [
    "## II. Data Visualization "
   ]
  },
  {
   "cell_type": "code",
   "execution_count": 359,
   "metadata": {
    "executionInfo": {
     "elapsed": 540,
     "status": "ok",
     "timestamp": 1605376881849,
     "user": {
      "displayName": "HUYNH Ngo Nghi Truyen",
      "photoUrl": "https://lh5.googleusercontent.com/-SromPU_QOag/AAAAAAAAAAI/AAAAAAAAExM/yhxgjif1TcI/s64/photo.jpg",
      "userId": "17693430888314692616"
     },
     "user_tz": -60
    },
    "id": "4nwPRsmfooGw"
   },
   "outputs": [],
   "source": [
    "data = combined.copy()"
   ]
  },
  {
   "cell_type": "markdown",
   "metadata": {
    "id": "p70E6PxhYPSk"
   },
   "source": [
    "### 1. Type A, B, C"
   ]
  },
  {
   "cell_type": "code",
   "execution_count": 360,
   "metadata": {
    "colab": {
     "base_uri": "https://localhost:8080/",
     "height": 590
    },
    "executionInfo": {
     "elapsed": 1118,
     "status": "ok",
     "timestamp": 1605376884421,
     "user": {
      "displayName": "HUYNH Ngo Nghi Truyen",
      "photoUrl": "https://lh5.googleusercontent.com/-SromPU_QOag/AAAAAAAAAAI/AAAAAAAAExM/yhxgjif1TcI/s64/photo.jpg",
      "userId": "17693430888314692616"
     },
     "user_tz": -60
    },
    "id": "_gJJzy9OYPSl",
    "outputId": "a6cc392f-7139-4c2e-e9fe-13fc09da042c"
   },
   "outputs": [
    {
     "name": "stdout",
     "output_type": "stream",
     "text": [
      "Number of samples in total :  7758\n"
     ]
    },
    {
     "data": {
      "image/png": "[encoded data removed]",
      "text/plain": [
       "<Figure size 432x288 with 1 Axes>"
      ]
     },
     "metadata": {
      "needs_background": "light"
     },
     "output_type": "display_data"
    },
    {
     "data": {
      "image/png": "[encoded data removed]",
      "text/plain": [
       "<Figure size 432x288 with 1 Axes>"
      ]
     },
     "metadata": {
      "needs_background": "light"
     },
     "output_type": "display_data"
    }
   ],
   "source": [
    "plt.hist(data['TSI'],bins=10)\n",
    "plt.ylabel('Frequency')\n",
    "plt.xlabel('Hour ageing since installation')\n",
    "plt.title('Time since installation for 3 types A, B and C')\n",
    "plt.figure()\n",
    "plt.hist(data['TSN'],bins=10)\n",
    "plt.ylabel('Frequency')\n",
    "plt.xlabel('Hour ageing since new')\n",
    "plt.title('Time since new for 3 types A, B and C')\n",
    "\n",
    "print(\"Number of samples in total : \", len(data['TSI']))"
   ]
  },
  {
   "cell_type": "markdown",
   "metadata": {
    "id": "e1J_M1OHYPSq"
   },
   "source": [
    "### 2. Type A"
   ]
  },
  {
   "cell_type": "code",
   "execution_count": 361,
   "metadata": {
    "colab": {
     "base_uri": "https://localhost:8080/",
     "height": 590
    },
    "executionInfo": {
     "elapsed": 1272,
     "status": "ok",
     "timestamp": 1605376887164,
     "user": {
      "displayName": "HUYNH Ngo Nghi Truyen",
      "photoUrl": "https://lh5.googleusercontent.com/-SromPU_QOag/AAAAAAAAAAI/AAAAAAAAExM/yhxgjif1TcI/s64/photo.jpg",
      "userId": "17693430888314692616"
     },
     "user_tz": -60
    },
    "id": "H4u533UbYPSq",
    "outputId": "b038647c-ced1-4ea6-c5b4-04ffdd2abe7c"
   },
   "outputs": [
    {
     "name": "stdout",
     "output_type": "stream",
     "text": [
      "Number of samples type A :  3255\n"
     ]
    },
    {
     "data": {
      "image/png": "[encoded data removed]",
      "text/plain": [
       "<Figure size 432x288 with 1 Axes>"
      ]
     },
     "metadata": {
      "needs_background": "light"
     },
     "output_type": "display_data"
    },
    {
     "data": {
      "image/png": "[encoded data removed]",
      "text/plain": [
       "<Figure size 432x288 with 1 Axes>"
      ]
     },
     "metadata": {
      "needs_background": "light"
     },
     "output_type": "display_data"
    }
   ],
   "source": [
    "plt.hist(data[data['PN']=='A']['TSI'],bins=10)\n",
    "plt.ylabel('Frequency')\n",
    "plt.xlabel('Hour ageing since installation')\n",
    "plt.title('Time since installation of type A')\n",
    "plt.figure()\n",
    "plt.hist(data[data['PN']=='A']['TSN'],bins=10)\n",
    "plt.ylabel('Frequency')\n",
    "plt.xlabel('Hour ageing since new')\n",
    "plt.title('Time since new of type A')\n",
    "\n",
    "print(\"Number of samples type A : \", len(data[data['PN']=='A']['TSI']))"
   ]
  },
  {
   "cell_type": "markdown",
   "metadata": {
    "id": "cZmmBGB3YPSy"
   },
   "source": [
    "### 3. Type B"
   ]
  },
  {
   "cell_type": "code",
   "execution_count": 362,
   "metadata": {
    "colab": {
     "base_uri": "https://localhost:8080/",
     "height": 590
    },
    "executionInfo": {
     "elapsed": 736,
     "status": "ok",
     "timestamp": 1605376888820,
     "user": {
      "displayName": "HUYNH Ngo Nghi Truyen",
      "photoUrl": "https://lh5.googleusercontent.com/-SromPU_QOag/AAAAAAAAAAI/AAAAAAAAExM/yhxgjif1TcI/s64/photo.jpg",
      "userId": "17693430888314692616"
     },
     "user_tz": -60
    },
    "id": "Y274F6btYPSz",
    "outputId": "acfa674f-a96e-47c5-a3c6-4e73752a4a05"
   },
   "outputs": [
    {
     "name": "stdout",
     "output_type": "stream",
     "text": [
      "Number of samples type B :  287\n"
     ]
    },
    {
     "data": {
      "image/png": "[encoded data removed]",
      "text/plain": [
       "<Figure size 432x288 with 1 Axes>"
      ]
     },
     "metadata": {
      "needs_background": "light"
     },
     "output_type": "display_data"
    },
    {
     "data": {
      "image/png": "[encoded data removed]",
      "text/plain": [
       "<Figure size 432x288 with 1 Axes>"
      ]
     },
     "metadata": {
      "needs_background": "light"
     },
     "output_type": "display_data"
    }
   ],
   "source": [
    "plt.hist(data[data['PN']=='B']['TSI'],bins=10)\n",
    "plt.ylabel('Frequency')\n",
    "plt.xlabel('Hour ageing since installation')\n",
    "plt.title('Time since installation of type B')\n",
    "plt.figure()\n",
    "plt.hist(data[data['PN']=='B']['TSN'],bins=10)\n",
    "plt.ylabel('Frequency')\n",
    "plt.xlabel('Hour ageing since new')\n",
    "plt.title('Time since new of type B')\n",
    "\n",
    "print(\"Number of samples type B : \", len(data[data['PN']=='B']['TSI']))"
   ]
  },
  {
   "cell_type": "markdown",
   "metadata": {
    "id": "I9ReiTQtYPS7"
   },
   "source": [
    "### 4. Type C"
   ]
  },
  {
   "cell_type": "code",
   "execution_count": 363,
   "metadata": {
    "colab": {
     "base_uri": "https://localhost:8080/",
     "height": 590
    },
    "executionInfo": {
     "elapsed": 1261,
     "status": "ok",
     "timestamp": 1605376891690,
     "user": {
      "displayName": "HUYNH Ngo Nghi Truyen",
      "photoUrl": "https://lh5.googleusercontent.com/-SromPU_QOag/AAAAAAAAAAI/AAAAAAAAExM/yhxgjif1TcI/s64/photo.jpg",
      "userId": "17693430888314692616"
     },
     "user_tz": -60
    },
    "id": "ByHnBik1YPS8",
    "outputId": "799aa74f-7750-4a1f-f4ea-3fc0caf03a39"
   },
   "outputs": [
    {
     "name": "stdout",
     "output_type": "stream",
     "text": [
      "Number of samples type C :  3317\n"
     ]
    },
    {
     "data": {
      "image/png": "[encoded data removed]",
      "text/plain": [
       "<Figure size 432x288 with 1 Axes>"
      ]
     },
     "metadata": {
      "needs_background": "light"
     },
     "output_type": "display_data"
    },
    {
     "data": {
      "image/png": "[encoded data removed]",
      "text/plain": [
       "<Figure size 432x288 with 1 Axes>"
      ]
     },
     "metadata": {
      "needs_background": "light"
     },
     "output_type": "display_data"
    }
   ],
   "source": [
    "plt.hist(data[data['PN']=='C']['TSI'],bins=10)\n",
    "plt.ylabel('Frequency')\n",
    "plt.xlabel('Hour ageing since installation')\n",
    "plt.title('Time since installation of type C')\n",
    "plt.figure()\n",
    "plt.hist(data[data['PN']=='C']['TSN'],bins=10)\n",
    "plt.ylabel('Frequency')\n",
    "plt.xlabel('Hour ageing since new')\n",
    "plt.title('Time since new of type C')\n",
    "\n",
    "print(\"Number of samples type C : \", len(data[data['PN']=='C']['TSI']))"
   ]
  },
  {
   "cell_type": "markdown",
   "metadata": {
    "id": "1sllJLXRquN9"
   },
   "source": [
    "### 5. Type C-new"
   ]
  },
  {
   "cell_type": "code",
   "execution_count": 364,
   "metadata": {
    "colab": {
     "base_uri": "https://localhost:8080/",
     "height": 590
    },
    "executionInfo": {
     "elapsed": 889,
     "status": "ok",
     "timestamp": 1605376904832,
     "user": {
      "displayName": "HUYNH Ngo Nghi Truyen",
      "photoUrl": "https://lh5.googleusercontent.com/-SromPU_QOag/AAAAAAAAAAI/AAAAAAAAExM/yhxgjif1TcI/s64/photo.jpg",
      "userId": "17693430888314692616"
     },
     "user_tz": -60
    },
    "id": "hNNv1dowquOE",
    "outputId": "bd2bbbb7-9d31-4baf-c5c0-96f689cffe79"
   },
   "outputs": [
    {
     "name": "stdout",
     "output_type": "stream",
     "text": [
      "Number of samples type C-new :  898\n"
     ]
    },
    {
     "data": {
      "image/png": "[encoded data removed]",
      "text/plain": [
       "<Figure size 432x288 with 1 Axes>"
      ]
     },
     "metadata": {
      "needs_background": "light"
     },
     "output_type": "display_data"
    },
    {
     "data": {
      "image/png": "[encoded data removed]",
      "text/plain": [
       "<Figure size 432x288 with 1 Axes>"
      ]
     },
     "metadata": {
      "needs_background": "light"
     },
     "output_type": "display_data"
    }
   ],
   "source": [
    "plt.hist(data[data['PN']=='C-new']['TSI'],bins=10)\n",
    "plt.ylabel('Frequency')\n",
    "plt.xlabel('Hour ageing since installation')\n",
    "plt.title('Time since installation of type C-new')\n",
    "plt.figure()\n",
    "plt.hist(data[data['PN']=='C-new']['TSN'],bins=10)\n",
    "plt.ylabel('Frequency')\n",
    "plt.xlabel('Hour ageing since new')\n",
    "plt.title('Time since new of type C-new')\n",
    "\n",
    "print(\"Number of samples type C-new : \", len(data[data['PN']=='C-new']['TSI']))"
   ]
  },
  {
   "cell_type": "markdown",
   "metadata": {
    "id": "ChCUMfmsYPTA"
   },
   "source": [
    "## III. Data Analysis"
   ]
  },
  {
   "cell_type": "markdown",
   "metadata": {},
   "source": [
    "We first consider the Nelson-Aalen estimator and the Kaplan-Meier estimator which will be used to compare with the model we apply for data in each cases.\n",
    "\n",
    "(Note that we need to install the \"lifelines\" package for Python)."
   ]
  },
  {
   "cell_type": "code",
   "execution_count": 365,
   "metadata": {},
   "outputs": [],
   "source": [
    "from lifelines import KaplanMeierFitter\n",
    "from lifelines import NelsonAalenFitter\n",
    "\n",
    "data_A = data[data['PN']=='A']\n",
    "T_A = data_A.TSI\n",
    "d_A = np.array([1 if f == True else 0 for f in data_A.failed])\n",
    "\n",
    "data_B = data[data['PN']=='B']\n",
    "T_B = data_B.TSI\n",
    "d_B = np.array([1 if f == True else 0 for f in data_B.failed])\n",
    "\n",
    "data_C = data[data['PN']=='C']\n",
    "T_C = data_C.TSI\n",
    "d_C = np.array([1 if f == True else 0 for f in data_C.failed])\n",
    "\n",
    "data_Cnew = data[data['PN']=='C-new']\n",
    "T_Cnew = data_Cnew.TSI\n",
    "d_Cnew = np.array([1 if f == True else 0 for f in data_Cnew.failed])"
   ]
  },
  {
   "cell_type": "code",
   "execution_count": 366,
   "metadata": {},
   "outputs": [
    {
     "name": "stderr",
     "output_type": "stream",
     "text": [
      "/home/nnthuynh/anaconda3/lib/python3.8/site-packages/lifelines/utils/__init__.py:1173: UserWarning: Attempting to convert an unexpected datatype 'object' to float. Suggestion: 1) use `lifelines.utils.datetimes_to_durations` to do conversions or 2) manually convert to floats/booleans.\n",
      "  warnings.warn(warning_text, UserWarning)\n",
      "/home/nnthuynh/anaconda3/lib/python3.8/site-packages/lifelines/utils/__init__.py:1173: UserWarning: Attempting to convert an unexpected datatype 'object' to float. Suggestion: 1) use `lifelines.utils.datetimes_to_durations` to do conversions or 2) manually convert to floats/booleans.\n",
      "  warnings.warn(warning_text, UserWarning)\n",
      "/home/nnthuynh/anaconda3/lib/python3.8/site-packages/lifelines/utils/__init__.py:1173: UserWarning: Attempting to convert an unexpected datatype 'object' to float. Suggestion: 1) use `lifelines.utils.datetimes_to_durations` to do conversions or 2) manually convert to floats/booleans.\n",
      "  warnings.warn(warning_text, UserWarning)\n",
      "/home/nnthuynh/anaconda3/lib/python3.8/site-packages/lifelines/utils/__init__.py:1173: UserWarning: Attempting to convert an unexpected datatype 'object' to float. Suggestion: 1) use `lifelines.utils.datetimes_to_durations` to do conversions or 2) manually convert to floats/booleans.\n",
      "  warnings.warn(warning_text, UserWarning)\n"
     ]
    },
    {
     "data": {
      "text/plain": [
       "Text(0.5, 1.0, 'Cumulative hazard function and its confidence interval by Kaplan Meier estimator')"
      ]
     },
     "execution_count": 366,
     "metadata": {},
     "output_type": "execute_result"
    },
    {
     "data": {
      "image/png": "[encoded data removed]",
      "text/plain": [
       "<Figure size 432x288 with 1 Axes>"
      ]
     },
     "metadata": {
      "needs_background": "light"
     },
     "output_type": "display_data"
    }
   ],
   "source": [
    "alpha = 0.05 # coefficient related to confidence levels\n",
    "\n",
    "## create the naf objects\n",
    "naf_A = NelsonAalenFitter()\n",
    "naf_B = NelsonAalenFitter() \n",
    "naf_C = NelsonAalenFitter() \n",
    "naf_Cnew = NelsonAalenFitter() \n",
    "\n",
    "## Fit the data into the model\n",
    "naf_A.fit(T_A, d_A,alpha=alpha,label=\"Type A\")\n",
    "naf_B.fit(T_B, d_B,alpha=alpha,label=\"Type B\")\n",
    "naf_C.fit(T_C, d_C,alpha=alpha,label=\"Type C\")\n",
    "naf_Cnew.fit(T_Cnew, d_Cnew,alpha=alpha,label=\"Type C-new\")\n",
    "\n",
    "## Create an estimate\n",
    "naf_A.plot(ci_show=True)\n",
    "naf_B.plot(ci_show=True)\n",
    "naf_C.plot(ci_show=True)\n",
    "naf_Cnew.plot(ci_show=True)\n",
    "plt.ylabel('Proportion surviving')\n",
    "plt.xlabel('Timeline')\n",
    "plt.title('Cumulative hazard function and its confidence interval by Kaplan Meier estimator')"
   ]
  },
  {
   "cell_type": "code",
   "execution_count": 367,
   "metadata": {},
   "outputs": [
    {
     "name": "stderr",
     "output_type": "stream",
     "text": [
      "/home/nnthuynh/anaconda3/lib/python3.8/site-packages/lifelines/utils/__init__.py:1173: UserWarning: Attempting to convert an unexpected datatype 'object' to float. Suggestion: 1) use `lifelines.utils.datetimes_to_durations` to do conversions or 2) manually convert to floats/booleans.\n",
      "  warnings.warn(warning_text, UserWarning)\n",
      "/home/nnthuynh/anaconda3/lib/python3.8/site-packages/lifelines/utils/__init__.py:1173: UserWarning: Attempting to convert an unexpected datatype 'object' to float. Suggestion: 1) use `lifelines.utils.datetimes_to_durations` to do conversions or 2) manually convert to floats/booleans.\n",
      "  warnings.warn(warning_text, UserWarning)\n",
      "/home/nnthuynh/anaconda3/lib/python3.8/site-packages/lifelines/utils/__init__.py:1173: UserWarning: Attempting to convert an unexpected datatype 'object' to float. Suggestion: 1) use `lifelines.utils.datetimes_to_durations` to do conversions or 2) manually convert to floats/booleans.\n",
      "  warnings.warn(warning_text, UserWarning)\n",
      "/home/nnthuynh/anaconda3/lib/python3.8/site-packages/lifelines/utils/__init__.py:1173: UserWarning: Attempting to convert an unexpected datatype 'object' to float. Suggestion: 1) use `lifelines.utils.datetimes_to_durations` to do conversions or 2) manually convert to floats/booleans.\n",
      "  warnings.warn(warning_text, UserWarning)\n"
     ]
    },
    {
     "data": {
      "text/plain": [
       "Text(0.5, 1.0, 'Reliability function and its confidence interval by Kaplan Meier estimator')"
      ]
     },
     "execution_count": 367,
     "metadata": {},
     "output_type": "execute_result"
    },
    {
     "data": {
      "image/png": "[encoded data removed]",
      "text/plain": [
       "<Figure size 432x288 with 1 Axes>"
      ]
     },
     "metadata": {
      "needs_background": "light"
     },
     "output_type": "display_data"
    }
   ],
   "source": [
    "## create the kmf objects\n",
    "kmf_A = KaplanMeierFitter()\n",
    "kmf_B = KaplanMeierFitter() \n",
    "kmf_C = KaplanMeierFitter() \n",
    "kmf_Cnew = KaplanMeierFitter() \n",
    "\n",
    "## Fit the data into the model\n",
    "kmf_A.fit(T_A, d_A,alpha=alpha,label=\"Type A\")\n",
    "kmf_B.fit(T_B, d_B,alpha=alpha,label=\"Type B\")\n",
    "kmf_C.fit(T_C, d_C,alpha=alpha,label=\"Type C\")\n",
    "kmf_Cnew.fit(T_Cnew, d_Cnew,alpha=alpha,label=\"Type C-new\")\n",
    "\n",
    "## Create an estimate\n",
    "kmf_A.plot(ci_show=True)\n",
    "kmf_B.plot(ci_show=True)\n",
    "kmf_C.plot(ci_show=True)\n",
    "kmf_Cnew.plot(ci_show=True)\n",
    "plt.ylabel('Proportion surviving')\n",
    "plt.xlabel('Timeline')\n",
    "plt.title('Reliability function and its confidence interval by Kaplan Meier estimator')"
   ]
  },
  {
   "cell_type": "markdown",
   "metadata": {},
   "source": [
    "### 1. Parametric model score checking:"
   ]
  },
  {
   "cell_type": "code",
   "execution_count": 368,
   "metadata": {},
   "outputs": [],
   "source": [
    "def model_checking(t,h,data_type,models = [\"Exponential model\",\"Weibull model\",\"Log-normal\"]):\n",
    "    t_log = np.log(t)[1:]\n",
    "    h_log = np.log(h)[1:]\n",
    "    \n",
    "    h_inv = norm.ppf(1-np.exp(-h),loc=0,scale=1)[1:]\n",
    "    \n",
    "    print('Score of', models[0], 'of type', data_type, 'is', stats.linregress(h,t).rvalue**2)\n",
    "    print('Score of', models[1], 'of type', data_type, 'is', stats.linregress(h_log,t_log).rvalue**2)\n",
    "    print('Score of', models[2], 'of type', data_type, 'is', stats.linregress(h_inv,t_log).rvalue**2)"
   ]
  },
  {
   "cell_type": "code",
   "execution_count": 369,
   "metadata": {},
   "outputs": [
    {
     "name": "stdout",
     "output_type": "stream",
     "text": [
      "Score of Exponential model of type A is 0.9011287908304255\n",
      "Score of Weibull model of type A is 0.6903917078870316\n",
      "Score of Log-normal of type A is 0.6333447792866229\n",
      "Score of Exponential model of type B is 0.9671411546422601\n",
      "Score of Weibull model of type B is 0.9225317526594042\n",
      "Score of Log-normal of type B is 0.8531578969446063\n",
      "Score of Exponential model of type C is 0.9928116211270029\n",
      "Score of Weibull model of type C is 0.9876852341535235\n",
      "Score of Log-normal of type C is 0.9441380127641117\n",
      "Score of Exponential model of type Cnew is 0.9178562506016699\n",
      "Score of Weibull model of type Cnew is 0.986260121419431\n",
      "Score of Log-normal of type Cnew is 0.9824827672687375\n"
     ]
    }
   ],
   "source": [
    "tl_A = np.array(naf_A.timeline)\n",
    "ch_A = np.array(naf_A.cumulative_hazard_)\n",
    "ch_A = np.reshape(ch_A,-1)\n",
    "\n",
    "tl_B = np.array(naf_B.timeline)\n",
    "ch_B = np.array(naf_B.cumulative_hazard_)\n",
    "ch_B = np.reshape(ch_B,-1)\n",
    "\n",
    "tl_C = np.array(naf_C.timeline)\n",
    "ch_C = np.array(naf_C.cumulative_hazard_)\n",
    "ch_C = np.reshape(ch_C,-1)\n",
    "\n",
    "tl_Cnew = np.array(naf_Cnew.timeline)\n",
    "ch_Cnew = np.array(naf_Cnew.cumulative_hazard_)\n",
    "ch_Cnew = np.reshape(ch_Cnew,-1)\n",
    "\n",
    "t = [tl_A,tl_B,tl_C,tl_Cnew]\n",
    "h = [ch_A,ch_B,ch_C,ch_Cnew]\n",
    "data_type = ['A','B','C','Cnew']\n",
    "\n",
    "for i in range(len(data_type)):\n",
    "    model_checking(t[i],h[i],data_type[i])"
   ]
  },
  {
   "cell_type": "markdown",
   "metadata": {
    "id": "Ab_UWWXVYPTB"
   },
   "source": [
    "### 2. For type B data"
   ]
  },
  {
   "cell_type": "markdown",
   "metadata": {},
   "source": [
    "We hope to apply an exponential model for the data type B. So we first want to find an exponential model for the data, then we check whether this model is relevant and finally, we will give the interpretation results thanks to the considered model.\n"
   ]
  },
  {
   "cell_type": "markdown",
   "metadata": {},
   "source": [
    "#### 2.1. Exponential Model"
   ]
  },
  {
   "cell_type": "markdown",
   "metadata": {
    "id": "SfozPX3tYPTD"
   },
   "source": [
    "- Estimating the $\\lambda$ coefficient with censoring data :"
   ]
  },
  {
   "cell_type": "code",
   "execution_count": 370,
   "metadata": {
    "colab": {
     "base_uri": "https://localhost:8080/"
    },
    "executionInfo": {
     "elapsed": 494,
     "status": "ok",
     "timestamp": 1605376908915,
     "user": {
      "displayName": "HUYNH Ngo Nghi Truyen",
      "photoUrl": "https://lh5.googleusercontent.com/-SromPU_QOag/AAAAAAAAAAI/AAAAAAAAExM/yhxgjif1TcI/s64/photo.jpg",
      "userId": "17693430888314692616"
     },
     "user_tz": -60
    },
    "id": "ku0PbkUiYPTE",
    "outputId": "59c25d59-100e-4480-d4ee-ea2fe0a425f4"
   },
   "outputs": [
    {
     "name": "stdout",
     "output_type": "stream",
     "text": [
      "lambda = 5.396291034926614e-05\n",
      "Number of data type B : 287\n",
      "Number of censored data : 216\n"
     ]
    }
   ],
   "source": [
    "data_B = data[data['PN']=='B']\n",
    "data_B_TSI = data_B[data_B['failed'] == True]['TSI'] # With censored data\n",
    "lamb = len(data_B_TSI)/np.sum(data[data['PN']=='B']['TSI'])\n",
    "print('lambda =', lamb)\n",
    "print(\"Number of data type B :\",len(data_B))\n",
    "print('Number of censored data :',len(data_B)-len(data_B_TSI))"
   ]
  },
  {
   "cell_type": "markdown",
   "metadata": {
    "id": "-r0TCsCEYPTN"
   },
   "source": [
    "- Plotting simulated data :"
   ]
  },
  {
   "cell_type": "code",
   "execution_count": 371,
   "metadata": {
    "colab": {
     "base_uri": "https://localhost:8080/",
     "height": 312
    },
    "executionInfo": {
     "elapsed": 835,
     "status": "ok",
     "timestamp": 1605376911730,
     "user": {
      "displayName": "HUYNH Ngo Nghi Truyen",
      "photoUrl": "https://lh5.googleusercontent.com/-SromPU_QOag/AAAAAAAAAAI/AAAAAAAAExM/yhxgjif1TcI/s64/photo.jpg",
      "userId": "17693430888314692616"
     },
     "user_tz": -60
    },
    "id": "2EJ8fVdAYPTO",
    "outputId": "278eb2ba-e51d-454a-9d8e-1399cfe3e957"
   },
   "outputs": [
    {
     "data": {
      "text/plain": [
       "Text(0.5, 1.0, 'Exponential distribution for type B data')"
      ]
     },
     "execution_count": 371,
     "metadata": {},
     "output_type": "execute_result"
    },
    {
     "data": {
      "image/png": "[encoded data removed]",
      "text/plain": [
       "<Figure size 432x288 with 1 Axes>"
      ]
     },
     "metadata": {
      "needs_background": "light"
     },
     "output_type": "display_data"
    }
   ],
   "source": [
    "t=np.linspace(0,np.max(data_B.TSI),1000000)\n",
    "y=pow(np.e,-lamb*t)\n",
    "plt.plot(t,y)\n",
    "plt.ylabel('Probability')\n",
    "plt.xlabel('Hour since installation')\n",
    "plt.title('Exponential distribution for type B data')"
   ]
  },
  {
   "cell_type": "markdown",
   "metadata": {
    "id": "qriTktbOYPTU"
   },
   "source": [
    "- Mean time to faillure :"
   ]
  },
  {
   "cell_type": "code",
   "execution_count": 372,
   "metadata": {
    "colab": {
     "base_uri": "https://localhost:8080/"
    },
    "executionInfo": {
     "elapsed": 571,
     "status": "ok",
     "timestamp": 1605376914945,
     "user": {
      "displayName": "HUYNH Ngo Nghi Truyen",
      "photoUrl": "https://lh5.googleusercontent.com/-SromPU_QOag/AAAAAAAAAAI/AAAAAAAAExM/yhxgjif1TcI/s64/photo.jpg",
      "userId": "17693430888314692616"
     },
     "user_tz": -60
    },
    "id": "j_ogLN4uYPTW",
    "outputId": "0f117ed8-d9ed-4ce1-86d2-32e540ef9b46"
   },
   "outputs": [
    {
     "name": "stdout",
     "output_type": "stream",
     "text": [
      "The average time since installation of type B : 18531.246619718302 hours.\n"
     ]
    }
   ],
   "source": [
    "print('The average time since installation of type B :', 1/lamb, 'hours.')"
   ]
  },
  {
   "cell_type": "markdown",
   "metadata": {},
   "source": [
    "#### 2.2. Model checking"
   ]
  },
  {
   "cell_type": "markdown",
   "metadata": {
    "id": "qriTktbOYPTU"
   },
   "source": [
    "- Comparing with the Kaplan-Meier estimator :"
   ]
  },
  {
   "cell_type": "code",
   "execution_count": 373,
   "metadata": {},
   "outputs": [
    {
     "data": {
      "text/plain": [
       "Text(0.5, 0, 'Timeline')"
      ]
     },
     "execution_count": 373,
     "metadata": {},
     "output_type": "execute_result"
    },
    {
     "data": {
      "image/png": "[encoded data removed]",
      "text/plain": [
       "<Figure size 432x288 with 1 Axes>"
      ]
     },
     "metadata": {
      "needs_background": "light"
     },
     "output_type": "display_data"
    }
   ],
   "source": [
    "plt.plot(t,y)\n",
    "kmf_B.plot()\n",
    "plt.legend(('Exponential model', 'KM_estimator'))\n",
    "plt.ylabel('Reliability function')\n",
    "plt.xlabel('Timeline')"
   ]
  },
  {
   "cell_type": "markdown",
   "metadata": {},
   "source": [
    "- Hazard plotting :"
   ]
  },
  {
   "cell_type": "markdown",
   "metadata": {},
   "source": [
    "Now we want to check if the hazard plotting with exponential distribution gives us a acceptable score."
   ]
  },
  {
   "cell_type": "code",
   "execution_count": 374,
   "metadata": {},
   "outputs": [
    {
     "name": "stdout",
     "output_type": "stream",
     "text": [
      "Score related R_square : 0.9671411546422601\n"
     ]
    },
    {
     "data": {
      "image/png": "[encoded data removed]",
      "text/plain": [
       "<Figure size 432x288 with 1 Axes>"
      ]
     },
     "metadata": {
      "needs_background": "light"
     },
     "output_type": "display_data"
    }
   ],
   "source": [
    "# linear regression\n",
    "slope, intercept, r_value, p_value, std_err = stats.linregress(ch_B,tl_B)\n",
    "# plot line\n",
    "plt.scatter(ch_B,tl_B,c = 'b')\n",
    "plt.plot(ch_B,slope*ch_B+intercept, c = 'r')\n",
    "plt.title('Hazard plotting with exponential distribution')\n",
    "plt.ylabel('t')\n",
    "plt.xlabel('h(t)')\n",
    "print(\"Score related R_square :\", r_value**2)"
   ]
  },
  {
   "cell_type": "markdown",
   "metadata": {},
   "source": [
    "The score of this model is 0.967. We can also see that the weibull model gives a less score:"
   ]
  },
  {
   "cell_type": "code",
   "execution_count": 375,
   "metadata": {},
   "outputs": [
    {
     "name": "stdout",
     "output_type": "stream",
     "text": [
      "Score related R_square : 0.9225317526594042\n"
     ]
    },
    {
     "data": {
      "image/png": "[encoded data removed]",
      "text/plain": [
       "<Figure size 432x288 with 1 Axes>"
      ]
     },
     "metadata": {
      "needs_background": "light"
     },
     "output_type": "display_data"
    }
   ],
   "source": [
    "t=np.log(tl_B)[1:]\n",
    "h=np.log(ch_B)[1:]\n",
    "# linear regression\n",
    "slope, intercept, r_value, p_value, std_err = stats.linregress(h,t)\n",
    "# plot line\n",
    "plt.scatter(h,t,c = 'b')\n",
    "plt.plot(h,slope*h+intercept, c = 'r')\n",
    "plt.title('Hazard plotting with weibull distribution')\n",
    "plt.ylabel('ln(t)')\n",
    "plt.xlabel('ln(h(t))')\n",
    "print(\"Score related R_square :\", r_value**2)"
   ]
  },
  {
   "cell_type": "markdown",
   "metadata": {},
   "source": [
    "#### 2.3. Interpretation"
   ]
  },
  {
   "cell_type": "markdown",
   "metadata": {
    "id": "LSSZ_mArwMwF"
   },
   "source": [
    "### 3. For type A"
   ]
  },
  {
   "cell_type": "markdown",
   "metadata": {},
   "source": [
    "#### 3.1. Parametric model checking (exponential distribution)"
   ]
  },
  {
   "cell_type": "code",
   "execution_count": 376,
   "metadata": {},
   "outputs": [
    {
     "data": {
      "text/plain": [
       "Text(0.5, 0, 'Timeline')"
      ]
     },
     "execution_count": 376,
     "metadata": {},
     "output_type": "execute_result"
    },
    {
     "data": {
      "image/png": "[encoded data removed]",
      "text/plain": [
       "<Figure size 432x288 with 1 Axes>"
      ]
     },
     "metadata": {
      "needs_background": "light"
     },
     "output_type": "display_data"
    }
   ],
   "source": [
    "data_A = data[data['PN']=='A']\n",
    "data_A_TSI = data_A[data_A['failed'] == True]['TSI'] # With censored data\n",
    "lamb = len(data_A_TSI)/np.sum(data[data['PN']=='A']['TSI'])\n",
    "t=np.linspace(0,np.max(data_A.TSI),1000000)\n",
    "y=pow(np.e,-lamb*t)\n",
    "plt.plot(t,y)\n",
    "kmf_A.plot()\n",
    "plt.legend(('Exponential model', 'KM_estimator'))\n",
    "plt.ylabel('Reliability function')\n",
    "plt.xlabel('Timeline')"
   ]
  },
  {
   "cell_type": "markdown",
   "metadata": {},
   "source": [
    "We see that exponential model do not adapt our data in this case. So we keep the Kaplan_Meier model (non-parametric model) for the data type A."
   ]
  },
  {
   "cell_type": "markdown",
   "metadata": {},
   "source": [
    "#### 3.2. Interpretation"
   ]
  },
  {
   "cell_type": "markdown",
   "metadata": {
    "id": "LSSZ_mArwMwF"
   },
   "source": [
    "### 4. For type C"
   ]
  },
  {
   "cell_type": "markdown",
   "metadata": {},
   "source": [
    "#### 4.1. Parametric model checking (exponential distribution)"
   ]
  },
  {
   "cell_type": "code",
   "execution_count": 377,
   "metadata": {},
   "outputs": [
    {
     "data": {
      "text/plain": [
       "Text(0.5, 0, 'Timeline')"
      ]
     },
     "execution_count": 377,
     "metadata": {},
     "output_type": "execute_result"
    },
    {
     "data": {
      "image/png": "[encoded data removed]",
      "text/plain": [
       "<Figure size 432x288 with 1 Axes>"
      ]
     },
     "metadata": {
      "needs_background": "light"
     },
     "output_type": "display_data"
    }
   ],
   "source": [
    "data_C = data[data['PN']=='C']\n",
    "data_C_TSI = data_C[data_C['failed'] == True]['TSI'] # With censored data\n",
    "lamb = len(data_C_TSI)/np.sum(data[data['PN']=='C']['TSI'])\n",
    "t=np.linspace(0,np.max(data_C.TSI),1000000)\n",
    "y=pow(np.e,-lamb*t)\n",
    "plt.plot(t,y)\n",
    "kmf_C.plot()\n",
    "plt.legend(('Exponential model', 'KM_estimator'))\n",
    "plt.ylabel('Reliability function')\n",
    "plt.xlabel('Timeline')"
   ]
  },
  {
   "cell_type": "markdown",
   "metadata": {},
   "source": [
    "#### 4.2. Interpretation"
   ]
  },
  {
   "cell_type": "markdown",
   "metadata": {
    "id": "LSSZ_mArwMwF"
   },
   "source": [
    "### 5. For type C-new"
   ]
  },
  {
   "cell_type": "markdown",
   "metadata": {},
   "source": [
    "#### 5.1. Parametric model checking (weibull distribution)"
   ]
  },
  {
   "cell_type": "code",
   "execution_count": 378,
   "metadata": {},
   "outputs": [
    {
     "name": "stderr",
     "output_type": "stream",
     "text": [
      "<ipython-input-378-65270e0446a7>:3: SettingWithCopyWarning: \n",
      "A value is trying to be set on a copy of a slice from a DataFrame\n",
      "\n",
      "See the caveats in the documentation: https://pandas.pydata.org/pandas-docs/stable/user_guide/indexing.html#returning-a-view-versus-a-copy\n",
      "  T_Cnew[T_Cnew==0]=1e-6 # Avoid divising by zero.\n",
      "/home/nnthuynh/anaconda3/lib/python3.8/site-packages/pandas/core/series.py:1020: SettingWithCopyWarning: \n",
      "A value is trying to be set on a copy of a slice from a DataFrame\n",
      "\n",
      "See the caveats in the documentation: https://pandas.pydata.org/pandas-docs/stable/user_guide/indexing.html#returning-a-view-versus-a-copy\n",
      "  self._where(~key, value, inplace=True)\n"
     ]
    },
    {
     "data": {
      "text/plain": [
       "Text(0.5, 0, 'Timeline')"
      ]
     },
     "execution_count": 378,
     "metadata": {},
     "output_type": "execute_result"
    },
    {
     "data": {
      "image/png": "[encoded data removed]",
      "text/plain": [
       "<Figure size 432x288 with 1 Axes>"
      ]
     },
     "metadata": {
      "needs_background": "light"
     },
     "output_type": "display_data"
    }
   ],
   "source": [
    "from lifelines import WeibullFitter\n",
    "\n",
    "T_Cnew[T_Cnew==0]=1e-6 # Avoid divising by zero.\n",
    "wb_Cnew = WeibullFitter() \n",
    "wb_Cnew.fit(T_Cnew, d_Cnew)\n",
    "wb_Cnew.survival_function_.plot()\n",
    "kmf_Cnew.plot()\n",
    "plt.legend(('Weibull model', 'KM_estimator'))\n",
    "plt.ylabel('Reliability function')\n",
    "plt.xlabel('Timeline')"
   ]
  },
  {
   "cell_type": "markdown",
   "metadata": {},
   "source": [
    "We accept this model."
   ]
  },
  {
   "cell_type": "code",
   "execution_count": 379,
   "metadata": {},
   "outputs": [
    {
     "name": "stdout",
     "output_type": "stream",
     "text": [
      "The MTTF of type Cnew is 110425913.21639226 hours.\n"
     ]
    }
   ],
   "source": [
    "alp = wb_Cnew.lambda_\n",
    "beta = wb_Cnew.rho_\n",
    "print(\"The MTTF of type Cnew is\", sc.gammaln(1+1/beta)*alp, 'hours.')"
   ]
  },
  {
   "cell_type": "markdown",
   "metadata": {},
   "source": [
    "#### 5.2. Interpretation"
   ]
  },
  {
   "cell_type": "code",
   "execution_count": null,
   "metadata": {},
   "outputs": [],
   "source": []
  },
  {
   "cell_type": "code",
   "execution_count": null,
   "metadata": {},
   "outputs": [],
   "source": []
  },
  {
   "cell_type": "code",
   "execution_count": null,
   "metadata": {},
   "outputs": [],
   "source": []
  },
  {
   "cell_type": "code",
   "execution_count": null,
   "metadata": {},
   "outputs": [],
   "source": []
  },
  {
   "cell_type": "code",
   "execution_count": null,
   "metadata": {},
   "outputs": [],
   "source": []
  },
  {
   "cell_type": "code",
   "execution_count": null,
   "metadata": {},
   "outputs": [],
   "source": []
  },
  {
   "cell_type": "code",
   "execution_count": null,
   "metadata": {},
   "outputs": [],
   "source": []
  },
  {
   "cell_type": "code",
   "execution_count": null,
   "metadata": {},
   "outputs": [],
   "source": []
  },
  {
   "cell_type": "code",
   "execution_count": 380,
   "metadata": {
    "executionInfo": {
     "elapsed": 558,
     "status": "ok",
     "timestamp": 1605402836802,
     "user": {
      "displayName": "HUYNH Ngo Nghi Truyen",
      "photoUrl": "https://lh5.googleusercontent.com/-SromPU_QOag/AAAAAAAAAAI/AAAAAAAAExM/yhxgjif1TcI/s64/photo.jpg",
      "userId": "17693430888314692616"
     },
     "user_tz": -60
    },
    "id": "d_MgmlYnHK__"
   },
   "outputs": [],
   "source": [
    "def KME(t,T,d):\n",
    "    x = np.min([t,np.max(T)])\n",
    "    T_sort = np.sort(T)\n",
    "    T_uniq = pd.unique(T_sort)\n",
    "    ind = np.hstack([np.where(T==value)[0] for value in T_uniq])\n",
    "    d_sort = np.array(d)[ind]\n",
    "    \n",
    "    T_sort = T_sort[:len(np.where(T_sort<x)[0])]\n",
    "    d_sort = d_sort[:len(T_sort)]\n",
    "    \n",
    "    M = np.hstack([np.sum(d_sort[np.where(T_sort==val)[0]]) for val in T_uniq])\n",
    "    Y = np.hstack([len(T)]+[len(T)-np.sum(M[:i+1]) for i in range(len(M)-1)])\n",
    "    R = np.prod(np.ones(len(M))-M/Y)\n",
    "    return R"
   ]
  },
  {
   "cell_type": "code",
   "execution_count": null,
   "metadata": {},
   "outputs": [],
   "source": []
  }
 ],
 "metadata": {
  "colab": {
   "collapsed_sections": [],
   "name": "FlightDataAnalysis.ipynb",
   "provenance": []
  },
  "kernelspec": {
   "display_name": "Python 3",
   "language": "python",
   "name": "python3"
  },
  "language_info": {
   "codemirror_mode": {
    "name": "ipython",
    "version": 3
   },
   "file_extension": ".py",
   "mimetype": "text/x-python",
   "name": "python",
   "nbconvert_exporter": "python",
   "pygments_lexer": "ipython3",
   "version": "3.8.2"
  }
 },
 "nbformat": 4,
 "nbformat_minor": 1
}
