{
 "cells": [
  {
   "cell_type": "markdown",
   "metadata": {},
   "source": [
    "# Flight Data Analysis - Airbus"
   ]
  },
  {
   "cell_type": "code",
   "execution_count": 15,
   "metadata": {},
   "outputs": [],
   "source": [
    "import pandas as pd\n",
    "import matplotlib.pyplot as plt\n",
    "import numpy as np"
   ]
  },
  {
   "cell_type": "markdown",
   "metadata": {},
   "source": [
    "## I. Data Set"
   ]
  },
  {
   "cell_type": "code",
   "execution_count": 18,
   "metadata": {},
   "outputs": [
    {
     "name": "stdout",
     "output_type": "stream",
     "text": [
      "--2020-11-09 16:34:42--  https://github.com/nghitruyen/Flight_Data_Analysis/blob/main/INSA-Airbus%20FHS%20-%20Data%20set_ter.xlsx\n",
      "Résolution de github.com (github.com)… 140.82.121.3\n",
      "Connexion à github.com (github.com)|140.82.121.3|:443… connecté.\n",
      "requête HTTP transmise, en attente de la réponse… 200 OK\n",
      "Taille : non indiqué [text/html]\n",
      "Enregistre : «./INSA-Airbus FHS - Data set_ter.xlsx.5»\n",
      "\n",
      "INSA-Airbus FHS - D     [ <=>                ]  79,30K  --.-KB/s    ds 0,1s    \n",
      "\n",
      "2020-11-09 16:34:43 (722 KB/s) - «./INSA-Airbus FHS - Data set_ter.xlsx.5» enregistré [81205]\n",
      "\n",
      "<class 'pandas.core.frame.DataFrame'>\n",
      "RangeIndex: 2388 entries, 0 to 2387\n",
      "Data columns (total 8 columns):\n",
      " #   Column                         Non-Null Count  Dtype         \n",
      "---  ------                         --------------  -----         \n",
      " 0   Customer                       2388 non-null   int64         \n",
      " 1   Removal date                   2388 non-null   datetime64[ns]\n",
      " 2   P/N                            2388 non-null   object        \n",
      " 3   Description                    2388 non-null   object        \n",
      " 4   S/N                            2388 non-null   object        \n",
      " 5   Maintenance Type               2388 non-null   object        \n",
      " 6   TSI (Flight Hours) at removal  2296 non-null   float64       \n",
      " 7   TSN (Flight Hours) at Removal  2335 non-null   float64       \n",
      "dtypes: datetime64[ns](1), float64(2), int64(1), object(4)\n",
      "memory usage: 149.4+ KB\n"
     ]
    },
    {
     "data": {
      "text/html": [
       "<div>\n",
       "<style scoped>\n",
       "    .dataframe tbody tr th:only-of-type {\n",
       "        vertical-align: middle;\n",
       "    }\n",
       "\n",
       "    .dataframe tbody tr th {\n",
       "        vertical-align: top;\n",
       "    }\n",
       "\n",
       "    .dataframe thead th {\n",
       "        text-align: right;\n",
       "    }\n",
       "</style>\n",
       "<table border=\"1\" class=\"dataframe\">\n",
       "  <thead>\n",
       "    <tr style=\"text-align: right;\">\n",
       "      <th></th>\n",
       "      <th>Customer</th>\n",
       "      <th>Removal date</th>\n",
       "      <th>P/N</th>\n",
       "      <th>Description</th>\n",
       "      <th>S/N</th>\n",
       "      <th>Maintenance Type</th>\n",
       "      <th>TSI (Flight Hours) at removal</th>\n",
       "      <th>TSN (Flight Hours) at Removal</th>\n",
       "    </tr>\n",
       "  </thead>\n",
       "  <tbody>\n",
       "    <tr>\n",
       "      <th>0</th>\n",
       "      <td>3</td>\n",
       "      <td>2015-01-01</td>\n",
       "      <td>C</td>\n",
       "      <td>PN_C</td>\n",
       "      <td>15323054356</td>\n",
       "      <td>Unscheduled</td>\n",
       "      <td>5819.0</td>\n",
       "      <td>5819.0</td>\n",
       "    </tr>\n",
       "    <tr>\n",
       "      <th>1</th>\n",
       "      <td>3</td>\n",
       "      <td>2015-01-01</td>\n",
       "      <td>C</td>\n",
       "      <td>PN_C</td>\n",
       "      <td>15323057041</td>\n",
       "      <td>Unscheduled</td>\n",
       "      <td>5819.0</td>\n",
       "      <td>5819.0</td>\n",
       "    </tr>\n",
       "    <tr>\n",
       "      <th>2</th>\n",
       "      <td>3</td>\n",
       "      <td>2015-01-03</td>\n",
       "      <td>C</td>\n",
       "      <td>PN_C</td>\n",
       "      <td>15323072973</td>\n",
       "      <td>Unscheduled</td>\n",
       "      <td>3036.0</td>\n",
       "      <td>3036.0</td>\n",
       "    </tr>\n",
       "    <tr>\n",
       "      <th>3</th>\n",
       "      <td>3</td>\n",
       "      <td>2015-01-07</td>\n",
       "      <td>C</td>\n",
       "      <td>PN_C</td>\n",
       "      <td>15323053425</td>\n",
       "      <td>Unscheduled</td>\n",
       "      <td>5614.0</td>\n",
       "      <td>5614.0</td>\n",
       "    </tr>\n",
       "    <tr>\n",
       "      <th>4</th>\n",
       "      <td>3</td>\n",
       "      <td>2015-01-07</td>\n",
       "      <td>C</td>\n",
       "      <td>PN_C</td>\n",
       "      <td>15323058236</td>\n",
       "      <td>Unscheduled</td>\n",
       "      <td>5614.0</td>\n",
       "      <td>5614.0</td>\n",
       "    </tr>\n",
       "  </tbody>\n",
       "</table>\n",
       "</div>"
      ],
      "text/plain": [
       "   Customer Removal date P/N Description          S/N Maintenance Type  \\\n",
       "0         3   2015-01-01   C        PN_C  15323054356      Unscheduled   \n",
       "1         3   2015-01-01   C        PN_C  15323057041      Unscheduled   \n",
       "2         3   2015-01-03   C        PN_C  15323072973      Unscheduled   \n",
       "3         3   2015-01-07   C        PN_C  15323053425      Unscheduled   \n",
       "4         3   2015-01-07   C        PN_C  15323058236      Unscheduled   \n",
       "\n",
       "   TSI (Flight Hours) at removal  TSN (Flight Hours) at Removal  \n",
       "0                         5819.0                         5819.0  \n",
       "1                         5819.0                         5819.0  \n",
       "2                         3036.0                         3036.0  \n",
       "3                         5614.0                         5614.0  \n",
       "4                         5614.0                         5614.0  "
      ]
     },
     "execution_count": 18,
     "metadata": {},
     "output_type": "execute_result"
    }
   ],
   "source": [
    "#Removals = pd.read_excel(\"..\\Flight_Data_Analysis\\INSA-Airbus FHS - Data set_bis.xlsx\", sheet_name='Removals')\n",
    "! wget -P . https://github.com/nghitruyen/Flight_Data_Analysis/blob/main/INSA-Airbus%20FHS%20-%20Data%20set_ter.xlsx\n",
    "Removals = pd.read_excel(\"INSA-Airbus FHS - Data set_ter.xlsx\", sheet_name='Removals')\n",
    "SNlist = pd.read_excel(\"INSA-Airbus FHS - Data set_ter.xlsx\", sheet_name='SN_list')\n",
    "Removals.info()\n",
    "Removals.head()"
   ]
  },
  {
   "cell_type": "code",
   "execution_count": 19,
   "metadata": {},
   "outputs": [
    {
     "name": "stdout",
     "output_type": "stream",
     "text": [
      "<class 'pandas.core.frame.DataFrame'>\n",
      "RangeIndex: 5785 entries, 0 to 5784\n",
      "Data columns (total 8 columns):\n",
      " #   Column                          Non-Null Count  Dtype  \n",
      "---  ------                          --------------  -----  \n",
      " 0   Part Number                     5785 non-null   object \n",
      " 1   Description                     5785 non-null   object \n",
      " 2   Serial Number                   5785 non-null   object \n",
      " 3   Current SN Status Description   5785 non-null   object \n",
      " 4   Company                         5784 non-null   object \n",
      " 5   Hour ageing Since Installation  5745 non-null   float64\n",
      " 6   Hour ageing Since New           5637 non-null   float64\n",
      " 7   Since New Date                  4350 non-null   object \n",
      "dtypes: float64(2), object(6)\n",
      "memory usage: 361.7+ KB\n"
     ]
    },
    {
     "data": {
      "text/html": [
       "<div>\n",
       "<style scoped>\n",
       "    .dataframe tbody tr th:only-of-type {\n",
       "        vertical-align: middle;\n",
       "    }\n",
       "\n",
       "    .dataframe tbody tr th {\n",
       "        vertical-align: top;\n",
       "    }\n",
       "\n",
       "    .dataframe thead th {\n",
       "        text-align: right;\n",
       "    }\n",
       "</style>\n",
       "<table border=\"1\" class=\"dataframe\">\n",
       "  <thead>\n",
       "    <tr style=\"text-align: right;\">\n",
       "      <th></th>\n",
       "      <th>Part Number</th>\n",
       "      <th>Description</th>\n",
       "      <th>Serial Number</th>\n",
       "      <th>Current SN Status Description</th>\n",
       "      <th>Company</th>\n",
       "      <th>Hour ageing Since Installation</th>\n",
       "      <th>Hour ageing Since New</th>\n",
       "      <th>Since New Date</th>\n",
       "    </tr>\n",
       "  </thead>\n",
       "  <tbody>\n",
       "    <tr>\n",
       "      <th>0</th>\n",
       "      <td>A</td>\n",
       "      <td>PN_A</td>\n",
       "      <td>XXXM01-00324</td>\n",
       "      <td>On Aircraft</td>\n",
       "      <td>5</td>\n",
       "      <td>39498.39</td>\n",
       "      <td>54222.37</td>\n",
       "      <td>2007-11-19 00:00:00</td>\n",
       "    </tr>\n",
       "    <tr>\n",
       "      <th>1</th>\n",
       "      <td>A</td>\n",
       "      <td>PN_A</td>\n",
       "      <td>XXXM01-00329</td>\n",
       "      <td>On Aircraft</td>\n",
       "      <td>5</td>\n",
       "      <td>54525.41</td>\n",
       "      <td>54525.41</td>\n",
       "      <td>2007-11-19 00:00:00</td>\n",
       "    </tr>\n",
       "    <tr>\n",
       "      <th>2</th>\n",
       "      <td>A</td>\n",
       "      <td>PN_A</td>\n",
       "      <td>XXXM01-00334</td>\n",
       "      <td>On Aircraft</td>\n",
       "      <td>5</td>\n",
       "      <td>32238.92</td>\n",
       "      <td>52831.08</td>\n",
       "      <td>2008-03-12 00:00:00</td>\n",
       "    </tr>\n",
       "    <tr>\n",
       "      <th>3</th>\n",
       "      <td>A</td>\n",
       "      <td>PN_A</td>\n",
       "      <td>XXXM01-00337</td>\n",
       "      <td>On Aircraft</td>\n",
       "      <td>5</td>\n",
       "      <td>6951.19</td>\n",
       "      <td>52169.46</td>\n",
       "      <td>2006-04-01 00:00:00</td>\n",
       "    </tr>\n",
       "    <tr>\n",
       "      <th>4</th>\n",
       "      <td>A</td>\n",
       "      <td>PN_A</td>\n",
       "      <td>XXXM01-00338</td>\n",
       "      <td>On Aircraft</td>\n",
       "      <td>5</td>\n",
       "      <td>55511.55</td>\n",
       "      <td>55511.55</td>\n",
       "      <td>2008-03-12 00:00:00</td>\n",
       "    </tr>\n",
       "  </tbody>\n",
       "</table>\n",
       "</div>"
      ],
      "text/plain": [
       "  Part Number Description Serial Number Current SN Status Description Company  \\\n",
       "0           A        PN_A  XXXM01-00324                   On Aircraft       5   \n",
       "1           A        PN_A  XXXM01-00329                   On Aircraft       5   \n",
       "2           A        PN_A  XXXM01-00334                   On Aircraft       5   \n",
       "3           A        PN_A  XXXM01-00337                   On Aircraft       5   \n",
       "4           A        PN_A  XXXM01-00338                   On Aircraft       5   \n",
       "\n",
       "   Hour ageing Since Installation  Hour ageing Since New       Since New Date  \n",
       "0                        39498.39               54222.37  2007-11-19 00:00:00  \n",
       "1                        54525.41               54525.41  2007-11-19 00:00:00  \n",
       "2                        32238.92               52831.08  2008-03-12 00:00:00  \n",
       "3                         6951.19               52169.46  2006-04-01 00:00:00  \n",
       "4                        55511.55               55511.55  2008-03-12 00:00:00  "
      ]
     },
     "execution_count": 19,
     "metadata": {},
     "output_type": "execute_result"
    }
   ],
   "source": [
    "SNlist.info()\n",
    "SNlist.head()"
   ]
  },
  {
   "cell_type": "markdown",
   "metadata": {},
   "source": [
    "##### Combining Removals and SNlist :"
   ]
  },
  {
   "cell_type": "code",
   "execution_count": 24,
   "metadata": {},
   "outputs": [
    {
     "name": "stdout",
     "output_type": "stream",
     "text": [
      "         PN           SN   TSI   TSN  failed\n",
      "0         C  15323054356  5819  5819    True\n",
      "1         C  15323057041  5819  5819    True\n",
      "2         C  15323072973  3036  3036    True\n",
      "3         C  15323053425  5614  5614    True\n",
      "4         C  15323058236  5614  5614    True\n",
      "...     ...          ...   ...   ...     ...\n",
      "8139  C-new  15323104785     0   NaN   False\n",
      "8140  C-new  15323105471     0     0   False\n",
      "8141  C-new  15323106538     0     0   False\n",
      "8142  C-new  15323109154     0     0   False\n",
      "8143  C-new  15323109157     0     0   False\n",
      "\n",
      "[8055 rows x 5 columns]\n",
      "6103\n"
     ]
    }
   ],
   "source": [
    "PN = \"Part Number\"\n",
    "fail_and_not = SNlist.copy()\n",
    "fail_and_not['failed'] = False\n",
    "fail_and_not[fail_and_not['Current SN Status Description']=='In Outside Repair']=True\n",
    "fail_and_not = fail_and_not.drop(['Description','Current SN Status Description','Since New Date','Company'], axis = 1)\n",
    "fail_and_not = fail_and_not.rename(columns={\"Part Number\": \"PN\", \"Serial Number\": \"SN\", \"Hour ageing Since Installation\": \"TSI\", \"Hour ageing Since New\": \"TSN\"})\n",
    "\n",
    "fail = Removals[Removals['Maintenance Type']=='Unscheduled']\n",
    "fail = fail.drop(['Customer','Removal date','Description','Maintenance Type'], axis=1)\n",
    "fail = fail.rename(columns={\"P/N\": \"PN\", \"S/N\": \"SN\", \"TSI (Flight Hours) at removal\": \"TSI\", \"TSN (Flight Hours) at Removal\": \"TSN\"})\n",
    "fail['failed'] = True \n",
    "\n",
    "all_SN = pd.unique(fail_and_not['SN'])\n",
    "SN_Removals = pd.unique(fail['SN'])\n",
    "\n",
    "# fail_not_in_SN = SN_Removals\n",
    "# fail_in_SN = fail[fail['SN'] in fail_and_not['SN']]\n",
    "combined = pd.concat([fail,fail_and_not], ignore_index=True)\n",
    "combined = combined.drop_duplicates(subset=['SN','PN','TSN'], keep='last')\n",
    "\n",
    "print(combined)\n",
    "print(len(set(combined['SN'])))"
   ]
  },
  {
   "cell_type": "markdown",
   "metadata": {},
   "source": [
    "## II. Data Visualization "
   ]
  },
  {
   "cell_type": "code",
   "execution_count": 33,
   "metadata": {},
   "outputs": [],
   "source": [
    "TSI = 'TSI'\n",
    "TSN = 'TSN'\n",
    "PN = 'PN'\n",
    "fail = 'failed'"
   ]
  },
  {
   "cell_type": "markdown",
   "metadata": {},
   "source": [
    "### 1. Type A, B, C"
   ]
  },
  {
   "cell_type": "code",
   "execution_count": 27,
   "metadata": {},
   "outputs": [
    {
     "name": "stdout",
     "output_type": "stream",
     "text": [
      "Number of samples in total :  8055\n"
     ]
    },
    {
     "data": {
      "image/png": "[encoded data removed]",
      "text/plain": [
       "<Figure size 432x288 with 1 Axes>"
      ]
     },
     "metadata": {
      "needs_background": "light"
     },
     "output_type": "display_data"
    },
    {
     "data": {
      "image/png": "[encoded data removed]",
      "text/plain": [
       "<Figure size 432x288 with 1 Axes>"
      ]
     },
     "metadata": {
      "needs_background": "light"
     },
     "output_type": "display_data"
    }
   ],
   "source": [
    "plt.hist(combined[TSI].replace(np.nan, 0.0),bins=10)\n",
    "plt.ylabel('Frequency')\n",
    "plt.xlabel('Hour ageing since installation')\n",
    "plt.title('Time since installation for 3 types A, B and C')\n",
    "plt.figure()\n",
    "plt.hist(combined[TSN].replace(np.nan, 0.0),bins=10)\n",
    "plt.ylabel('Frequency')\n",
    "plt.xlabel('Hour ageing since new')\n",
    "plt.title('Time since new for 3 types A, B and C')\n",
    "\n",
    "print(\"Number of samples in total : \", len(combined[TSI]))"
   ]
  },
  {
   "cell_type": "markdown",
   "metadata": {},
   "source": [
    "### 2. Type A"
   ]
  },
  {
   "cell_type": "code",
   "execution_count": 30,
   "metadata": {},
   "outputs": [
    {
     "name": "stdout",
     "output_type": "stream",
     "text": [
      "Number of samples type A :  3301\n"
     ]
    },
    {
     "data": {
      "image/png": "[encoded data removed]",
      "text/plain": [
       "<Figure size 432x288 with 1 Axes>"
      ]
     },
     "metadata": {
      "needs_background": "light"
     },
     "output_type": "display_data"
    },
    {
     "data": {
      "image/png": "[encoded data removed]",
      "text/plain": [
       "<Figure size 432x288 with 1 Axes>"
      ]
     },
     "metadata": {
      "needs_background": "light"
     },
     "output_type": "display_data"
    }
   ],
   "source": [
    "plt.hist(combined[combined[PN]=='A'][TSI].replace(np.nan, 0.0),bins=10)\n",
    "plt.ylabel('Frequency')\n",
    "plt.xlabel('Hour ageing since installation')\n",
    "plt.title('Time since installation of type A')\n",
    "plt.figure()\n",
    "plt.hist(combined[combined[PN]=='A'][TSN].replace(np.nan, 0.0),bins=10)\n",
    "plt.ylabel('Frequency')\n",
    "plt.xlabel('Hour ageing since new')\n",
    "plt.title('Time since new of type A')\n",
    "\n",
    "print(\"Number of samples type A : \", len(combined[combined[PN]=='A'][TSI]))"
   ]
  },
  {
   "cell_type": "markdown",
   "metadata": {},
   "source": [
    "### 3. Type B"
   ]
  },
  {
   "cell_type": "code",
   "execution_count": 52,
   "metadata": {},
   "outputs": [
    {
     "name": "stdout",
     "output_type": "stream",
     "text": [
      "Number of samples type B :  319\n"
     ]
    },
    {
     "data": {
      "text/html": [
       "<div>\n",
       "<style scoped>\n",
       "    .dataframe tbody tr th:only-of-type {\n",
       "        vertical-align: middle;\n",
       "    }\n",
       "\n",
       "    .dataframe tbody tr th {\n",
       "        vertical-align: top;\n",
       "    }\n",
       "\n",
       "    .dataframe thead th {\n",
       "        text-align: right;\n",
       "    }\n",
       "</style>\n",
       "<table border=\"1\" class=\"dataframe\">\n",
       "  <thead>\n",
       "    <tr style=\"text-align: right;\">\n",
       "      <th></th>\n",
       "      <th>PN</th>\n",
       "      <th>SN</th>\n",
       "      <th>TSI</th>\n",
       "      <th>TSN</th>\n",
       "      <th>failed</th>\n",
       "    </tr>\n",
       "  </thead>\n",
       "  <tbody>\n",
       "    <tr>\n",
       "      <th>1624</th>\n",
       "      <td>B</td>\n",
       "      <td>6863-00452</td>\n",
       "      <td>265</td>\n",
       "      <td>14781</td>\n",
       "      <td>True</td>\n",
       "    </tr>\n",
       "    <tr>\n",
       "      <th>1625</th>\n",
       "      <td>B</td>\n",
       "      <td>6863-01281</td>\n",
       "      <td>144</td>\n",
       "      <td>144</td>\n",
       "      <td>True</td>\n",
       "    </tr>\n",
       "    <tr>\n",
       "      <th>1626</th>\n",
       "      <td>B</td>\n",
       "      <td>6863-01249</td>\n",
       "      <td>NaN</td>\n",
       "      <td>NaN</td>\n",
       "      <td>True</td>\n",
       "    </tr>\n",
       "    <tr>\n",
       "      <th>1627</th>\n",
       "      <td>B</td>\n",
       "      <td>6863-00159</td>\n",
       "      <td>978</td>\n",
       "      <td>15790.4</td>\n",
       "      <td>True</td>\n",
       "    </tr>\n",
       "    <tr>\n",
       "      <th>1628</th>\n",
       "      <td>B</td>\n",
       "      <td>6863-00190</td>\n",
       "      <td>0</td>\n",
       "      <td>NaN</td>\n",
       "      <td>True</td>\n",
       "    </tr>\n",
       "    <tr>\n",
       "      <th>...</th>\n",
       "      <td>...</td>\n",
       "      <td>...</td>\n",
       "      <td>...</td>\n",
       "      <td>...</td>\n",
       "      <td>...</td>\n",
       "    </tr>\n",
       "    <tr>\n",
       "      <th>6163</th>\n",
       "      <td>B</td>\n",
       "      <td>6863-10005</td>\n",
       "      <td>0</td>\n",
       "      <td>0</td>\n",
       "      <td>False</td>\n",
       "    </tr>\n",
       "    <tr>\n",
       "      <th>6164</th>\n",
       "      <td>B</td>\n",
       "      <td>6863-10006</td>\n",
       "      <td>0</td>\n",
       "      <td>0</td>\n",
       "      <td>False</td>\n",
       "    </tr>\n",
       "    <tr>\n",
       "      <th>6165</th>\n",
       "      <td>B</td>\n",
       "      <td>6863-10007</td>\n",
       "      <td>0</td>\n",
       "      <td>0</td>\n",
       "      <td>False</td>\n",
       "    </tr>\n",
       "    <tr>\n",
       "      <th>6166</th>\n",
       "      <td>B</td>\n",
       "      <td>6863-10008</td>\n",
       "      <td>0</td>\n",
       "      <td>0</td>\n",
       "      <td>False</td>\n",
       "    </tr>\n",
       "    <tr>\n",
       "      <th>6167</th>\n",
       "      <td>B</td>\n",
       "      <td>6863-10009</td>\n",
       "      <td>0</td>\n",
       "      <td>0</td>\n",
       "      <td>False</td>\n",
       "    </tr>\n",
       "  </tbody>\n",
       "</table>\n",
       "<p>319 rows × 5 columns</p>\n",
       "</div>"
      ],
      "text/plain": [
       "     PN          SN  TSI      TSN  failed\n",
       "1624  B  6863-00452  265    14781    True\n",
       "1625  B  6863-01281  144      144    True\n",
       "1626  B  6863-01249  NaN      NaN    True\n",
       "1627  B  6863-00159  978  15790.4    True\n",
       "1628  B  6863-00190    0      NaN    True\n",
       "...  ..         ...  ...      ...     ...\n",
       "6163  B  6863-10005    0        0   False\n",
       "6164  B  6863-10006    0        0   False\n",
       "6165  B  6863-10007    0        0   False\n",
       "6166  B  6863-10008    0        0   False\n",
       "6167  B  6863-10009    0        0   False\n",
       "\n",
       "[319 rows x 5 columns]"
      ]
     },
     "execution_count": 52,
     "metadata": {},
     "output_type": "execute_result"
    },
    {
     "data": {
      "image/png": "[encoded data removed]",
      "text/plain": [
       "<Figure size 432x288 with 1 Axes>"
      ]
     },
     "metadata": {
      "needs_background": "light"
     },
     "output_type": "display_data"
    },
    {
     "data": {
      "image/png": "[encoded data removed]",
      "text/plain": [
       "<Figure size 432x288 with 1 Axes>"
      ]
     },
     "metadata": {
      "needs_background": "light"
     },
     "output_type": "display_data"
    }
   ],
   "source": [
    "plt.hist(combined[combined[PN]=='B'][TSI].replace(np.nan, 0.0),bins=10)\n",
    "plt.ylabel('Frequency')\n",
    "plt.xlabel('Hour ageing since installation')\n",
    "plt.title('Time since installation of type B')\n",
    "plt.figure()\n",
    "plt.hist(combined[combined[PN]=='B'][TSN].replace(np.nan, 0.0),bins=10)\n",
    "plt.ylabel('Frequency')\n",
    "plt.xlabel('Hour ageing since new')\n",
    "plt.title('Time since new of type B')\n",
    "\n",
    "print(\"Number of samples type B : \", len(combined[combined[PN]=='B'][TSI]))\n",
    "combined[combined[PN]=='B']"
   ]
  },
  {
   "cell_type": "markdown",
   "metadata": {},
   "source": [
    "### 4. Type C"
   ]
  },
  {
   "cell_type": "code",
   "execution_count": 32,
   "metadata": {},
   "outputs": [
    {
     "name": "stdout",
     "output_type": "stream",
     "text": [
      "Number of samples type C :  3356\n"
     ]
    },
    {
     "data": {
      "image/png": "[encoded data removed]",
      "text/plain": [
       "<Figure size 432x288 with 1 Axes>"
      ]
     },
     "metadata": {
      "needs_background": "light"
     },
     "output_type": "display_data"
    },
    {
     "data": {
      "image/png": "[encoded data removed]",
      "text/plain": [
       "<Figure size 432x288 with 1 Axes>"
      ]
     },
     "metadata": {
      "needs_background": "light"
     },
     "output_type": "display_data"
    }
   ],
   "source": [
    "plt.hist(combined[combined[PN]=='C'][TSI].replace(np.nan, 0.0),bins=10)\n",
    "plt.ylabel('Frequency')\n",
    "plt.xlabel('Hour ageing since installation')\n",
    "plt.title('Time since installation of type C')\n",
    "plt.figure()\n",
    "plt.hist(combined[combined[PN]=='C'][TSN].replace(np.nan, 0.0),bins=10)\n",
    "plt.ylabel('Frequency')\n",
    "plt.xlabel('Hour ageing since new')\n",
    "plt.title('Time since new of type C')\n",
    "\n",
    "print(\"Number of samples type C : \", len(combined[combined[PN]=='C'][TSI]))"
   ]
  },
  {
   "cell_type": "markdown",
   "metadata": {},
   "source": [
    "## III. Data Analysis"
   ]
  },
  {
   "cell_type": "markdown",
   "metadata": {},
   "source": [
    "##### Exponential distribution for type B data"
   ]
  },
  {
   "cell_type": "markdown",
   "metadata": {},
   "source": [
    "- Estimating the $\\lambda$ coefficient with censoring data :"
   ]
  },
  {
   "cell_type": "code",
   "execution_count": 56,
   "metadata": {},
   "outputs": [
    {
     "name": "stdout",
     "output_type": "stream",
     "text": [
      "lambda = 6.182572160375151e-05\n",
      "Number of data type B : 319\n",
      "Number of data censored : 236\n"
     ]
    }
   ],
   "source": [
    "combined_B = combined[combined[PN]=='B']\n",
    "combined_B_TSI = combined_B[combined_B[fail] == True][TSI] # Censoring data\n",
    "lamb = len(combined_B_TSI)/np.sum(combined[combined[PN]=='B'][TSI])\n",
    "print('lambda =', lamb)\n",
    "print(\"Number of data type B :\",len(combined_B))\n",
    "print('Number of data censored :',len(combined_B)-len(combined_B_TSI))"
   ]
  },
  {
   "cell_type": "markdown",
   "metadata": {},
   "source": [
    "- Plotting simulated data :"
   ]
  },
  {
   "cell_type": "code",
   "execution_count": 50,
   "metadata": {},
   "outputs": [
    {
     "data": {
      "text/plain": [
       "Text(0.5, 1.0, 'Exponential distribution for type B data')"
      ]
     },
     "execution_count": 50,
     "metadata": {},
     "output_type": "execute_result"
    },
    {
     "data": {
      "image/png": "[encoded data removed]",
      "text/plain": [
       "<Figure size 432x288 with 1 Axes>"
      ]
     },
     "metadata": {
      "needs_background": "light"
     },
     "output_type": "display_data"
    }
   ],
   "source": [
    "t=np.linspace(0,18000,1000000)\n",
    "y=pow(np.e,-lamb*t)\n",
    "plt.plot(t,y)\n",
    "plt.ylabel('Probability')\n",
    "plt.xlabel('Hour since installation')\n",
    "plt.title('Exponential distribution for type B data')"
   ]
  },
  {
   "cell_type": "markdown",
   "metadata": {},
   "source": [
    "- Mean time to faillure :"
   ]
  },
  {
   "cell_type": "code",
   "execution_count": 51,
   "metadata": {},
   "outputs": [
    {
     "name": "stdout",
     "output_type": "stream",
     "text": [
      "The average time sine installation of type B : 16174.49783132529 hours.\n"
     ]
    }
   ],
   "source": [
    "print('The average time sine installation of type B :', 1/lamb, 'hours.')"
   ]
  },
  {
   "cell_type": "code",
   "execution_count": null,
   "metadata": {},
   "outputs": [],
   "source": []
  }
 ],
 "metadata": {
  "kernelspec": {
   "display_name": "Python 3",
   "language": "python",
   "name": "python3"
  },
  "language_info": {
   "codemirror_mode": {
    "name": "ipython",
    "version": 3
   },
   "file_extension": ".py",
   "mimetype": "text/x-python",
   "name": "python",
   "nbconvert_exporter": "python",
   "pygments_lexer": "ipython3",
   "version": "3.8.2"
  }
 },
 "nbformat": 4,
 "nbformat_minor": 2
}
