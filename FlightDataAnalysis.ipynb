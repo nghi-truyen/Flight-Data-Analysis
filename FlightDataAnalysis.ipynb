{
 "cells": [
  {
   "cell_type": "markdown",
   "metadata": {
    "id": "my3rUSgcYPRj"
   },
   "source": [
    "# Flight Data Analysis - Airbus"
   ]
  },
  {
   "cell_type": "code",
   "execution_count": 1,
   "metadata": {
    "colab": {
     "base_uri": "https://localhost:8080/"
    },
    "executionInfo": {
     "elapsed": 3510,
     "status": "ok",
     "timestamp": 1607626133820,
     "user": {
      "displayName": "Nguyen Bao",
      "photoUrl": "https://lh3.googleusercontent.com/a-/AOh14Gjw7M03YsQjaWXfKVf3GckShdGXMown08YblXnIzQ=s64",
      "userId": "00428871316513598663"
     },
     "user_tz": -60
    },
    "id": "rB_wJLPEES9v",
    "outputId": "8f21024f-4402-4d15-bf04-478f232541e5"
   },
   "outputs": [],
   "source": [
    "#!pip install lifelines"
   ]
  },
  {
   "cell_type": "code",
   "execution_count": 2,
   "metadata": {
    "executionInfo": {
     "elapsed": 3495,
     "status": "ok",
     "timestamp": 1607626133823,
     "user": {
      "displayName": "Nguyen Bao",
      "photoUrl": "https://lh3.googleusercontent.com/a-/AOh14Gjw7M03YsQjaWXfKVf3GckShdGXMown08YblXnIzQ=s64",
      "userId": "00428871316513598663"
     },
     "user_tz": -60
    },
    "id": "IK20cx_KYPRl"
   },
   "outputs": [],
   "source": [
    "from __future__ import division\n",
    "\n",
    "import pandas as pd\n",
    "import matplotlib.pyplot as plt\n",
    "import numpy as np\n",
    "import scipy\n",
    "\n",
    "from scipy.stats import exponweib, lognorm\n",
    "from scipy.stats import distributions\n",
    "\n",
    "from numpy import arange, dot, exp, newaxis, pi, tensordot\n",
    "from scipy.special import gamma, kv\n",
    "from scipy.stats import rv_continuous\n",
    "from scipy.stats import norm\n",
    "\n",
    "import warnings"
   ]
  },
  {
   "cell_type": "markdown",
   "metadata": {
    "id": "aVrFNjhbYPRt"
   },
   "source": [
    "## I. Data Set"
   ]
  },
  {
   "cell_type": "code",
   "execution_count": 3,
   "metadata": {
    "colab": {
     "base_uri": "https://localhost:8080/"
    },
    "executionInfo": {
     "elapsed": 5651,
     "status": "ok",
     "timestamp": 1607626135994,
     "user": {
      "displayName": "Nguyen Bao",
      "photoUrl": "https://lh3.googleusercontent.com/a-/AOh14Gjw7M03YsQjaWXfKVf3GckShdGXMown08YblXnIzQ=s64",
      "userId": "00428871316513598663"
     },
     "user_tz": -60
    },
    "id": "ymhaw-GDDMaD",
    "outputId": "26bcd7b4-f978-4432-f072-78bf53c4bb3b"
   },
   "outputs": [],
   "source": [
    "# import sys\n",
    "# sys.path.append('/content/drive/My Drive/Hoc/Projet5A/')\n",
    "# import vect\n",
    "# from vect import varange, vectorize\n",
    "\n",
    "# from google.colab import drive\n",
    "# drive.mount('/content/drive/')\n",
    "# file_location = '/content/drive/My Drive/Hoc/Projet5A/INSA-Airbus FHS - Dataset_ter.xlsx'\n",
    "\n",
    "file_location = \"./Dataset_ter.xlsx\"\n",
    "\n",
    "Removals = pd.read_excel(file_location, sheet_name='Removals')\n",
    "SNlist = pd.read_excel(file_location, sheet_name='SN list')"
   ]
  },
  {
   "cell_type": "code",
   "execution_count": 4,
   "metadata": {
    "colab": {
     "base_uri": "https://localhost:8080/",
     "height": 592
    },
    "executionInfo": {
     "elapsed": 5643,
     "status": "ok",
     "timestamp": 1607626136013,
     "user": {
      "displayName": "Nguyen Bao",
      "photoUrl": "https://lh3.googleusercontent.com/a-/AOh14Gjw7M03YsQjaWXfKVf3GckShdGXMown08YblXnIzQ=s64",
      "userId": "00428871316513598663"
     },
     "user_tz": -60
    },
    "id": "EJmjvoPdYPR1",
    "outputId": "39232db4-05da-4d1c-c136-5c2329a947e3"
   },
   "outputs": [
    {
     "name": "stdout",
     "output_type": "stream",
     "text": [
      "<class 'pandas.core.frame.DataFrame'>\n",
      "RangeIndex: 2388 entries, 0 to 2387\n",
      "Data columns (total 8 columns):\n",
      " #   Column                         Non-Null Count  Dtype         \n",
      "---  ------                         --------------  -----         \n",
      " 0   Customer                       2388 non-null   int64         \n",
      " 1   Removal date                   2388 non-null   datetime64[ns]\n",
      " 2   P/N                            2388 non-null   object        \n",
      " 3   Description                    2388 non-null   object        \n",
      " 4   S/N                            2388 non-null   object        \n",
      " 5   Maintenance Type               2388 non-null   object        \n",
      " 6   TSI (Flight Hours) at removal  2296 non-null   float64       \n",
      " 7   TSN (Flight Hours) at Removal  2335 non-null   float64       \n",
      "dtypes: datetime64[ns](1), float64(2), int64(1), object(4)\n",
      "memory usage: 149.4+ KB\n"
     ]
    },
    {
     "data": {
      "text/html": [
       "<div>\n",
       "<style scoped>\n",
       "    .dataframe tbody tr th:only-of-type {\n",
       "        vertical-align: middle;\n",
       "    }\n",
       "\n",
       "    .dataframe tbody tr th {\n",
       "        vertical-align: top;\n",
       "    }\n",
       "\n",
       "    .dataframe thead th {\n",
       "        text-align: right;\n",
       "    }\n",
       "</style>\n",
       "<table border=\"1\" class=\"dataframe\">\n",
       "  <thead>\n",
       "    <tr style=\"text-align: right;\">\n",
       "      <th></th>\n",
       "      <th>Customer</th>\n",
       "      <th>Removal date</th>\n",
       "      <th>P/N</th>\n",
       "      <th>Description</th>\n",
       "      <th>S/N</th>\n",
       "      <th>Maintenance Type</th>\n",
       "      <th>TSI (Flight Hours) at removal</th>\n",
       "      <th>TSN (Flight Hours) at Removal</th>\n",
       "    </tr>\n",
       "  </thead>\n",
       "  <tbody>\n",
       "    <tr>\n",
       "      <th>0</th>\n",
       "      <td>3</td>\n",
       "      <td>2015-01-01</td>\n",
       "      <td>C</td>\n",
       "      <td>PN_C</td>\n",
       "      <td>15323054356</td>\n",
       "      <td>Unscheduled</td>\n",
       "      <td>5819.0</td>\n",
       "      <td>5819.0</td>\n",
       "    </tr>\n",
       "    <tr>\n",
       "      <th>1</th>\n",
       "      <td>3</td>\n",
       "      <td>2015-01-01</td>\n",
       "      <td>C</td>\n",
       "      <td>PN_C</td>\n",
       "      <td>15323057041</td>\n",
       "      <td>Unscheduled</td>\n",
       "      <td>5819.0</td>\n",
       "      <td>5819.0</td>\n",
       "    </tr>\n",
       "    <tr>\n",
       "      <th>2</th>\n",
       "      <td>3</td>\n",
       "      <td>2015-01-03</td>\n",
       "      <td>C</td>\n",
       "      <td>PN_C</td>\n",
       "      <td>15323072973</td>\n",
       "      <td>Unscheduled</td>\n",
       "      <td>3036.0</td>\n",
       "      <td>3036.0</td>\n",
       "    </tr>\n",
       "    <tr>\n",
       "      <th>3</th>\n",
       "      <td>3</td>\n",
       "      <td>2015-01-07</td>\n",
       "      <td>C</td>\n",
       "      <td>PN_C</td>\n",
       "      <td>15323053425</td>\n",
       "      <td>Unscheduled</td>\n",
       "      <td>5614.0</td>\n",
       "      <td>5614.0</td>\n",
       "    </tr>\n",
       "    <tr>\n",
       "      <th>4</th>\n",
       "      <td>3</td>\n",
       "      <td>2015-01-07</td>\n",
       "      <td>C</td>\n",
       "      <td>PN_C</td>\n",
       "      <td>15323058236</td>\n",
       "      <td>Unscheduled</td>\n",
       "      <td>5614.0</td>\n",
       "      <td>5614.0</td>\n",
       "    </tr>\n",
       "  </tbody>\n",
       "</table>\n",
       "</div>"
      ],
      "text/plain": [
       "   Customer Removal date P/N Description          S/N Maintenance Type  \\\n",
       "0         3   2015-01-01   C        PN_C  15323054356      Unscheduled   \n",
       "1         3   2015-01-01   C        PN_C  15323057041      Unscheduled   \n",
       "2         3   2015-01-03   C        PN_C  15323072973      Unscheduled   \n",
       "3         3   2015-01-07   C        PN_C  15323053425      Unscheduled   \n",
       "4         3   2015-01-07   C        PN_C  15323058236      Unscheduled   \n",
       "\n",
       "   TSI (Flight Hours) at removal  TSN (Flight Hours) at Removal  \n",
       "0                         5819.0                         5819.0  \n",
       "1                         5819.0                         5819.0  \n",
       "2                         3036.0                         3036.0  \n",
       "3                         5614.0                         5614.0  \n",
       "4                         5614.0                         5614.0  "
      ]
     },
     "execution_count": 4,
     "metadata": {},
     "output_type": "execute_result"
    }
   ],
   "source": [
    "Removals.info()\n",
    "Removals.head()"
   ]
  },
  {
   "cell_type": "code",
   "execution_count": 5,
   "metadata": {
    "colab": {
     "base_uri": "https://localhost:8080/",
     "height": 678
    },
    "executionInfo": {
     "elapsed": 5622,
     "status": "ok",
     "timestamp": 1607626136015,
     "user": {
      "displayName": "Nguyen Bao",
      "photoUrl": "https://lh3.googleusercontent.com/a-/AOh14Gjw7M03YsQjaWXfKVf3GckShdGXMown08YblXnIzQ=s64",
      "userId": "00428871316513598663"
     },
     "user_tz": -60
    },
    "id": "Ti5SyeuLYPR8",
    "outputId": "cb6081ab-d3d4-4e9d-ba97-cefb78b847ba"
   },
   "outputs": [
    {
     "name": "stdout",
     "output_type": "stream",
     "text": [
      "<class 'pandas.core.frame.DataFrame'>\n",
      "RangeIndex: 5785 entries, 0 to 5784\n",
      "Data columns (total 8 columns):\n",
      " #   Column                          Non-Null Count  Dtype  \n",
      "---  ------                          --------------  -----  \n",
      " 0   Part Number                     5785 non-null   object \n",
      " 1   Description                     5785 non-null   object \n",
      " 2   Serial Number                   5785 non-null   object \n",
      " 3   Current SN Status Description   5785 non-null   object \n",
      " 4   Company                         5784 non-null   object \n",
      " 5   Hour ageing Since Installation  5745 non-null   float64\n",
      " 6   Hour ageing Since New           5637 non-null   float64\n",
      " 7   Since New Date                  4350 non-null   object \n",
      "dtypes: float64(2), object(6)\n",
      "memory usage: 361.7+ KB\n"
     ]
    },
    {
     "data": {
      "text/html": [
       "<div>\n",
       "<style scoped>\n",
       "    .dataframe tbody tr th:only-of-type {\n",
       "        vertical-align: middle;\n",
       "    }\n",
       "\n",
       "    .dataframe tbody tr th {\n",
       "        vertical-align: top;\n",
       "    }\n",
       "\n",
       "    .dataframe thead th {\n",
       "        text-align: right;\n",
       "    }\n",
       "</style>\n",
       "<table border=\"1\" class=\"dataframe\">\n",
       "  <thead>\n",
       "    <tr style=\"text-align: right;\">\n",
       "      <th></th>\n",
       "      <th>Part Number</th>\n",
       "      <th>Description</th>\n",
       "      <th>Serial Number</th>\n",
       "      <th>Current SN Status Description</th>\n",
       "      <th>Company</th>\n",
       "      <th>Hour ageing Since Installation</th>\n",
       "      <th>Hour ageing Since New</th>\n",
       "      <th>Since New Date</th>\n",
       "    </tr>\n",
       "  </thead>\n",
       "  <tbody>\n",
       "    <tr>\n",
       "      <th>0</th>\n",
       "      <td>A</td>\n",
       "      <td>PN_A</td>\n",
       "      <td>XXXM01-00324</td>\n",
       "      <td>On Aircraft</td>\n",
       "      <td>5</td>\n",
       "      <td>39498.39</td>\n",
       "      <td>54222.37</td>\n",
       "      <td>2007-11-19 00:00:00</td>\n",
       "    </tr>\n",
       "    <tr>\n",
       "      <th>1</th>\n",
       "      <td>A</td>\n",
       "      <td>PN_A</td>\n",
       "      <td>XXXM01-00329</td>\n",
       "      <td>On Aircraft</td>\n",
       "      <td>5</td>\n",
       "      <td>54525.41</td>\n",
       "      <td>54525.41</td>\n",
       "      <td>2007-11-19 00:00:00</td>\n",
       "    </tr>\n",
       "    <tr>\n",
       "      <th>2</th>\n",
       "      <td>A</td>\n",
       "      <td>PN_A</td>\n",
       "      <td>XXXM01-00334</td>\n",
       "      <td>On Aircraft</td>\n",
       "      <td>5</td>\n",
       "      <td>32238.92</td>\n",
       "      <td>52831.08</td>\n",
       "      <td>2008-03-12 00:00:00</td>\n",
       "    </tr>\n",
       "    <tr>\n",
       "      <th>3</th>\n",
       "      <td>A</td>\n",
       "      <td>PN_A</td>\n",
       "      <td>XXXM01-00337</td>\n",
       "      <td>On Aircraft</td>\n",
       "      <td>5</td>\n",
       "      <td>6951.19</td>\n",
       "      <td>52169.46</td>\n",
       "      <td>2006-04-01 00:00:00</td>\n",
       "    </tr>\n",
       "    <tr>\n",
       "      <th>4</th>\n",
       "      <td>A</td>\n",
       "      <td>PN_A</td>\n",
       "      <td>XXXM01-00338</td>\n",
       "      <td>On Aircraft</td>\n",
       "      <td>5</td>\n",
       "      <td>55511.55</td>\n",
       "      <td>55511.55</td>\n",
       "      <td>2008-03-12 00:00:00</td>\n",
       "    </tr>\n",
       "  </tbody>\n",
       "</table>\n",
       "</div>"
      ],
      "text/plain": [
       "  Part Number Description Serial Number Current SN Status Description Company  \\\n",
       "0           A        PN_A  XXXM01-00324                   On Aircraft       5   \n",
       "1           A        PN_A  XXXM01-00329                   On Aircraft       5   \n",
       "2           A        PN_A  XXXM01-00334                   On Aircraft       5   \n",
       "3           A        PN_A  XXXM01-00337                   On Aircraft       5   \n",
       "4           A        PN_A  XXXM01-00338                   On Aircraft       5   \n",
       "\n",
       "   Hour ageing Since Installation  Hour ageing Since New       Since New Date  \n",
       "0                        39498.39               54222.37  2007-11-19 00:00:00  \n",
       "1                        54525.41               54525.41  2007-11-19 00:00:00  \n",
       "2                        32238.92               52831.08  2008-03-12 00:00:00  \n",
       "3                         6951.19               52169.46  2006-04-01 00:00:00  \n",
       "4                        55511.55               55511.55  2008-03-12 00:00:00  "
      ]
     },
     "execution_count": 5,
     "metadata": {},
     "output_type": "execute_result"
    }
   ],
   "source": [
    "SNlist.info()\n",
    "SNlist.head()"
   ]
  },
  {
   "cell_type": "markdown",
   "metadata": {
    "id": "vLvDSuB8YPSB"
   },
   "source": [
    "##### Combining Removals and SNlist :"
   ]
  },
  {
   "cell_type": "code",
   "execution_count": 6,
   "metadata": {
    "executionInfo": {
     "elapsed": 5607,
     "status": "ok",
     "timestamp": 1607626136018,
     "user": {
      "displayName": "Nguyen Bao",
      "photoUrl": "https://lh3.googleusercontent.com/a-/AOh14Gjw7M03YsQjaWXfKVf3GckShdGXMown08YblXnIzQ=s64",
      "userId": "00428871316513598663"
     },
     "user_tz": -60
    },
    "id": "B3oYiGyjYPSB"
   },
   "outputs": [],
   "source": [
    "fail_and_not = SNlist.copy()\n",
    "fail_and_not['failed'] = False\n",
    "fail_and_not[fail_and_not['Current SN Status Description']=='In Outside Repair']=True\n",
    "fail_and_not = fail_and_not.drop(['Description','Current SN Status Description','Since New Date'], axis = 1)\n",
    "fail_and_not = fail_and_not.rename(columns={\"Part Number\": \"PN\", \"Serial Number\": \"SN\", \"Hour ageing Since Installation\": \"TSI\", \"Hour ageing Since New\": \"TSN\"})\n",
    "#dic_PN = {\"C\":\"C\",\"C-new\":\"C\",\"A\":\"A\",\"B\":\"B\"}\n",
    "dic_PN = {\"C\":\"C\",\"C-new\":\"C-new\",\"A\":\"A\",\"B\":\"B\"}\n",
    "fail_and_not[\"PN\"] = fail_and_not.PN.map(dic_PN)\n",
    "\n",
    "fail = Removals[Removals['Maintenance Type']=='Unscheduled']\n",
    "fail = fail.drop(['Removal date','Description','Maintenance Type'], axis=1)\n",
    "fail = fail.rename(columns={\"P/N\": \"PN\", \"S/N\": \"SN\", \"TSI (Flight Hours) at removal\": \"TSI\", \"TSN (Flight Hours) at Removal\": \"TSN\", \"Customer\":\"Company\"})\n",
    "fail['failed'] = True\n",
    "fail['PN'] = fail.PN.map(dic_PN)\n",
    "\n",
    "all_SN = pd.unique(fail_and_not['SN'])\n",
    "SN_Removals = pd.unique(fail['SN'])\n",
    "\n",
    "combined = pd.concat([fail,fail_and_not], ignore_index=True)\n",
    "combined = combined.drop_duplicates(subset=['SN','PN','TSN'], keep='last')"
   ]
  },
  {
   "cell_type": "markdown",
   "metadata": {
    "id": "b3qPYVNYYPSM"
   },
   "source": [
    "##### Data errors treatment"
   ]
  },
  {
   "cell_type": "code",
   "execution_count": 7,
   "metadata": {
    "colab": {
     "base_uri": "https://localhost:8080/",
     "height": 216
    },
    "executionInfo": {
     "elapsed": 5583,
     "status": "ok",
     "timestamp": 1607626136021,
     "user": {
      "displayName": "Nguyen Bao",
      "photoUrl": "https://lh3.googleusercontent.com/a-/AOh14Gjw7M03YsQjaWXfKVf3GckShdGXMown08YblXnIzQ=s64",
      "userId": "00428871316513598663"
     },
     "user_tz": -60
    },
    "id": "d_EY5a2kYPSN",
    "outputId": "16ae5560-52fb-435a-9111-b829d63a829f"
   },
   "outputs": [
    {
     "name": "stdout",
     "output_type": "stream",
     "text": [
      "Unit types : ['C' 'B' 'A' 'C-new']\n"
     ]
    },
    {
     "data": {
      "text/html": [
       "<div>\n",
       "<style scoped>\n",
       "    .dataframe tbody tr th:only-of-type {\n",
       "        vertical-align: middle;\n",
       "    }\n",
       "\n",
       "    .dataframe tbody tr th {\n",
       "        vertical-align: top;\n",
       "    }\n",
       "\n",
       "    .dataframe thead th {\n",
       "        text-align: right;\n",
       "    }\n",
       "</style>\n",
       "<table border=\"1\" class=\"dataframe\">\n",
       "  <thead>\n",
       "    <tr style=\"text-align: right;\">\n",
       "      <th></th>\n",
       "      <th>Company</th>\n",
       "      <th>PN</th>\n",
       "      <th>SN</th>\n",
       "      <th>TSI</th>\n",
       "      <th>TSN</th>\n",
       "      <th>failed</th>\n",
       "    </tr>\n",
       "  </thead>\n",
       "  <tbody>\n",
       "    <tr>\n",
       "      <th>0</th>\n",
       "      <td>3</td>\n",
       "      <td>C</td>\n",
       "      <td>15323054356</td>\n",
       "      <td>5819</td>\n",
       "      <td>5819</td>\n",
       "      <td>True</td>\n",
       "    </tr>\n",
       "    <tr>\n",
       "      <th>1</th>\n",
       "      <td>3</td>\n",
       "      <td>C</td>\n",
       "      <td>15323057041</td>\n",
       "      <td>5819</td>\n",
       "      <td>5819</td>\n",
       "      <td>True</td>\n",
       "    </tr>\n",
       "    <tr>\n",
       "      <th>2</th>\n",
       "      <td>3</td>\n",
       "      <td>C</td>\n",
       "      <td>15323072973</td>\n",
       "      <td>3036</td>\n",
       "      <td>3036</td>\n",
       "      <td>True</td>\n",
       "    </tr>\n",
       "    <tr>\n",
       "      <th>3</th>\n",
       "      <td>3</td>\n",
       "      <td>C</td>\n",
       "      <td>15323053425</td>\n",
       "      <td>5614</td>\n",
       "      <td>5614</td>\n",
       "      <td>True</td>\n",
       "    </tr>\n",
       "    <tr>\n",
       "      <th>4</th>\n",
       "      <td>3</td>\n",
       "      <td>C</td>\n",
       "      <td>15323058236</td>\n",
       "      <td>5614</td>\n",
       "      <td>5614</td>\n",
       "      <td>True</td>\n",
       "    </tr>\n",
       "  </tbody>\n",
       "</table>\n",
       "</div>"
      ],
      "text/plain": [
       "  Company PN           SN   TSI   TSN  failed\n",
       "0       3  C  15323054356  5819  5819    True\n",
       "1       3  C  15323057041  5819  5819    True\n",
       "2       3  C  15323072973  3036  3036    True\n",
       "3       3  C  15323053425  5614  5614    True\n",
       "4       3  C  15323058236  5614  5614    True"
      ]
     },
     "execution_count": 7,
     "metadata": {},
     "output_type": "execute_result"
    }
   ],
   "source": [
    "combined['TSI']=combined['TSI'].replace(np.nan, 0.0)\n",
    "combined['TSN']=combined['TSN'].replace(np.nan, 0.0)\n",
    "combined['Company']=combined['Company'].replace('1', 1)\n",
    "combined['Company']=combined['Company'].replace('3', 3)\n",
    "combined = combined[combined['TSN']!=0]\n",
    "types = pd.unique(combined[\"PN\"])\n",
    "types = types[np.logical_not(pd.isnull(types))]\n",
    "print(\"Unit types :\",types)\n",
    "combined.head()"
   ]
  },
  {
   "cell_type": "code",
   "execution_count": 8,
   "metadata": {
    "colab": {
     "base_uri": "https://localhost:8080/"
    },
    "executionInfo": {
     "elapsed": 5568,
     "status": "ok",
     "timestamp": 1607626136022,
     "user": {
      "displayName": "Nguyen Bao",
      "photoUrl": "https://lh3.googleusercontent.com/a-/AOh14Gjw7M03YsQjaWXfKVf3GckShdGXMown08YblXnIzQ=s64",
      "userId": "00428871316513598663"
     },
     "user_tz": -60
    },
    "id": "BlaeknFwYPSW",
    "outputId": "9889f702-d9d5-4bef-b4d2-c8ee10a63e4e"
   },
   "outputs": [
    {
     "name": "stdout",
     "output_type": "stream",
     "text": [
      "6005 / 7758 distinct number part.\n"
     ]
    }
   ],
   "source": [
    "print(len(set(combined['SN'])),'/',len(combined), 'distinct number part.')"
   ]
  },
  {
   "cell_type": "markdown",
   "metadata": {
    "id": "ChCUMfmsYPTA"
   },
   "source": [
    "## II. Data Analysis"
   ]
  },
  {
   "cell_type": "code",
   "execution_count": 9,
   "metadata": {
    "executionInfo": {
     "elapsed": 5559,
     "status": "ok",
     "timestamp": 1607626136031,
     "user": {
      "displayName": "Nguyen Bao",
      "photoUrl": "https://lh3.googleusercontent.com/a-/AOh14Gjw7M03YsQjaWXfKVf3GckShdGXMown08YblXnIzQ=s64",
      "userId": "00428871316513598663"
     },
     "user_tz": -60
    },
    "id": "4nwPRsmfooGw"
   },
   "outputs": [],
   "source": [
    "data = combined.copy()\n",
    "alpha = 0.05 # coefficient related to confidence levels"
   ]
  },
  {
   "cell_type": "code",
   "execution_count": 10,
   "metadata": {
    "executionInfo": {
     "elapsed": 5552,
     "status": "ok",
     "timestamp": 1607626136033,
     "user": {
      "displayName": "Nguyen Bao",
      "photoUrl": "https://lh3.googleusercontent.com/a-/AOh14Gjw7M03YsQjaWXfKVf3GckShdGXMown08YblXnIzQ=s64",
      "userId": "00428871316513598663"
     },
     "user_tz": -60
    },
    "id": "okEKpwmeDEcO"
   },
   "outputs": [],
   "source": [
    "data_types = {}\n",
    "for typ in types:\n",
    "    data_types[typ] = data[data['PN']==typ]"
   ]
  },
  {
   "cell_type": "code",
   "execution_count": 11,
   "metadata": {
    "executionInfo": {
     "elapsed": 5544,
     "status": "ok",
     "timestamp": 1607626136036,
     "user": {
      "displayName": "Nguyen Bao",
      "photoUrl": "https://lh3.googleusercontent.com/a-/AOh14Gjw7M03YsQjaWXfKVf3GckShdGXMown08YblXnIzQ=s64",
      "userId": "00428871316513598663"
     },
     "user_tz": -60
    },
    "id": "iojAOtejDEcO"
   },
   "outputs": [],
   "source": [
    "def time_sticker(data_type): \n",
    "    T = data_type.TSI.to_numpy(dtype=\"float\")\n",
    "    d = np.array([1 if f == True else 0 for f in data_type.failed])\n",
    "    return T,d"
   ]
  },
  {
   "cell_type": "markdown",
   "metadata": {
    "id": "UUX4gn4pDEcO"
   },
   "source": [
    "### 1. Nelson-Aalen and Kaplan-Meier estimators"
   ]
  },
  {
   "cell_type": "markdown",
   "metadata": {
    "id": "zPK71-HvDEcO"
   },
   "source": [
    "We first consider the Nelson-Aalen estimator and the Kaplan-Meier estimator which will be used to compare with the model we apply for data in each cases.\n",
    "\n",
    "(Note that we need to install the \"lifelines\" package for Python)."
   ]
  },
  {
   "cell_type": "code",
   "execution_count": 12,
   "metadata": {
    "executionInfo": {
     "elapsed": 5537,
     "status": "ok",
     "timestamp": 1607626136038,
     "user": {
      "displayName": "Nguyen Bao",
      "photoUrl": "https://lh3.googleusercontent.com/a-/AOh14Gjw7M03YsQjaWXfKVf3GckShdGXMown08YblXnIzQ=s64",
      "userId": "00428871316513598663"
     },
     "user_tz": -60
    },
    "id": "CCDy8zSBDEcO"
   },
   "outputs": [],
   "source": [
    "from lifelines import KaplanMeierFitter\n",
    "from lifelines import NelsonAalenFitter\n",
    "\n",
    "def NAF(typ,df=data_types): # Nelson_Aalen model\n",
    "    data_type = df[typ]\n",
    "    T,d=time_sticker(data_type)\n",
    "    label = \"NA-estimator of type \" + typ\n",
    "    return NelsonAalenFitter().fit(T,d,alpha=alpha,label=label)\n",
    "\n",
    "def KMF(typ,df=data_types): # Kaplan_meier model\n",
    "    data_type = df[typ]\n",
    "    T,d=time_sticker(data_type)\n",
    "    label = \"KM-estimator of type \" + typ\n",
    "    return KaplanMeierFitter().fit(T,d,alpha=alpha,label=label)"
   ]
  },
  {
   "cell_type": "code",
   "execution_count": 13,
   "metadata": {
    "colab": {
     "base_uri": "https://localhost:8080/",
     "height": 281
    },
    "executionInfo": {
     "elapsed": 6134,
     "status": "ok",
     "timestamp": 1607626136648,
     "user": {
      "displayName": "Nguyen Bao",
      "photoUrl": "https://lh3.googleusercontent.com/a-/AOh14Gjw7M03YsQjaWXfKVf3GckShdGXMown08YblXnIzQ=s64",
      "userId": "00428871316513598663"
     },
     "user_tz": -60
    },
    "id": "IzrzgS8XDEcP",
    "outputId": "8d5f6252-361a-4ad3-ee2d-89f51eeec153"
   },
   "outputs": [
    {
     "data": {
      "image/png": "[encoded data removed]",
      "text/plain": [
       "<Figure size 432x288 with 1 Axes>"
      ]
     },
     "metadata": {
      "needs_background": "light"
     },
     "output_type": "display_data"
    }
   ],
   "source": [
    "for typ in types:\n",
    "    NAF(typ).plot(ci_show=True)"
   ]
  },
  {
   "cell_type": "code",
   "execution_count": 14,
   "metadata": {
    "colab": {
     "base_uri": "https://localhost:8080/",
     "height": 279
    },
    "executionInfo": {
     "elapsed": 6560,
     "status": "ok",
     "timestamp": 1607626137099,
     "user": {
      "displayName": "Nguyen Bao",
      "photoUrl": "https://lh3.googleusercontent.com/a-/AOh14Gjw7M03YsQjaWXfKVf3GckShdGXMown08YblXnIzQ=s64",
      "userId": "00428871316513598663"
     },
     "user_tz": -60
    },
    "id": "z8l-ULRgDEcQ",
    "outputId": "c9bf9932-44eb-4493-e531-3d6c315534e6"
   },
   "outputs": [
    {
     "data": {
      "image/png": "[encoded data removed]",
      "text/plain": [
       "<Figure size 432x288 with 1 Axes>"
      ]
     },
     "metadata": {
      "needs_background": "light"
     },
     "output_type": "display_data"
    }
   ],
   "source": [
    "for typ in types:\n",
    "    KMF(typ).plot(ci_show=True)"
   ]
  },
  {
   "cell_type": "markdown",
   "metadata": {
    "id": "OcR4omdTDEcQ"
   },
   "source": [
    "### 2. Parametric models"
   ]
  },
  {
   "cell_type": "markdown",
   "metadata": {
    "id": "4Z4G_-fsMO4r"
   },
   "source": [
    "Find best parametric model"
   ]
  },
  {
   "cell_type": "code",
   "execution_count": 15,
   "metadata": {
    "executionInfo": {
     "elapsed": 6547,
     "status": "ok",
     "timestamp": 1607626137104,
     "user": {
      "displayName": "Nguyen Bao",
      "photoUrl": "https://lh3.googleusercontent.com/a-/AOh14Gjw7M03YsQjaWXfKVf3GckShdGXMown08YblXnIzQ=s64",
      "userId": "00428871316513598663"
     },
     "user_tz": -60
    },
    "id": "6arhxuL2gdaR"
   },
   "outputs": [],
   "source": [
    "from lifelines.utils import find_best_parametric_model\n",
    "\n",
    "def best_parametric_model(typ,df=data_types): # find the best parametric model which bases in AIC (or BIC as we can change scoring_method=\"BIC\") method.\n",
    "    data_type = df[typ]\n",
    "    T,d=time_sticker(data_type)\n",
    "    T[T==0]=1e-6 # Avoid divising by zero.\n",
    "    tau=1-sum(d)/len(d)\n",
    "    if tau>0.9:\n",
    "        warnings.warn(\"There are more 90% censored data in type {} data. The applied model might not be correct! If the algorithms does not stop, please remove that part number.\".format(str(typ)))\n",
    "    best_model = find_best_parametric_model(T, d, scoring_method=\"AIC\")[0]\n",
    "    return best_model"
   ]
  },
  {
   "cell_type": "markdown",
   "metadata": {
    "id": "x1K-hExkMdIP"
   },
   "source": [
    "Plotting best parametric model and KM-estimator:"
   ]
  },
  {
   "cell_type": "code",
   "execution_count": 16,
   "metadata": {
    "executionInfo": {
     "elapsed": 6538,
     "status": "ok",
     "timestamp": 1607626137105,
     "user": {
      "displayName": "Nguyen Bao",
      "photoUrl": "https://lh3.googleusercontent.com/a-/AOh14Gjw7M03YsQjaWXfKVf3GckShdGXMown08YblXnIzQ=s64",
      "userId": "00428871316513598663"
     },
     "user_tz": -60
    },
    "id": "K6XWvvahMnv7"
   },
   "outputs": [],
   "source": [
    "def R_plot(typ): # We visualize if the best parametric model can fit the data of type \"typ\"\n",
    "    m = best_parametric_model(typ)\n",
    "    m.survival_function_.plot()\n",
    "    KMF(typ).plot()\n",
    "    plt.ylabel('Reliability function')\n",
    "    plt.xlabel('Timeline')\n",
    "    plt.title('Type ' + typ + ' data')"
   ]
  },
  {
   "cell_type": "code",
   "execution_count": 17,
   "metadata": {
    "colab": {
     "base_uri": "https://localhost:8080/",
     "height": 1000
    },
    "executionInfo": {
     "elapsed": 94316,
     "status": "ok",
     "timestamp": 1607626224895,
     "user": {
      "displayName": "Nguyen Bao",
      "photoUrl": "https://lh3.googleusercontent.com/a-/AOh14Gjw7M03YsQjaWXfKVf3GckShdGXMown08YblXnIzQ=s64",
      "userId": "00428871316513598663"
     },
     "user_tz": -60
    },
    "id": "Q8F8IlXOMs65",
    "outputId": "583ca8a4-3741-4bdb-ee99-0940d493d471"
   },
   "outputs": [
    {
     "name": "stderr",
     "output_type": "stream",
     "text": [
      "<ipython-input-15-787adfbe1e13>:9: UserWarning: There are more 90% censored data in type C-new data. The applied model might not be correct! If the algorithms does not stop, please remove that part number.\n",
      "  warnings.warn(\"There are more 90% censored data in type {} data. The applied model might not be correct! If the algorithms does not stop, please remove that part number.\".format(str(typ)))\n"
     ]
    },
    {
     "data": {
      "image/png": "[encoded data removed]",
      "text/plain": [
       "<Figure size 432x288 with 1 Axes>"
      ]
     },
     "metadata": {
      "needs_background": "light"
     },
     "output_type": "display_data"
    },
    {
     "data": {
      "image/png": "[encoded data removed]",
      "text/plain": [
       "<Figure size 432x288 with 1 Axes>"
      ]
     },
     "metadata": {
      "needs_background": "light"
     },
     "output_type": "display_data"
    },
    {
     "data": {
      "image/png": "[encoded data removed]",
      "text/plain": [
       "<Figure size 432x288 with 1 Axes>"
      ]
     },
     "metadata": {
      "needs_background": "light"
     },
     "output_type": "display_data"
    },
    {
     "data": {
      "image/png": "[encoded data removed]",
      "text/plain": [
       "<Figure size 432x288 with 1 Axes>"
      ]
     },
     "metadata": {
      "needs_background": "light"
     },
     "output_type": "display_data"
    }
   ],
   "source": [
    "for typ in types:\n",
    "    R_plot(typ)"
   ]
  },
  {
   "cell_type": "markdown",
   "metadata": {
    "id": "nPXidDEigfpy"
   },
   "source": [
    "## III. Simulation and stock optimization "
   ]
  },
  {
   "cell_type": "code",
   "execution_count": 18,
   "metadata": {
    "colab": {
     "base_uri": "https://localhost:8080/",
     "height": 246
    },
    "executionInfo": {
     "elapsed": 94790,
     "status": "ok",
     "timestamp": 1607626225389,
     "user": {
      "displayName": "Nguyen Bao",
      "photoUrl": "https://lh3.googleusercontent.com/a-/AOh14Gjw7M03YsQjaWXfKVf3GckShdGXMown08YblXnIzQ=s64",
      "userId": "00428871316513598663"
     },
     "user_tz": -60
    },
    "id": "y03SWq7ATk8x",
    "outputId": "0c9093d5-7850-4e23-beaa-34a4393275d7"
   },
   "outputs": [
    {
     "name": "stdout",
     "output_type": "stream",
     "text": [
      "List of companies : [1 2 3 4 5 6]\n"
     ]
    },
    {
     "data": {
      "text/html": [
       "<div>\n",
       "<style scoped>\n",
       "    .dataframe tbody tr th:only-of-type {\n",
       "        vertical-align: middle;\n",
       "    }\n",
       "\n",
       "    .dataframe tbody tr th {\n",
       "        vertical-align: top;\n",
       "    }\n",
       "\n",
       "    .dataframe thead th {\n",
       "        text-align: right;\n",
       "    }\n",
       "</style>\n",
       "<table border=\"1\" class=\"dataframe\">\n",
       "  <thead>\n",
       "    <tr style=\"text-align: right;\">\n",
       "      <th></th>\n",
       "      <th>Company</th>\n",
       "      <th>Number of aircraft</th>\n",
       "      <th>FH per aircraft per month</th>\n",
       "      <th>End of contract</th>\n",
       "    </tr>\n",
       "  </thead>\n",
       "  <tbody>\n",
       "    <tr>\n",
       "      <th>0</th>\n",
       "      <td>1</td>\n",
       "      <td>6</td>\n",
       "      <td>415</td>\n",
       "      <td>2024-12-01</td>\n",
       "    </tr>\n",
       "    <tr>\n",
       "      <th>1</th>\n",
       "      <td>2</td>\n",
       "      <td>2</td>\n",
       "      <td>310</td>\n",
       "      <td>2030-12-01</td>\n",
       "    </tr>\n",
       "    <tr>\n",
       "      <th>2</th>\n",
       "      <td>3</td>\n",
       "      <td>12</td>\n",
       "      <td>350</td>\n",
       "      <td>2026-12-01</td>\n",
       "    </tr>\n",
       "    <tr>\n",
       "      <th>3</th>\n",
       "      <td>4</td>\n",
       "      <td>5</td>\n",
       "      <td>240</td>\n",
       "      <td>2023-12-01</td>\n",
       "    </tr>\n",
       "    <tr>\n",
       "      <th>4</th>\n",
       "      <td>5</td>\n",
       "      <td>19</td>\n",
       "      <td>375</td>\n",
       "      <td>2026-12-01</td>\n",
       "    </tr>\n",
       "    <tr>\n",
       "      <th>5</th>\n",
       "      <td>6</td>\n",
       "      <td>6</td>\n",
       "      <td>350</td>\n",
       "      <td>2027-12-01</td>\n",
       "    </tr>\n",
       "  </tbody>\n",
       "</table>\n",
       "</div>"
      ],
      "text/plain": [
       "   Company  Number of aircraft  FH per aircraft per month End of contract\n",
       "0        1                   6                        415      2024-12-01\n",
       "1        2                   2                        310      2030-12-01\n",
       "2        3                  12                        350      2026-12-01\n",
       "3        4                   5                        240      2023-12-01\n",
       "4        5                  19                        375      2026-12-01\n",
       "5        6                   6                        350      2027-12-01"
      ]
     },
     "execution_count": 18,
     "metadata": {},
     "output_type": "execute_result"
    }
   ],
   "source": [
    "airlines = pd.read_excel(file_location, sheet_name='Airlines')\n",
    "list_company = pd.unique(airlines[\"Company\"])\n",
    "list_company = list_company[np.logical_not(pd.isnull(list_company))]\n",
    "print(\"List of companies :\",list_company)\n",
    "airlines"
   ]
  },
  {
   "cell_type": "code",
   "execution_count": 19,
   "metadata": {
    "colab": {
     "base_uri": "https://localhost:8080/",
     "height": 168
    },
    "executionInfo": {
     "elapsed": 95720,
     "status": "ok",
     "timestamp": 1607626226338,
     "user": {
      "displayName": "Nguyen Bao",
      "photoUrl": "https://lh3.googleusercontent.com/a-/AOh14Gjw7M03YsQjaWXfKVf3GckShdGXMown08YblXnIzQ=s64",
      "userId": "00428871316513598663"
     },
     "user_tz": -60
    },
    "id": "D7Y-EwSQUszt",
    "outputId": "df4ec7a0-dca8-4196-f390-5b0112d0a063"
   },
   "outputs": [
    {
     "data": {
      "text/html": [
       "<div>\n",
       "<style scoped>\n",
       "    .dataframe tbody tr th:only-of-type {\n",
       "        vertical-align: middle;\n",
       "    }\n",
       "\n",
       "    .dataframe tbody tr th {\n",
       "        vertical-align: top;\n",
       "    }\n",
       "\n",
       "    .dataframe thead th {\n",
       "        text-align: right;\n",
       "    }\n",
       "</style>\n",
       "<table border=\"1\" class=\"dataframe\">\n",
       "  <thead>\n",
       "    <tr style=\"text-align: right;\">\n",
       "      <th></th>\n",
       "      <th>Part Number</th>\n",
       "      <th>QPA</th>\n",
       "      <th>Unnamed: 2</th>\n",
       "    </tr>\n",
       "  </thead>\n",
       "  <tbody>\n",
       "    <tr>\n",
       "      <th>0</th>\n",
       "      <td>A</td>\n",
       "      <td>60</td>\n",
       "      <td>NaN</td>\n",
       "    </tr>\n",
       "    <tr>\n",
       "      <th>1</th>\n",
       "      <td>B</td>\n",
       "      <td>4</td>\n",
       "      <td>NaN</td>\n",
       "    </tr>\n",
       "    <tr>\n",
       "      <th>2</th>\n",
       "      <td>C</td>\n",
       "      <td>224</td>\n",
       "      <td>Warning: 224 is the QPA of P/N C or P/N C-new</td>\n",
       "    </tr>\n",
       "    <tr>\n",
       "      <th>3</th>\n",
       "      <td>C-new</td>\n",
       "      <td>224</td>\n",
       "      <td>NaN</td>\n",
       "    </tr>\n",
       "  </tbody>\n",
       "</table>\n",
       "</div>"
      ],
      "text/plain": [
       "  Part Number  QPA                                     Unnamed: 2\n",
       "0           A   60                                            NaN\n",
       "1           B    4                                            NaN\n",
       "2           C  224  Warning: 224 is the QPA of P/N C or P/N C-new\n",
       "3       C-new  224                                            NaN"
      ]
     },
     "execution_count": 19,
     "metadata": {},
     "output_type": "execute_result"
    }
   ],
   "source": [
    "PN_table = pd.read_excel(file_location, sheet_name='PN')\n",
    "PN_table"
   ]
  },
  {
   "cell_type": "markdown",
   "metadata": {
    "id": "YKPtGesgg0Fk"
   },
   "source": [
    "Simulation from parametric law\n",
    "\n",
    "The idea is: for each individual SN, we simulate the number of time it will fail till the end of contract, then for large number of SN, we repeat that simulation for each individual to calculate the sum."
   ]
  },
  {
   "cell_type": "markdown",
   "metadata": {
    "id": "2IoXZ92Jg_Az"
   },
   "source": [
    "Simulation from kaplan Meier"
   ]
  },
  {
   "cell_type": "code",
   "execution_count": 20,
   "metadata": {
    "executionInfo": {
     "elapsed": 95709,
     "status": "ok",
     "timestamp": 1607626226343,
     "user": {
      "displayName": "Nguyen Bao",
      "photoUrl": "https://lh3.googleusercontent.com/a-/AOh14Gjw7M03YsQjaWXfKVf3GckShdGXMown08YblXnIzQ=s64",
      "userId": "00428871316513598663"
     },
     "user_tz": -60
    },
    "id": "KJEX-7kpvfFF"
   },
   "outputs": [],
   "source": [
    "def inverse_sampling(kapmei, timeline):\n",
    "    u = np.random.uniform()\n",
    "    if u < kapmei[-1]:\n",
    "        T = -1\n",
    "    elif u > kapmei[0]:\n",
    "        T = 0\n",
    "    else:\n",
    "        arg = np.argmax(kapmei<=u)-1\n",
    "        T = timeline[arg]+(timeline[arg+1]-timeline[arg])*(kapmei[arg]-u)/(kapmei[arg]-kapmei[arg+1])\n",
    "    return T\n",
    "\n",
    "def conditional_inverse_sampling(kapmei, timeline, TSI):\n",
    "    T = 0\n",
    "    while T<=TSI and T>=0:\n",
    "        T = inverse_sampling(kapmei, timeline)\n",
    "    return T\n",
    "\n",
    "def num_of_fails_indivi_kapmei(TSI, T, kapmei, timeline):    \n",
    "    t = conditional_inverse_sampling(kapmei, timeline, TSI)\n",
    "    if t <= T:\n",
    "        n_fails = 0 \n",
    "        sum_t = (t==-1)*np.max(timeline) + (t!=-1)*t\n",
    "        while sum_t <= T:\n",
    "            t = inverse_sampling(kapmei, timeline)\n",
    "            sum_t += (t==-1)*np.max(timeline) + (t!=-1)*t\n",
    "            n_fails += 1\n",
    "        return n_fails\n",
    "    else: \n",
    "        return 0\n",
    "\n",
    "def num_of_fails_list(TSI_list, T, kapmei, timeline):\n",
    "    n_fails_list = []\n",
    "    for TSI in TSI_list:\n",
    "        n_fails = num_of_fails_indivi_kapmei(TSI, T, kapmei, timeline)\n",
    "        n_fails_list += [n_fails]\n",
    "    total_fails = np.sum(n_fails_list)\n",
    "    return total_fails"
   ]
  },
  {
   "cell_type": "markdown",
   "metadata": {
    "id": "sbYQTFj4sg2i"
   },
   "source": [
    "Estimate stock:"
   ]
  },
  {
   "cell_type": "code",
   "execution_count": 21,
   "metadata": {
    "executionInfo": {
     "elapsed": 95700,
     "status": "ok",
     "timestamp": 1607626226344,
     "user": {
      "displayName": "Nguyen Bao",
      "photoUrl": "https://lh3.googleusercontent.com/a-/AOh14Gjw7M03YsQjaWXfKVf3GckShdGXMown08YblXnIzQ=s64",
      "userId": "00428871316513598663"
     },
     "user_tz": -60
    },
    "id": "WIv2Yr6RRLxv"
   },
   "outputs": [],
   "source": [
    "import datetime as dt\n",
    "\n",
    "def Estimated_Stock(company,typ,year,month,df=data,MC=200):\n",
    "# MC is number iteration of Monte-Carlo\n",
    "    survival = KMF(typ).survival_function_.to_numpy()\n",
    "    timeline = KMF(typ).timeline\n",
    "    \n",
    "    FH_per_month = float(airlines[airlines['Company']==company]['FH per aircraft per month'])\n",
    "    End = dt.datetime(year, month, 1)\n",
    "    Today = dt.datetime.now()\n",
    "    FH_till_end = FH_per_month*((End.year-Today.year)*12+End.month-Today.month)\n",
    "    \n",
    "    if FH_till_end>np.max(timeline):\n",
    "        warnings.warn(\"Kaplan-Meier model of type {} data can not estimate the stock until that day. We apply the best parametric model to predict in this case.\".format(str(typ)))\n",
    "        survival = best_parametric_model(typ).survival_function_.to_numpy()\n",
    "        timeline = best_parametric_model(typ).timeline\n",
    "\n",
    "    dat = df[df.Company==company]\n",
    "    dat = dat[dat.PN==typ]\n",
    "    total = len(dat.TSI)\n",
    "    num_not_failed = total-sum(dat.failed)\n",
    "  \n",
    "    list_TSI = dat[dat.failed==False].TSI\n",
    "\n",
    "    stock = 0\n",
    "    y=[]\n",
    "    for i in range(MC):\n",
    "        a = num_of_fails_list(list_TSI,FH_till_end,survival,timeline)\n",
    "        y += [a]\n",
    "        stock += a\n",
    "    stock = stock/MC  \n",
    "    return stock, (num_not_failed,total), y"
   ]
  },
  {
   "cell_type": "markdown",
   "metadata": {
    "id": "-kahoxyorL_C"
   },
   "source": [
    "Confidence Interval by Central Limit Theorem:"
   ]
  },
  {
   "cell_type": "code",
   "execution_count": 22,
   "metadata": {
    "executionInfo": {
     "elapsed": 95683,
     "status": "ok",
     "timestamp": 1607626226345,
     "user": {
      "displayName": "Nguyen Bao",
      "photoUrl": "https://lh3.googleusercontent.com/a-/AOh14Gjw7M03YsQjaWXfKVf3GckShdGXMown08YblXnIzQ=s64",
      "userId": "00428871316513598663"
     },
     "user_tz": -60
    },
    "id": "RPKbAlM5gfSo"
   },
   "outputs": [],
   "source": [
    "def CI(Y,alpha=alpha):\n",
    "    n=len(Y)\n",
    "    mu=np.mean(Y)\n",
    "    std=np.std(Y)\n",
    "    q=norm.ppf(1-alpha/2, loc=0, scale=1)\n",
    "    S=std*q/np.sqrt(n)\n",
    "    low=np.max([0.0,mu-S])\n",
    "    high=mu+S\n",
    "    return (low,high)"
   ]
  },
  {
   "cell_type": "markdown",
   "metadata": {
    "id": "OGa3ctvzsnFu"
   },
   "source": [
    "Visualize results:"
   ]
  },
  {
   "cell_type": "code",
   "execution_count": 27,
   "metadata": {
    "executionInfo": {
     "elapsed": 95668,
     "status": "ok",
     "timestamp": 1607626226346,
     "user": {
      "displayName": "Nguyen Bao",
      "photoUrl": "https://lh3.googleusercontent.com/a-/AOh14Gjw7M03YsQjaWXfKVf3GckShdGXMown08YblXnIzQ=s64",
      "userId": "00428871316513598663"
     },
     "user_tz": -60
    },
    "id": "X_ZXlE7egfJ0"
   },
   "outputs": [],
   "source": [
    "def Result_display(company,unit_type,year,month,alpha=alpha):\n",
    "    s,t,y = Estimated_Stock(company,unit_type,year,month)\n",
    "    print(\"There are %d/%d units of type %s of company %d that is not failed at the moment.\"%(t[0],t[1],unit_type,company))\n",
    "    print(\"Estimated number of type %s unit in stock for company %d until %d/%d:\"%(unit_type,company,month,year), s)\n",
    "    ci=CI(y) #Confidence interval\n",
    "    print(\"with confidence interval (%f,%f) at level %0.2f\"%(ci[0],ci[1],100-100*alpha), end=\"\")\n",
    "    print(\"%.\")\n",
    "    print(\"The simulation results are in (%d,%d).\"%(np.min(y),np.max(y)))\n",
    "    plt.hist(y, bins = np.arange(int(np.min(y)-1),int(np.max(y)+1),1))\n",
    "    plt.ylabel('Frequency')\n",
    "    plt.xlabel('Estimated number')\n",
    "    plt.show()\n",
    "    y_sum = np.cumsum(y)\n",
    "    moyen = y_sum/np.arange(1, len(y)+1,1)\n",
    "    plt.plot(moyen)\n",
    "    plt.ylabel('Estimated number')\n",
    "    plt.xlabel('Monte-Carlo iteration')\n",
    "    plt.show()"
   ]
  },
  {
   "cell_type": "code",
   "execution_count": 29,
   "metadata": {},
   "outputs": [
    {
     "name": "stdout",
     "output_type": "stream",
     "text": [
      "There are 361/377 units of type A of company 1 that is not failed at the moment.\n",
      "Estimated number of type A unit in stock for company 1 until 6/2030: 98.76\n",
      "with confidence interval (97.470719,100.049281) at level 95.00%.\n",
      "The simulation results are in (71,126).\n"
     ]
    },
    {
     "data": {
      "image/png": "[encoded data removed]",
      "text/plain": [
       "<Figure size 432x288 with 1 Axes>"
      ]
     },
     "metadata": {
      "needs_background": "light"
     },
     "output_type": "display_data"
    },
    {
     "data": {
      "image/png": "[encoded data removed]",
      "text/plain": [
       "<Figure size 432x288 with 1 Axes>"
      ]
     },
     "metadata": {
      "needs_background": "light"
     },
     "output_type": "display_data"
    }
   ],
   "source": [
    "company=1         #INTEGER\n",
    "unit_type='A' #STRING\n",
    "year=2030         #INTEGER\n",
    "month=6           #INTEGER\n",
    "\n",
    "Result_display(company,unit_type,year,month)"
   ]
  },
  {
   "cell_type": "code",
   "execution_count": 30,
   "metadata": {
    "colab": {
     "base_uri": "https://localhost:8080/",
     "height": 595
    },
    "executionInfo": {
     "elapsed": 102427,
     "status": "ok",
     "timestamp": 1607626233122,
     "user": {
      "displayName": "Nguyen Bao",
      "photoUrl": "https://lh3.googleusercontent.com/a-/AOh14Gjw7M03YsQjaWXfKVf3GckShdGXMown08YblXnIzQ=s64",
      "userId": "00428871316513598663"
     },
     "user_tz": -60
    },
    "id": "SnDp5ybAsTX7",
    "outputId": "07b7109c-8a61-48cd-8fb6-54e7360cf56c"
   },
   "outputs": [
    {
     "name": "stderr",
     "output_type": "stream",
     "text": [
      "<ipython-input-21-4c45b32947cd>:14: UserWarning: Kaplan-Meier model of type B data can not estimate the stock until that day. We apply the best parametric model to predict in this case.\n",
      "  warnings.warn(\"Kaplan-Meier model of type {} data can not estimate the stock until that day. We apply the best parametric model to predict in this case.\".format(str(typ)))\n"
     ]
    },
    {
     "name": "stdout",
     "output_type": "stream",
     "text": [
      "There are 39/43 units of type B of company 3 that is not failed at the moment.\n",
      "Estimated number of type B unit in stock for company 3 until 6/2030: 107.28\n",
      "with confidence interval (106.464179,108.095821) at level 95.00%.\n",
      "The simulation results are in (94,123).\n"
     ]
    },
    {
     "data": {
      "image/png": "[encoded data removed]",
      "text/plain": [
       "<Figure size 432x288 with 1 Axes>"
      ]
     },
     "metadata": {
      "needs_background": "light"
     },
     "output_type": "display_data"
    },
    {
     "data": {
      "image/png": "[encoded data removed]",
      "text/plain": [
       "<Figure size 432x288 with 1 Axes>"
      ]
     },
     "metadata": {
      "needs_background": "light"
     },
     "output_type": "display_data"
    }
   ],
   "source": [
    "company=3         #INTEGER\n",
    "unit_type='B' #STRING\n",
    "year=2030         #INTEGER\n",
    "month=6           #INTEGER\n",
    "\n",
    "Result_display(company,unit_type,year,month)"
   ]
  },
  {
   "cell_type": "code",
   "execution_count": 31,
   "metadata": {},
   "outputs": [
    {
     "name": "stderr",
     "output_type": "stream",
     "text": [
      "<ipython-input-21-4c45b32947cd>:14: UserWarning: Kaplan-Meier model of type C-new data can not estimate the stock until that day. We apply the best parametric model to predict in this case.\n",
      "  warnings.warn(\"Kaplan-Meier model of type {} data can not estimate the stock until that day. We apply the best parametric model to predict in this case.\".format(str(typ)))\n",
      "<ipython-input-15-787adfbe1e13>:9: UserWarning: There are more 90% censored data in type C-new data. The applied model might not be correct! If the algorithms does not stop, please remove that part number.\n",
      "  warnings.warn(\"There are more 90% censored data in type {} data. The applied model might not be correct! If the algorithms does not stop, please remove that part number.\".format(str(typ)))\n",
      "<ipython-input-15-787adfbe1e13>:9: UserWarning: There are more 90% censored data in type C-new data. The applied model might not be correct! If the algorithms does not stop, please remove that part number.\n",
      "  warnings.warn(\"There are more 90% censored data in type {} data. The applied model might not be correct! If the algorithms does not stop, please remove that part number.\".format(str(typ)))\n"
     ]
    },
    {
     "name": "stdout",
     "output_type": "stream",
     "text": [
      "There are 835/883 units of type C-new of company 3 that is not failed at the moment.\n",
      "Estimated number of type C-new unit in stock for company 3 until 6/2030: 913.18\n",
      "with confidence interval (911.801060,914.558940) at level 95.00%.\n",
      "The simulation results are in (891,942).\n"
     ]
    },
    {
     "data": {
      "image/png": "[encoded data removed]",
      "text/plain": [
       "<Figure size 432x288 with 1 Axes>"
      ]
     },
     "metadata": {
      "needs_background": "light"
     },
     "output_type": "display_data"
    },
    {
     "data": {
      "image/png": "[encoded data removed]",
      "text/plain": [
       "<Figure size 432x288 with 1 Axes>"
      ]
     },
     "metadata": {
      "needs_background": "light"
     },
     "output_type": "display_data"
    }
   ],
   "source": [
    "company=3         #INTEGER\n",
    "unit_type='C-new' #STRING\n",
    "year=2030         #INTEGER\n",
    "month=6           #INTEGER\n",
    "\n",
    "Result_display(company,unit_type,year,month)"
   ]
  },
  {
   "cell_type": "code",
   "execution_count": null,
   "metadata": {
    "executionInfo": {
     "elapsed": 102423,
     "status": "ok",
     "timestamp": 1607626233126,
     "user": {
      "displayName": "Nguyen Bao",
      "photoUrl": "https://lh3.googleusercontent.com/a-/AOh14Gjw7M03YsQjaWXfKVf3GckShdGXMown08YblXnIzQ=s64",
      "userId": "00428871316513598663"
     },
     "user_tz": -60
    },
    "id": "NOKsgGwlRFNf"
   },
   "outputs": [],
   "source": []
  },
  {
   "cell_type": "code",
   "execution_count": null,
   "metadata": {
    "executionInfo": {
     "elapsed": 102420,
     "status": "ok",
     "timestamp": 1607626233129,
     "user": {
      "displayName": "Nguyen Bao",
      "photoUrl": "https://lh3.googleusercontent.com/a-/AOh14Gjw7M03YsQjaWXfKVf3GckShdGXMown08YblXnIzQ=s64",
      "userId": "00428871316513598663"
     },
     "user_tz": -60
    },
    "id": "kYQ2dhOyRFRF"
   },
   "outputs": [],
   "source": []
  },
  {
   "cell_type": "code",
   "execution_count": null,
   "metadata": {
    "executionInfo": {
     "elapsed": 102415,
     "status": "ok",
     "timestamp": 1607626233130,
     "user": {
      "displayName": "Nguyen Bao",
      "photoUrl": "https://lh3.googleusercontent.com/a-/AOh14Gjw7M03YsQjaWXfKVf3GckShdGXMown08YblXnIzQ=s64",
      "userId": "00428871316513598663"
     },
     "user_tz": -60
    },
    "id": "zvFm4mIVRFXq"
   },
   "outputs": [],
   "source": []
  },
  {
   "cell_type": "code",
   "execution_count": null,
   "metadata": {
    "executionInfo": {
     "elapsed": 102410,
     "status": "ok",
     "timestamp": 1607626233132,
     "user": {
      "displayName": "Nguyen Bao",
      "photoUrl": "https://lh3.googleusercontent.com/a-/AOh14Gjw7M03YsQjaWXfKVf3GckShdGXMown08YblXnIzQ=s64",
      "userId": "00428871316513598663"
     },
     "user_tz": -60
    },
    "id": "wyKFjUUxRFbH"
   },
   "outputs": [],
   "source": []
  },
  {
   "cell_type": "code",
   "execution_count": null,
   "metadata": {
    "executionInfo": {
     "elapsed": 102406,
     "status": "ok",
     "timestamp": 1607626233135,
     "user": {
      "displayName": "Nguyen Bao",
      "photoUrl": "https://lh3.googleusercontent.com/a-/AOh14Gjw7M03YsQjaWXfKVf3GckShdGXMown08YblXnIzQ=s64",
      "userId": "00428871316513598663"
     },
     "user_tz": -60
    },
    "id": "FWDpGHPSDEcb"
   },
   "outputs": [],
   "source": []
  },
  {
   "cell_type": "markdown",
   "metadata": {
    "id": "m04mFKBhDEcS"
   },
   "source": [
    "Test model using Kolmogorov-Smirnov, Kramer-von Mise"
   ]
  },
  {
   "cell_type": "code",
   "execution_count": 26,
   "metadata": {
    "executionInfo": {
     "elapsed": 102389,
     "status": "ok",
     "timestamp": 1607626233137,
     "user": {
      "displayName": "Nguyen Bao",
      "photoUrl": "https://lh3.googleusercontent.com/a-/AOh14Gjw7M03YsQjaWXfKVf3GckShdGXMown08YblXnIzQ=s64",
      "userId": "00428871316513598663"
     },
     "user_tz": -60
    },
    "id": "BnjzWfbYDEcS"
   },
   "outputs": [],
   "source": [
    "# def weib_R(x, alpha, beta):\n",
    "#     return np.exp(-np.power(x/alpha, beta))\n",
    "\n",
    "# def expo_R(x, lamb):\n",
    "#     return np.exp(-1/lamb*x)\n",
    "\n",
    "# def lognor_R(x, mu, std):\n",
    "#     return 1-lognorm.cdf(x,std)\n",
    "\n",
    "# def KStest(kap_meier, R, **args):\n",
    "#     x1 = kap_meier.timeline\n",
    "#     y1 = kap_meier.survival_function_.to_numpy().reshape((len(x1)))\n",
    "#     y2 = R(x1, **args)\n",
    "#     stat = np.max(np.abs(y1-y2))\n",
    "#     prob = distributions.kstwobign.sf(stat*np.sqrt(len(x1)))\n",
    "#     return stat, prob\n",
    "\n",
    "# class cvm_unif_gen(rv_continuous):\n",
    "#     def _argcheck(self, samples):\n",
    "#         return samples > 0\n",
    "\n",
    "#     @vectorize(otypes=(float,))\n",
    "#     def _cdf(self, statistic, samples):\n",
    "#         low = 1 / (12 * samples)\n",
    "#         # Basic bounds.\n",
    "#         if statistic <= low:\n",
    "#             return 0.\n",
    "#         if statistic >= samples / 3:\n",
    "#             return 1.\n",
    "#         # From the geometric approach of Csorgo and Faraway.\n",
    "#         if statistic <= low + 1 / (4 * samples ** 2):\n",
    "#             return (gamma(samples + 1) / gamma(samples / 2 + 1) *\n",
    "#                                     (pi * (statistic - low)) ** (samples / 2))\n",
    "#         # Asymptotic distribution with a one-term correction.\n",
    "#         return cvm_unif_inf(statistic) + cvm_unif_fix1(statistic) / samples\n",
    "\n",
    "\n",
    "# cvm_unif = cvm_unif_gen(a=0, name='cvm-unif', shapes='samples')\n",
    "\n",
    "# inf_ks41 = 4 * arange(11) + 1\n",
    "# inf_args = inf_ks41 ** 2 / 16\n",
    "# inf_cs = (inf_ks41 ** .5 * gamma(varange(.5, 11)) /\n",
    "#                                         (pi ** 1.5 * gamma(varange(1, 11))))\n",
    "\n",
    "\n",
    "# def cvm_unif_inf(statistic):\n",
    "#     \"\"\"\n",
    "#     Calculates the limiting distribution of the Cramer-von Mises statistic.\n",
    "\n",
    "#     After the second line of equation 1.3 from the Csorgo and Faraway paper.\n",
    "#     \"\"\"\n",
    "#     args = inf_args / statistic\n",
    "#     return (inf_cs * exp(-args) * kv(.25, args)).sum() / statistic ** .5\n",
    "\n",
    "# fix1_args = (4 * (varange((.5, 1., 1.5), 21)) - 1) ** 2 / 16\n",
    "# fix1_dens = 72 * pi ** 1.5 * gamma(varange(1, 21))\n",
    "# fix1_csa = fix1_args ** .75 * gamma(varange(1.5, 21)) / fix1_dens\n",
    "# fix1_csb = fix1_args ** 1.25 * gamma(varange((.5, 1.5, 2.5), 21)) / fix1_dens\n",
    "\n",
    "\n",
    "# def cvm_unif_fix1(statistic):\n",
    "#     \"\"\"\n",
    "#     Approximates the first-term of the small sample count Gotze expansion.\n",
    "\n",
    "#     After equation 1.10 (with coefficients pulled out as csa / csb).\n",
    "#     \"\"\"\n",
    "#     args = fix1_args / statistic\n",
    "#     kvs = kv((.25, .75, 1.25), args[:, :, newaxis])\n",
    "#     gs, hs = exp(-args) * tensordot(((1, 1, 0), (2, 3, -1)), kvs, axes=(1, 2))\n",
    "#     a = dot((7, 16, 7), fix1_csa * gs).sum() / statistic ** 1.5\n",
    "#     b = dot((1, 0, 24), fix1_csb * hs).sum() / statistic ** 2.5\n",
    "#     return cvm_unif_inf(statistic) / 12 - a - b\n",
    "    \n",
    "# def CVMtest(kap_meier, R, **args):\n",
    "#     x1 = kap_meier.timeline\n",
    "#     n = len(x1)\n",
    "#     y1 = kap_meier.survival_function_.to_numpy().reshape((n))\n",
    "#     y2 = np.linspace(1, np.min(y1), n)\n",
    "#     y3 = R(x1, **args)\n",
    "\n",
    "#     stat = 1/(12*n) + ((y3-y2)**2).sum()\n",
    "#     p_valeur = cvm_unif(n).sf(stat)\n",
    "#     return stat, p_valeur"
   ]
  },
  {
   "cell_type": "code",
   "execution_count": 27,
   "metadata": {
    "executionInfo": {
     "elapsed": 102376,
     "status": "ok",
     "timestamp": 1607626233139,
     "user": {
      "displayName": "Nguyen Bao",
      "photoUrl": "https://lh3.googleusercontent.com/a-/AOh14Gjw7M03YsQjaWXfKVf3GckShdGXMown08YblXnIzQ=s64",
      "userId": "00428871316513598663"
     },
     "user_tz": -60
    },
    "id": "kMf7gitVDEcY"
   },
   "outputs": [],
   "source": [
    "# # exponential\n",
    "# T = 10 # time T : end of contract\n",
    "# lamb = models('B')[dict_model['Exponential']].lambda_ # parameter of exponential distribution\n",
    "# SN_sim = combined[combined[\"PN\"]==\"B\"]\n",
    "# print(len(np.unique(SN_sim[\"SN\"])))\n",
    "\n",
    "# rand_draw_func = np.random.exponential\n",
    "\n",
    "# def num_of_fails_indivi(TSI, T, rand_draw_func, **args):\n",
    "#     n_fails = -1 # once the algo enter the loop, n_fails is at least 1\n",
    "#     sum_t = 0\n",
    "#     while sum_t <= T:\n",
    "#         t = rand_draw_func(**args)\n",
    "#         sum_t += t\n",
    "#         n_fails += 1\n",
    "#     return n_fails\n",
    "\n",
    "# def num_of_fails_list(TSI_list, T, rand_draw_func, **args):\n",
    "#     n_fails_list = []\n",
    "#     for TSI in TSI_list:\n",
    "#         n_fails = num_of_fails_indivi(TSI, T, rand_draw_func, **args)\n",
    "#         n_fails_list += [n_fails]\n",
    "#     total_fails = np.sum(n_fails_list)\n",
    "#     return total_fails\n",
    "\n",
    "\n"
   ]
  }
 ],
 "metadata": {
  "colab": {
   "collapsed_sections": [],
   "name": "FlightDataAnalysis-git.ipynb",
   "provenance": [],
   "toc_visible": true
  },
  "kernelspec": {
   "display_name": "Python 3",
   "language": "python",
   "name": "python3"
  },
  "language_info": {
   "codemirror_mode": {
    "name": "ipython",
    "version": 3
   },
   "file_extension": ".py",
   "mimetype": "text/x-python",
   "name": "python",
   "nbconvert_exporter": "python",
   "pygments_lexer": "ipython3",
   "version": "3.8.2"
  }
 },
 "nbformat": 4,
 "nbformat_minor": 1
}
